{
  "nbformat": 4,
  "nbformat_minor": 0,
  "metadata": {
    "colab": {
      "name": "Average Attack.ipynb",
      "provenance": []
    },
    "kernelspec": {
      "name": "python3",
      "display_name": "Python 3"
    },
    "language_info": {
      "name": "python"
    }
  },
  "cells": [
    {
      "cell_type": "code",
      "metadata": {
        "colab": {
          "base_uri": "https://localhost:8080/"
        },
        "id": "nvL0ZW5uA9LB",
        "outputId": "a325961c-d557-4ae0-8190-681400dd85e2"
      },
      "source": [
        "!pip install pyspark\n",
        "!pip install -U -q PyDrive\n",
        "!sudo apt update\n",
        "!apt install openjdk-8-jdk-headless -qq\n",
        "import os\n",
        "os.environ[\"JAVA_HOME\"] = \"/usr/lib/jvm/java-8-openjdk-amd64\""
      ],
      "execution_count": 1,
      "outputs": [
        {
          "output_type": "stream",
          "text": [
            "Collecting pyspark\n",
            "\u001b[?25l  Downloading https://files.pythonhosted.org/packages/45/b0/9d6860891ab14a39d4bddf80ba26ce51c2f9dc4805e5c6978ac0472c120a/pyspark-3.1.1.tar.gz (212.3MB)\n",
            "\u001b[K     |████████████████████████████████| 212.3MB 67kB/s \n",
            "\u001b[?25hCollecting py4j==0.10.9\n",
            "\u001b[?25l  Downloading https://files.pythonhosted.org/packages/9e/b6/6a4fb90cd235dc8e265a6a2067f2a2c99f0d91787f06aca4bcf7c23f3f80/py4j-0.10.9-py2.py3-none-any.whl (198kB)\n",
            "\u001b[K     |████████████████████████████████| 204kB 45.5MB/s \n",
            "\u001b[?25hBuilding wheels for collected packages: pyspark\n",
            "  Building wheel for pyspark (setup.py) ... \u001b[?25l\u001b[?25hdone\n",
            "  Created wheel for pyspark: filename=pyspark-3.1.1-py2.py3-none-any.whl size=212767604 sha256=e8ffc8e854b06e68c53227a8461b6f394fc83342b581d7a10cc9c8e32cfd516b\n",
            "  Stored in directory: /root/.cache/pip/wheels/0b/90/c0/01de724414ef122bd05f056541fb6a0ecf47c7ca655f8b3c0f\n",
            "Successfully built pyspark\n",
            "Installing collected packages: py4j, pyspark\n",
            "Successfully installed py4j-0.10.9 pyspark-3.1.1\n",
            "Ign:1 https://developer.download.nvidia.com/compute/cuda/repos/ubuntu1804/x86_64  InRelease\n",
            "Get:2 https://cloud.r-project.org/bin/linux/ubuntu bionic-cran40/ InRelease [3,626 B]\n",
            "Get:3 http://ppa.launchpad.net/c2d4u.team/c2d4u4.0+/ubuntu bionic InRelease [15.9 kB]\n",
            "Hit:4 http://archive.ubuntu.com/ubuntu bionic InRelease\n",
            "Get:5 http://security.ubuntu.com/ubuntu bionic-security InRelease [88.7 kB]\n",
            "Ign:6 https://developer.download.nvidia.com/compute/machine-learning/repos/ubuntu1804/x86_64  InRelease\n",
            "Get:7 https://developer.download.nvidia.com/compute/cuda/repos/ubuntu1804/x86_64  Release [697 B]\n",
            "Hit:8 https://developer.download.nvidia.com/compute/machine-learning/repos/ubuntu1804/x86_64  Release\n",
            "Get:9 https://developer.download.nvidia.com/compute/cuda/repos/ubuntu1804/x86_64  Release.gpg [836 B]\n",
            "Get:10 http://archive.ubuntu.com/ubuntu bionic-updates InRelease [88.7 kB]\n",
            "Get:11 https://cloud.r-project.org/bin/linux/ubuntu bionic-cran40/ Packages [55.5 kB]\n",
            "Hit:12 http://ppa.launchpad.net/cran/libgit2/ubuntu bionic InRelease\n",
            "Get:14 http://archive.ubuntu.com/ubuntu bionic-backports InRelease [74.6 kB]\n",
            "Hit:15 http://ppa.launchpad.net/deadsnakes/ppa/ubuntu bionic InRelease\n",
            "Ign:16 https://developer.download.nvidia.com/compute/cuda/repos/ubuntu1804/x86_64  Packages\n",
            "Get:16 https://developer.download.nvidia.com/compute/cuda/repos/ubuntu1804/x86_64  Packages [770 kB]\n",
            "Get:17 http://ppa.launchpad.net/graphics-drivers/ppa/ubuntu bionic InRelease [21.3 kB]\n",
            "Get:18 http://ppa.launchpad.net/c2d4u.team/c2d4u4.0+/ubuntu bionic/main Sources [1,759 kB]\n",
            "Get:19 http://archive.ubuntu.com/ubuntu bionic-updates/main amd64 Packages [2,550 kB]\n",
            "Get:20 http://archive.ubuntu.com/ubuntu bionic-updates/universe amd64 Packages [2,182 kB]\n",
            "Get:21 http://ppa.launchpad.net/c2d4u.team/c2d4u4.0+/ubuntu bionic/main amd64 Packages [900 kB]\n",
            "Get:22 http://ppa.launchpad.net/graphics-drivers/ppa/ubuntu bionic/main amd64 Packages [49.5 kB]\n",
            "Fetched 8,561 kB in 3s (3,122 kB/s)\n",
            "Reading package lists... Done\n",
            "Building dependency tree       \n",
            "Reading state information... Done\n",
            "55 packages can be upgraded. Run 'apt list --upgradable' to see them.\n",
            "The following package was automatically installed and is no longer required:\n",
            "  libnvidia-common-460\n",
            "Use 'apt autoremove' to remove it.\n",
            "The following additional packages will be installed:\n",
            "  openjdk-8-jre-headless\n",
            "Suggested packages:\n",
            "  openjdk-8-demo openjdk-8-source libnss-mdns fonts-dejavu-extra\n",
            "  fonts-ipafont-gothic fonts-ipafont-mincho fonts-wqy-microhei\n",
            "  fonts-wqy-zenhei fonts-indic\n",
            "The following NEW packages will be installed:\n",
            "  openjdk-8-jdk-headless openjdk-8-jre-headless\n",
            "0 upgraded, 2 newly installed, 0 to remove and 55 not upgraded.\n",
            "Need to get 36.5 MB of archives.\n",
            "After this operation, 143 MB of additional disk space will be used.\n",
            "Selecting previously unselected package openjdk-8-jre-headless:amd64.\n",
            "(Reading database ... 160706 files and directories currently installed.)\n",
            "Preparing to unpack .../openjdk-8-jre-headless_8u292-b10-0ubuntu1~18.04_amd64.deb ...\n",
            "Unpacking openjdk-8-jre-headless:amd64 (8u292-b10-0ubuntu1~18.04) ...\n",
            "Selecting previously unselected package openjdk-8-jdk-headless:amd64.\n",
            "Preparing to unpack .../openjdk-8-jdk-headless_8u292-b10-0ubuntu1~18.04_amd64.deb ...\n",
            "Unpacking openjdk-8-jdk-headless:amd64 (8u292-b10-0ubuntu1~18.04) ...\n",
            "Setting up openjdk-8-jre-headless:amd64 (8u292-b10-0ubuntu1~18.04) ...\n",
            "update-alternatives: using /usr/lib/jvm/java-8-openjdk-amd64/jre/bin/orbd to provide /usr/bin/orbd (orbd) in auto mode\n",
            "update-alternatives: using /usr/lib/jvm/java-8-openjdk-amd64/jre/bin/servertool to provide /usr/bin/servertool (servertool) in auto mode\n",
            "update-alternatives: using /usr/lib/jvm/java-8-openjdk-amd64/jre/bin/tnameserv to provide /usr/bin/tnameserv (tnameserv) in auto mode\n",
            "Setting up openjdk-8-jdk-headless:amd64 (8u292-b10-0ubuntu1~18.04) ...\n",
            "update-alternatives: using /usr/lib/jvm/java-8-openjdk-amd64/bin/idlj to provide /usr/bin/idlj (idlj) in auto mode\n",
            "update-alternatives: using /usr/lib/jvm/java-8-openjdk-amd64/bin/wsimport to provide /usr/bin/wsimport (wsimport) in auto mode\n",
            "update-alternatives: using /usr/lib/jvm/java-8-openjdk-amd64/bin/jsadebugd to provide /usr/bin/jsadebugd (jsadebugd) in auto mode\n",
            "update-alternatives: using /usr/lib/jvm/java-8-openjdk-amd64/bin/native2ascii to provide /usr/bin/native2ascii (native2ascii) in auto mode\n",
            "update-alternatives: using /usr/lib/jvm/java-8-openjdk-amd64/bin/javah to provide /usr/bin/javah (javah) in auto mode\n",
            "update-alternatives: using /usr/lib/jvm/java-8-openjdk-amd64/bin/hsdb to provide /usr/bin/hsdb (hsdb) in auto mode\n",
            "update-alternatives: using /usr/lib/jvm/java-8-openjdk-amd64/bin/clhsdb to provide /usr/bin/clhsdb (clhsdb) in auto mode\n",
            "update-alternatives: using /usr/lib/jvm/java-8-openjdk-amd64/bin/extcheck to provide /usr/bin/extcheck (extcheck) in auto mode\n",
            "update-alternatives: using /usr/lib/jvm/java-8-openjdk-amd64/bin/schemagen to provide /usr/bin/schemagen (schemagen) in auto mode\n",
            "update-alternatives: using /usr/lib/jvm/java-8-openjdk-amd64/bin/xjc to provide /usr/bin/xjc (xjc) in auto mode\n",
            "update-alternatives: using /usr/lib/jvm/java-8-openjdk-amd64/bin/jhat to provide /usr/bin/jhat (jhat) in auto mode\n",
            "update-alternatives: using /usr/lib/jvm/java-8-openjdk-amd64/bin/wsgen to provide /usr/bin/wsgen (wsgen) in auto mode\n"
          ],
          "name": "stdout"
        }
      ]
    },
    {
      "cell_type": "code",
      "metadata": {
        "id": "X4KwiWNRA_nu"
      },
      "source": [
        "from pydrive.auth import GoogleAuth\n",
        "from pydrive.drive import GoogleDrive\n",
        "from google.colab import auth\n",
        "from oauth2client.client import GoogleCredentials\n",
        "\n",
        "# Authenticate and create the PyDrive client\n",
        "auth.authenticate_user()\n",
        "gauth = GoogleAuth()\n",
        "gauth.credentials = GoogleCredentials.get_application_default()\n",
        "drive = GoogleDrive(gauth)"
      ],
      "execution_count": 2,
      "outputs": []
    },
    {
      "cell_type": "code",
      "metadata": {
        "id": "hFwpCd9NBCSq"
      },
      "source": [
        "id='1QtPy_HuIMSzhtYllT3-WeM3Sqg55wK_D'\n",
        "downloaded = drive.CreateFile({'id': id})\n",
        "downloaded.GetContentFile('MovieLens.training')\n",
        "\n",
        "id='1ePqnsQTJRRvQcBoF2EhoPU8CU1i5byHK'\n",
        "downloaded = drive.CreateFile({'id': id})\n",
        "downloaded.GetContentFile('MovieLens.test')\n",
        "\n",
        "id='1ncUBWdI5AIt3FDUJokbMqpHD2knd5ebp'\n",
        "downloaded = drive.CreateFile({'id': id})\n",
        "downloaded.GetContentFile('MovieLens.item')"
      ],
      "execution_count": 3,
      "outputs": []
    },
    {
      "cell_type": "code",
      "metadata": {
        "id": "ouE1Cp21BD1x"
      },
      "source": [
        "import pandas as pd\n",
        "import numpy as np\n",
        "import matplotlib.pyplot as plt\n",
        "import random\n",
        "from tabulate import tabulate\n",
        "\n",
        "import pyspark\n",
        "from pyspark.sql import *\n",
        "from pyspark.sql.types import *\n",
        "from pyspark.sql.functions import *\n",
        "from pyspark import SparkContext, SparkConf\n",
        "\n",
        "from pyspark.ml.evaluation import RegressionEvaluator\n",
        "from pyspark.ml.recommendation import ALS\n",
        "from pyspark.sql import Row"
      ],
      "execution_count": 4,
      "outputs": []
    },
    {
      "cell_type": "code",
      "metadata": {
        "id": "W0sStyAdBFzv"
      },
      "source": [
        "# create the session\n",
        "conf = SparkConf().set(\"spark.ui.port\", \"4050\")\n",
        "\n",
        "# create the context\n",
        "sc = pyspark.SparkContext(conf=conf)\n",
        "spark = SparkSession.builder.getOrCreate()"
      ],
      "execution_count": 5,
      "outputs": []
    },
    {
      "cell_type": "code",
      "metadata": {
        "id": "XHoo_-SmBHc5"
      },
      "source": [
        "schema_ratings = StructType([\n",
        "    StructField(\"user_id\", IntegerType(), False),\n",
        "    StructField(\"item_id\", IntegerType(), False),\n",
        "    StructField(\"rating\", IntegerType(), False),\n",
        "    StructField(\"timestamp\", IntegerType(), False)])\n",
        "\n",
        "schema_items = StructType([\n",
        "    StructField(\"item_id\", IntegerType(), False),\n",
        "    StructField(\"movie\", StringType(), False)])\n",
        "\n",
        "training = spark.read.option(\"sep\", \"\\t\").csv(\"MovieLens.training\", header=False, schema=schema_ratings)\n",
        "test = spark.read.option(\"sep\", \"\\t\").csv(\"MovieLens.test\", header=False, schema=schema_ratings)\n",
        "items = spark.read.option(\"sep\", \"|\").csv(\"MovieLens.item\", header=False, schema=schema_items)"
      ],
      "execution_count": 6,
      "outputs": []
    },
    {
      "cell_type": "code",
      "metadata": {
        "colab": {
          "base_uri": "https://localhost:8080/",
          "height": 419
        },
        "id": "w3g0ubjIBJYE",
        "outputId": "018b75dc-3509-46ef-8619-67dfd5e75fdc"
      },
      "source": [
        "movie = training.toPandas()\n",
        "movie"
      ],
      "execution_count": 7,
      "outputs": [
        {
          "output_type": "execute_result",
          "data": {
            "text/html": [
              "<div>\n",
              "<style scoped>\n",
              "    .dataframe tbody tr th:only-of-type {\n",
              "        vertical-align: middle;\n",
              "    }\n",
              "\n",
              "    .dataframe tbody tr th {\n",
              "        vertical-align: top;\n",
              "    }\n",
              "\n",
              "    .dataframe thead th {\n",
              "        text-align: right;\n",
              "    }\n",
              "</style>\n",
              "<table border=\"1\" class=\"dataframe\">\n",
              "  <thead>\n",
              "    <tr style=\"text-align: right;\">\n",
              "      <th></th>\n",
              "      <th>user_id</th>\n",
              "      <th>item_id</th>\n",
              "      <th>rating</th>\n",
              "      <th>timestamp</th>\n",
              "    </tr>\n",
              "  </thead>\n",
              "  <tbody>\n",
              "    <tr>\n",
              "      <th>0</th>\n",
              "      <td>1</td>\n",
              "      <td>1</td>\n",
              "      <td>5</td>\n",
              "      <td>874965758</td>\n",
              "    </tr>\n",
              "    <tr>\n",
              "      <th>1</th>\n",
              "      <td>1</td>\n",
              "      <td>2</td>\n",
              "      <td>3</td>\n",
              "      <td>876893171</td>\n",
              "    </tr>\n",
              "    <tr>\n",
              "      <th>2</th>\n",
              "      <td>1</td>\n",
              "      <td>3</td>\n",
              "      <td>4</td>\n",
              "      <td>878542960</td>\n",
              "    </tr>\n",
              "    <tr>\n",
              "      <th>3</th>\n",
              "      <td>1</td>\n",
              "      <td>4</td>\n",
              "      <td>3</td>\n",
              "      <td>876893119</td>\n",
              "    </tr>\n",
              "    <tr>\n",
              "      <th>4</th>\n",
              "      <td>1</td>\n",
              "      <td>5</td>\n",
              "      <td>3</td>\n",
              "      <td>889751712</td>\n",
              "    </tr>\n",
              "    <tr>\n",
              "      <th>...</th>\n",
              "      <td>...</td>\n",
              "      <td>...</td>\n",
              "      <td>...</td>\n",
              "      <td>...</td>\n",
              "    </tr>\n",
              "    <tr>\n",
              "      <th>79995</th>\n",
              "      <td>943</td>\n",
              "      <td>1067</td>\n",
              "      <td>2</td>\n",
              "      <td>875501756</td>\n",
              "    </tr>\n",
              "    <tr>\n",
              "      <th>79996</th>\n",
              "      <td>943</td>\n",
              "      <td>1074</td>\n",
              "      <td>4</td>\n",
              "      <td>888640250</td>\n",
              "    </tr>\n",
              "    <tr>\n",
              "      <th>79997</th>\n",
              "      <td>943</td>\n",
              "      <td>1188</td>\n",
              "      <td>3</td>\n",
              "      <td>888640250</td>\n",
              "    </tr>\n",
              "    <tr>\n",
              "      <th>79998</th>\n",
              "      <td>943</td>\n",
              "      <td>1228</td>\n",
              "      <td>3</td>\n",
              "      <td>888640275</td>\n",
              "    </tr>\n",
              "    <tr>\n",
              "      <th>79999</th>\n",
              "      <td>943</td>\n",
              "      <td>1330</td>\n",
              "      <td>3</td>\n",
              "      <td>888692465</td>\n",
              "    </tr>\n",
              "  </tbody>\n",
              "</table>\n",
              "<p>80000 rows × 4 columns</p>\n",
              "</div>"
            ],
            "text/plain": [
              "       user_id  item_id  rating  timestamp\n",
              "0            1        1       5  874965758\n",
              "1            1        2       3  876893171\n",
              "2            1        3       4  878542960\n",
              "3            1        4       3  876893119\n",
              "4            1        5       3  889751712\n",
              "...        ...      ...     ...        ...\n",
              "79995      943     1067       2  875501756\n",
              "79996      943     1074       4  888640250\n",
              "79997      943     1188       3  888640250\n",
              "79998      943     1228       3  888640275\n",
              "79999      943     1330       3  888692465\n",
              "\n",
              "[80000 rows x 4 columns]"
            ]
          },
          "metadata": {
            "tags": []
          },
          "execution_count": 7
        }
      ]
    },
    {
      "cell_type": "code",
      "metadata": {
        "id": "Kg3hduYoBLQg"
      },
      "source": [
        "l=list(movie.groupby('user_id').count()['item_id'])\n",
        "listofzeros = [0] * 57\n",
        "num_list=l+listofzeros\n",
        "\n",
        "rating_av=movie.groupby('item_id').mean().reset_index(drop=False)[['item_id','rating']]\n",
        "movie_list=list(movie['item_id'])"
      ],
      "execution_count": 8,
      "outputs": []
    },
    {
      "cell_type": "code",
      "metadata": {
        "id": "zM3s7FAAHcks"
      },
      "source": [
        "target_items=[868, 1162, 927, 1521, 1301, 1191]"
      ],
      "execution_count": 34,
      "outputs": []
    },
    {
      "cell_type": "markdown",
      "metadata": {
        "id": "WJU0sgiRV4FI"
      },
      "source": [
        "Create attack data with target and filler items."
      ]
    },
    {
      "cell_type": "code",
      "metadata": {
        "colab": {
          "base_uri": "https://localhost:8080/",
          "height": 419
        },
        "id": "T36OyjtTBYcz",
        "outputId": "3e165321-9677-4678-d7a8-6a0c8fb2d2e4"
      },
      "source": [
        "df_attack = pd.DataFrame(columns = ['user_id', 'item_id', 'rating','timestamp'])\n",
        "for i in range(50):\n",
        "  num_mov=random.choice(num_list)\n",
        "  if (num_mov!=0):\n",
        "    for k in range(np.min([6,num_mov])):\n",
        "      df_attack=df_attack.append({'user_id' : 1001+i, 'item_id' : target_items[k], 'rating' : 5, 'timestamp' : int(874965758)},\n",
        "                ignore_index = True)\n",
        "  if (num_mov>5):\n",
        "    for j in range(num_mov-5):\n",
        "      item_id=random.choice(movie_list)\n",
        "      rating=float(rating_av[rating_av['item_id']==item_id]['rating'])\n",
        "      df_attack=df_attack.append({'user_id' : 1001+i, 'item_id' : item_id, 'rating' :int(np.round(rating)), 'timestamp' : int(874965758)},\n",
        "                ignore_index = True)\n",
        "df_attack"
      ],
      "execution_count": 21,
      "outputs": [
        {
          "output_type": "execute_result",
          "data": {
            "text/html": [
              "<div>\n",
              "<style scoped>\n",
              "    .dataframe tbody tr th:only-of-type {\n",
              "        vertical-align: middle;\n",
              "    }\n",
              "\n",
              "    .dataframe tbody tr th {\n",
              "        vertical-align: top;\n",
              "    }\n",
              "\n",
              "    .dataframe thead th {\n",
              "        text-align: right;\n",
              "    }\n",
              "</style>\n",
              "<table border=\"1\" class=\"dataframe\">\n",
              "  <thead>\n",
              "    <tr style=\"text-align: right;\">\n",
              "      <th></th>\n",
              "      <th>user_id</th>\n",
              "      <th>item_id</th>\n",
              "      <th>rating</th>\n",
              "      <th>timestamp</th>\n",
              "    </tr>\n",
              "  </thead>\n",
              "  <tbody>\n",
              "    <tr>\n",
              "      <th>0</th>\n",
              "      <td>1001</td>\n",
              "      <td>868</td>\n",
              "      <td>5</td>\n",
              "      <td>874965758</td>\n",
              "    </tr>\n",
              "    <tr>\n",
              "      <th>1</th>\n",
              "      <td>1001</td>\n",
              "      <td>1162</td>\n",
              "      <td>5</td>\n",
              "      <td>874965758</td>\n",
              "    </tr>\n",
              "    <tr>\n",
              "      <th>2</th>\n",
              "      <td>1001</td>\n",
              "      <td>927</td>\n",
              "      <td>5</td>\n",
              "      <td>874965758</td>\n",
              "    </tr>\n",
              "    <tr>\n",
              "      <th>3</th>\n",
              "      <td>1001</td>\n",
              "      <td>1521</td>\n",
              "      <td>5</td>\n",
              "      <td>874965758</td>\n",
              "    </tr>\n",
              "    <tr>\n",
              "      <th>4</th>\n",
              "      <td>1001</td>\n",
              "      <td>1301</td>\n",
              "      <td>5</td>\n",
              "      <td>874965758</td>\n",
              "    </tr>\n",
              "    <tr>\n",
              "      <th>...</th>\n",
              "      <td>...</td>\n",
              "      <td>...</td>\n",
              "      <td>...</td>\n",
              "      <td>...</td>\n",
              "    </tr>\n",
              "    <tr>\n",
              "      <th>3479</th>\n",
              "      <td>1050</td>\n",
              "      <td>936</td>\n",
              "      <td>4</td>\n",
              "      <td>874965758</td>\n",
              "    </tr>\n",
              "    <tr>\n",
              "      <th>3480</th>\n",
              "      <td>1050</td>\n",
              "      <td>28</td>\n",
              "      <td>4</td>\n",
              "      <td>874965758</td>\n",
              "    </tr>\n",
              "    <tr>\n",
              "      <th>3481</th>\n",
              "      <td>1050</td>\n",
              "      <td>248</td>\n",
              "      <td>4</td>\n",
              "      <td>874965758</td>\n",
              "    </tr>\n",
              "    <tr>\n",
              "      <th>3482</th>\n",
              "      <td>1050</td>\n",
              "      <td>249</td>\n",
              "      <td>3</td>\n",
              "      <td>874965758</td>\n",
              "    </tr>\n",
              "    <tr>\n",
              "      <th>3483</th>\n",
              "      <td>1050</td>\n",
              "      <td>647</td>\n",
              "      <td>4</td>\n",
              "      <td>874965758</td>\n",
              "    </tr>\n",
              "  </tbody>\n",
              "</table>\n",
              "<p>3484 rows × 4 columns</p>\n",
              "</div>"
            ],
            "text/plain": [
              "     user_id item_id rating  timestamp\n",
              "0       1001     868      5  874965758\n",
              "1       1001    1162      5  874965758\n",
              "2       1001     927      5  874965758\n",
              "3       1001    1521      5  874965758\n",
              "4       1001    1301      5  874965758\n",
              "...      ...     ...    ...        ...\n",
              "3479    1050     936      4  874965758\n",
              "3480    1050      28      4  874965758\n",
              "3481    1050     248      4  874965758\n",
              "3482    1050     249      3  874965758\n",
              "3483    1050     647      4  874965758\n",
              "\n",
              "[3484 rows x 4 columns]"
            ]
          },
          "metadata": {
            "tags": []
          },
          "execution_count": 21
        }
      ]
    },
    {
      "cell_type": "code",
      "metadata": {
        "id": "fEigvnAfBdyN"
      },
      "source": [
        "attack = pd.concat([movie, df_attack]).sort_values(by=['user_id', 'item_id'])\n",
        "attackDF = spark.createDataFrame(attack)\n"
      ],
      "execution_count": 25,
      "outputs": []
    },
    {
      "cell_type": "markdown",
      "metadata": {
        "id": "ZaFbHdNjV-Wn"
      },
      "source": [
        "Previous Data:"
      ]
    },
    {
      "cell_type": "code",
      "metadata": {
        "colab": {
          "base_uri": "https://localhost:8080/"
        },
        "id": "Gx4o4OBtBmsK",
        "outputId": "a3395b7f-6b89-433c-c77f-2015f3593e5b"
      },
      "source": [
        "# 0.1\n",
        "als = ALS(maxIter=10, rank=100, regParam=0.1, userCol=\"user_id\", itemCol=\"item_id\", ratingCol=\"rating\", coldStartStrategy=\"drop\")\n",
        "model = als.fit(training)\n",
        "predictions = model.transform(test)\n",
        "evaluator = RegressionEvaluator(metricName=\"rmse\", labelCol=\"rating\", predictionCol=\"prediction\")\n",
        "rmse = evaluator.evaluate(predictions)\n",
        "rmse"
      ],
      "execution_count": 23,
      "outputs": [
        {
          "output_type": "execute_result",
          "data": {
            "text/plain": [
              "0.9286003852852349"
            ]
          },
          "metadata": {
            "tags": []
          },
          "execution_count": 23
        }
      ]
    },
    {
      "cell_type": "code",
      "metadata": {
        "id": "ZcsipGIbBnOy"
      },
      "source": [
        "userRecs = model.recommendForAllUsers(10)\n",
        "userRecs = userRecs.toPandas()"
      ],
      "execution_count": null,
      "outputs": []
    },
    {
      "cell_type": "markdown",
      "metadata": {
        "id": "dF8BTTEWWDJF"
      },
      "source": [
        "New Data:"
      ]
    },
    {
      "cell_type": "code",
      "metadata": {
        "colab": {
          "base_uri": "https://localhost:8080/"
        },
        "id": "mN39fNduBqrJ",
        "outputId": "1a8687cf-0f2e-4d5f-84ec-d9162ed5b62f"
      },
      "source": [
        "\n",
        "# 0.1\n",
        "#attackDF = spark.createDataFrame(attackTrainData)\n",
        "als_atk = ALS(maxIter=10, rank=100, regParam=0.1, userCol=\"user_id\", itemCol=\"item_id\", ratingCol=\"rating\", coldStartStrategy=\"drop\")\n",
        "model_atk = als_atk.fit(attackDF)\n",
        "predictions_atk = model_atk.transform(test)\n",
        "evaluator_atk = RegressionEvaluator(metricName=\"rmse\", labelCol=\"rating\", predictionCol=\"prediction\")\n",
        "rmse_atk = evaluator_atk.evaluate(predictions_atk)\n",
        "rmse_atk"
      ],
      "execution_count": 28,
      "outputs": [
        {
          "output_type": "execute_result",
          "data": {
            "text/plain": [
              "0.9285971054950637"
            ]
          },
          "metadata": {
            "tags": []
          },
          "execution_count": 28
        }
      ]
    },
    {
      "cell_type": "code",
      "metadata": {
        "id": "txQXIxkGBsjf"
      },
      "source": [
        "def prediction_shift(predBefore, predAtk, target_users, testDf):\n",
        "    \n",
        "    targetUsersTest = testDf[testDf.user_id.isin(target_users)]\n",
        "    numTargetUsersInTest = len(targetUsersTest.user_id.unique())\n",
        "    print(f'Number of target users in test: {numTargetUsersInTest}')\n",
        "    \n",
        "    # - Prediction shift across targetted users\n",
        "    predAttackTargetUser = predAtk[predAtk.user_id.isin(target_users)].sort_values(['user_id', 'item_id']).prediction\n",
        "    predTargetUser = predBefore[predBefore.user_id.isin(target_users)].sort_values(['user_id', 'item_id']).prediction\n",
        "    targetUserPredShift = np.sum(predAttackTargetUser - predTargetUser)/numTargetUsersInTest\n",
        "    \n",
        "    predAfterAttack = predAtk.sort_values(['user_id', 'item_id']).prediction\n",
        "    predBeforeAttack = predBefore.sort_values(['user_id', 'item_id']).prediction\n",
        "    allUsersPredShift = np.sum(predAfterAttack - predBeforeAttack)/len(testDf.user_id.unique())\n",
        "    \n",
        "    return (allUsersPredShift, targetUserPredShift)"
      ],
      "execution_count": 32,
      "outputs": []
    },
    {
      "cell_type": "markdown",
      "metadata": {
        "id": "rdD9NQJHVvPC"
      },
      "source": [
        "No selected items, no taret user."
      ]
    },
    {
      "cell_type": "code",
      "metadata": {
        "colab": {
          "base_uri": "https://localhost:8080/"
        },
        "id": "BUDvlA89L4nu",
        "outputId": "624497ae-4e4d-435c-d988-c00ae12b9360"
      },
      "source": [
        "trainDf = training.toPandas()\n",
        "testDf = test.toPandas()\n",
        "selected_items=[]\n",
        "NUM_SEL_ITEMS = 0\n",
        "# - create target users  \n",
        "def getTargetUsers(targetItems):\n",
        "    users_rated_target = set(trainDf[trainDf.item_id.isin(targetItems)].user_id.values)\n",
        "    # - Users who have not rated target item\n",
        "    data_tmp = trainDf[~trainDf.user_id.isin(users_rated_target)].copy()\n",
        "    #data_tmp = data_tmp[data_tmp.rating >= threshold]\n",
        "\n",
        "    # - Users who have not rated target item and have rated selected_items\n",
        "    target_users = data_tmp[data_tmp.item_id.isin(selected_items)].groupby('user_id').size()\n",
        "    \n",
        "    print(\"Number of target users: \", \n",
        "           target_users[(target_users == NUM_SEL_ITEMS)].shape[0])\n",
        "    target_users = sorted(target_users[(target_users == NUM_SEL_ITEMS)].index)\n",
        "    return target_users\n",
        "target_users = getTargetUsers(target_items)\n",
        "print(\"target_users: \", len(target_users))"
      ],
      "execution_count": 40,
      "outputs": [
        {
          "output_type": "stream",
          "text": [
            "Number of target users:  0\n",
            "target_users:  0\n"
          ],
          "name": "stdout"
        }
      ]
    },
    {
      "cell_type": "code",
      "metadata": {
        "colab": {
          "base_uri": "https://localhost:8080/"
        },
        "id": "g98PGiraBuNU",
        "outputId": "aabef789-c73f-45cb-9d5a-475adc5fdfa4"
      },
      "source": [
        "predAtk = predictions_atk.toPandas()\n",
        "predBefore = predictions.toPandas()\n",
        "allUsersPredShift, targetUserPredShift = prediction_shift(predBefore, predAtk, target_users, testDf)"
      ],
      "execution_count": 41,
      "outputs": [
        {
          "output_type": "stream",
          "text": [
            "Number of target users in test: 0\n"
          ],
          "name": "stdout"
        },
        {
          "output_type": "stream",
          "text": [
            "/usr/local/lib/python3.7/dist-packages/ipykernel_launcher.py:10: RuntimeWarning: invalid value encountered in true_divide\n",
            "  # Remove the CWD from sys.path while we load stuff.\n"
          ],
          "name": "stderr"
        }
      ]
    },
    {
      "cell_type": "code",
      "metadata": {
        "id": "gxJsv6xxBvqy"
      },
      "source": [
        "print(\"Prediction shift - Target users: \", targetUserPredShift)\n"
      ],
      "execution_count": null,
      "outputs": []
    },
    {
      "cell_type": "code",
      "metadata": {
        "colab": {
          "base_uri": "https://localhost:8080/"
        },
        "id": "uHVXCHhgBw4K",
        "outputId": "34dd8447-ddc9-4eb9-d44d-3e5b5d500f40"
      },
      "source": [
        "print(\"Prediction shift - All users: \", allUsersPredShift)\n"
      ],
      "execution_count": 42,
      "outputs": [
        {
          "output_type": "stream",
          "text": [
            "Prediction shift - All users:  0.12731612793500646\n"
          ],
          "name": "stdout"
        }
      ]
    },
    {
      "cell_type": "code",
      "metadata": {
        "colab": {
          "base_uri": "https://localhost:8080/"
        },
        "id": "oCnVySZiBzS-",
        "outputId": "aee5b1ff-78e4-4341-ab17-fba5bae2a2fd"
      },
      "source": [
        "# - Number of chosen target items in test set\n",
        "testDf[testDf.item_id.isin(target_items)].item_id.unique().size"
      ],
      "execution_count": 43,
      "outputs": [
        {
          "output_type": "execute_result",
          "data": {
            "text/plain": [
              "5"
            ]
          },
          "metadata": {
            "tags": []
          },
          "execution_count": 43
        }
      ]
    },
    {
      "cell_type": "code",
      "metadata": {
        "id": "sDot00WDB1Tm"
      },
      "source": [
        "def getTopNRecommendations(test_model, testUserIds, n=10):\n",
        "    recommendations = {}\n",
        "    userRecs = test_model.recommendForAllUsers(10)\n",
        "    userRecs = userRecs.toPandas()\n",
        "    \n",
        "    for index, row in userRecs.iterrows():\n",
        "        if row['user_id'] in testUserIds:\n",
        "            userRec = [r['item_id'] for r in row['recommendations']]\n",
        "            recommendations[row['user_id']] = userRec \n",
        "    return recommendations\n",
        "\n",
        "def filterRecsByTargetItem(recommendations, targetItems):\n",
        "    recWithTargetItems = {}\n",
        "    for user_id in recommendations.keys():\n",
        "        topNRec = recommendations[user_id]\n",
        "        is_target_item_present = any(item in topNRec for item in targetItems)\n",
        "        if is_target_item_present:\n",
        "            recWithTargetItems[user_id] = topNRec\n",
        "            #print(user_id, topNRec)\n",
        "    \n",
        "    return recWithTargetItems"
      ],
      "execution_count": 44,
      "outputs": []
    },
    {
      "cell_type": "code",
      "metadata": {
        "colab": {
          "base_uri": "https://localhost:8080/"
        },
        "id": "3h9IaOheB25q",
        "outputId": "7d82cc9e-3faa-46ab-a247-237cc3949a5a"
      },
      "source": [
        "\n",
        "testUserIds = testDf.user_id.unique()\n",
        "topNRecAllUsersAtk = getTopNRecommendations(model_atk, testUserIds)\n",
        "topNRecAllUsersWithTargets = filterRecsByTargetItem(topNRecAllUsersAtk, target_items)\n",
        "print(f'Number of users with targets: {len(topNRecAllUsersWithTargets)}')"
      ],
      "execution_count": 47,
      "outputs": [
        {
          "output_type": "stream",
          "text": [
            "Number of users with targets: 417\n"
          ],
          "name": "stdout"
        }
      ]
    },
    {
      "cell_type": "code",
      "metadata": {
        "colab": {
          "base_uri": "https://localhost:8080/"
        },
        "id": "Bf_PedSNB4_o",
        "outputId": "4a74de24-81cf-423a-eade-3dc99890c730"
      },
      "source": [
        "topNRecAllUsersB4 = getTopNRecommendations(model, testUserIds)\n",
        "topNRecAllUsersWithTargetsB4 = filterRecsByTargetItem(topNRecAllUsersB4, target_items)\n",
        "print(f'Number of users with targets before attack: {len(topNRecAllUsersWithTargetsB4)}')"
      ],
      "execution_count": 48,
      "outputs": [
        {
          "output_type": "stream",
          "text": [
            "Number of users with targets before attack: 2\n"
          ],
          "name": "stdout"
        }
      ]
    },
    {
      "cell_type": "code",
      "metadata": {
        "id": "Di4bEPOOB9cv"
      },
      "source": [
        "def getHitRatioPerItem(topNRecAllUsers, targetItems):\n",
        "    hitRatioAllItems = {}\n",
        "    \n",
        "    for item in targetItems:\n",
        "        usersWithItem = 0\n",
        "        for user in topNRecAllUsers.keys():\n",
        "            if item in topNRecAllUsers[user]:\n",
        "                usersWithItem += 1\n",
        "        hitRatio_i = usersWithItem/(len(topNRecAllUsers.keys()) * 1.0)\n",
        "        hitRatioAllItems[item] = hitRatio_i\n",
        "                                    \n",
        "    return hitRatioAllItems \n",
        "\n",
        "def getAvgHitRatio(hitRatioPerItem):\n",
        "    sumHitRatio = 0\n",
        "    for hitRatio_i in hitRatioPerItem.values():\n",
        "        sumHitRatio += hitRatio_i \n",
        "    return sumHitRatio/(len(hitRatioPerItem.keys()) * 1.0)"
      ],
      "execution_count": 49,
      "outputs": []
    },
    {
      "cell_type": "code",
      "metadata": {
        "colab": {
          "base_uri": "https://localhost:8080/"
        },
        "id": "tFw8D5FkB_Bf",
        "outputId": "b20a5d4f-3568-49c1-c053-9c453cd1c4a3"
      },
      "source": [
        "hitRatioPerItem = getHitRatioPerItem(topNRecAllUsersAtk, target_items)\n",
        "print(\"hitRatioPerItem: \", hitRatioPerItem)\n",
        "avgHitRatio = getAvgHitRatio(hitRatioPerItem)\n",
        "print(\"\\navgHitRatio after attack: \", avgHitRatio)"
      ],
      "execution_count": 50,
      "outputs": [
        {
          "output_type": "stream",
          "text": [
            "hitRatioPerItem:  {868: 0.7342047930283224, 1162: 0.35294117647058826, 927: 0.7320261437908496, 1521: 0.5272331154684096, 1301: 0.7538126361655774, 1191: 0.8649237472766884}\n",
            "\n",
            "avgHitRatio after attack:  0.6608569353667392\n"
          ],
          "name": "stdout"
        }
      ]
    }
  ]
}