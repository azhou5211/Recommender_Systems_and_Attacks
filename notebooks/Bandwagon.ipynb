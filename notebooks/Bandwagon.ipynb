{
 "cells": [
  {
   "cell_type": "markdown",
   "id": "12b2b829",
   "metadata": {},
   "source": [
    "## Contents:\n",
    "* [Load Data](#load-data)\n",
    "* [Observations](#obs)\n",
    "* [Target Item and Users](#target-item-user)\n",
    "* [Create Fake Profile](#create-fake-data)\n",
    "* [Evaluation](#eval-attack)\n",
    " * [Prediction Shift](#pred-shift)\n",
    " * [Hit Ratio](#hit-ratio)\n",
    "* [Random Analysis](#rand-analysis)\n",
    " * [Choose target items which have less rating (long tail items) as target items](#long-tail)\n",
    " * [Choose target items which have rating avg less than 2 randomly](#avg-rating-2)\n",
    " * [Choose target items which have average rating and average popularity](#avg-rating-avgpop)\n",
    " \n",
    " \n",
    "\n",
    "\n"
   ]
  },
  {
   "cell_type": "code",
   "execution_count": 1,
   "id": "5a695f59",
   "metadata": {},
   "outputs": [],
   "source": [
    "import pandas as pd\n",
    "import numpy as np\n",
    "import matplotlib.pyplot as plt\n",
    "import random\n",
    "from tabulate import tabulate\n",
    "\n",
    "import pyspark\n",
    "from pyspark.sql import *\n",
    "from pyspark.sql.types import *\n",
    "from pyspark.sql.functions import *\n",
    "from pyspark import SparkContext, SparkConf\n",
    "\n",
    "from pyspark.ml.evaluation import RegressionEvaluator\n",
    "from pyspark.ml.recommendation import ALS\n",
    "from pyspark.sql import Row"
   ]
  },
  {
   "cell_type": "code",
   "execution_count": 2,
   "id": "b90d0c0c",
   "metadata": {},
   "outputs": [],
   "source": [
    "# create the session\n",
    "conf = SparkConf().set(\"spark.ui.port\", \"4050\")\n",
    "\n",
    "# create the context\n",
    "sc = pyspark.SparkContext(conf=conf)\n",
    "spark = SparkSession.builder.getOrCreate()"
   ]
  },
  {
   "cell_type": "markdown",
   "id": "782a612d",
   "metadata": {},
   "source": [
    "## Load Data <a class=\"anchor\" id=\"load-data\"></a>"
   ]
  },
  {
   "cell_type": "code",
   "execution_count": 3,
   "id": "0b5e0511",
   "metadata": {},
   "outputs": [],
   "source": [
    "schema_ratings = StructType([\n",
    "    StructField(\"user_id\", IntegerType(), False),\n",
    "    StructField(\"item_id\", IntegerType(), False),\n",
    "    StructField(\"rating\", IntegerType(), False),\n",
    "    StructField(\"timestamp\", IntegerType(), False)])\n",
    "\n",
    "schema_items = StructType([\n",
    "    StructField(\"item_id\", IntegerType(), False),\n",
    "    StructField(\"movie\", StringType(), False),\n",
    "    StructField(\"release_date\", StringType(), False),\n",
    "    StructField(\"v_release_date\", StringType(), False),\n",
    "    StructField(\"imdb_url\", StringType(), False),\n",
    "    StructField(\"unknown\", StringType(), False),\n",
    "    StructField(\"action\", StringType(), False),\n",
    "    StructField(\"adventure\", StringType(), False),\n",
    "    StructField(\"animation\", StringType(), False),\n",
    "    StructField(\"childrens\", StringType(), False),\n",
    "    StructField(\"comedy\", StringType(), False),\n",
    "    StructField(\"crime\", StringType(), False),\n",
    "    StructField(\"documentary\", StringType(), False),\n",
    "    StructField(\"drama\", StringType(), False),\n",
    "    StructField(\"fantasy\", StringType(), False),\n",
    "])\n",
    "\n",
    "training = spark.read.option(\"sep\", \"\\t\").csv(\"../data/MovieLens.training\", header=False, schema=schema_ratings)\n",
    "test = spark.read.option(\"sep\", \"\\t\").csv(\"../data/MovieLens.test\", header=False, schema=schema_ratings)\n",
    "items = spark.read.option(\"sep\", \"|\").csv(\"../data/MovieLens.item\", header=False, schema=schema_items)"
   ]
  },
  {
   "cell_type": "code",
   "execution_count": 4,
   "id": "de3ef782",
   "metadata": {},
   "outputs": [
    {
     "name": "stdout",
     "output_type": "stream",
     "text": [
      "num_users: 943 num_items : 1650\n",
      "max_user_id:  943  max_item_id:  1682\n"
     ]
    }
   ],
   "source": [
    "trainDf = training.toPandas()\n",
    "testDf = test.toPandas()\n",
    "num_users, num_items = len(trainDf.user_id.unique()), len(trainDf.item_id.unique())\n",
    "max_uid, max_iid = trainDf.user_id.unique().max(), trainDf.item_id.unique().max()\n",
    "print(f'num_users: {num_users} num_items : {num_items}')\n",
    "print(f'max_user_id: ', max_uid, \" max_item_id: \", max_iid)"
   ]
  },
  {
   "cell_type": "code",
   "execution_count": 5,
   "id": "fdc4cece",
   "metadata": {},
   "outputs": [
    {
     "name": "stdout",
     "output_type": "stream",
     "text": [
      "rating_mean: 3.52835 rating_std: 1.118564668374818\n"
     ]
    }
   ],
   "source": [
    "# - Get ratings mean and rating std\n",
    "stdDf = trainDf.groupby('item_id', as_index=False).agg(rating_mean= ('rating', 'mean'), rating_std= ('rating', 'std'), \n",
    "                                  rating_count = ('rating', 'count'))\n",
    "item_mean = dict(zip(stdDf.item_id,stdDf.rating_mean))\n",
    "item_std = dict(zip(stdDf.item_id,stdDf.rating_std))\n",
    "rating_mean, rating_std = trainDf.rating.mean(), trainDf.rating.std()\n",
    "print(f'rating_mean: {rating_mean} rating_std: {rating_std}')"
   ]
  },
  {
   "cell_type": "code",
   "execution_count": 6,
   "id": "8560ed4e",
   "metadata": {},
   "outputs": [
    {
     "data": {
      "text/plain": [
       "array([[<AxesSubplot:title={'center':'rating_count'}>]], dtype=object)"
      ]
     },
     "execution_count": 6,
     "metadata": {},
     "output_type": "execute_result"
    },
    {
     "data": {
      "image/png": "[encoded data removed]",
      "text/plain": [
       "<Figure size 432x288 with 1 Axes>"
      ]
     },
     "metadata": {
      "needs_background": "light"
     },
     "output_type": "display_data"
    }
   ],
   "source": [
    "# - count of ratings per user\n",
    "userRatingDf = trainDf.groupby('user_id', as_index=False).agg(rating_count= ('rating', 'count')).sort_values(\n",
    "    'rating_count', ascending=False)\n",
    "hist = userRatingDf.hist(column='rating_count', bins=10)\n",
    "hist"
   ]
  },
  {
   "cell_type": "code",
   "execution_count": 7,
   "id": "00d3d933",
   "metadata": {},
   "outputs": [
    {
     "data": {
      "text/html": [
       "<div>\n",
       "<style scoped>\n",
       "    .dataframe tbody tr th:only-of-type {\n",
       "        vertical-align: middle;\n",
       "    }\n",
       "\n",
       "    .dataframe tbody tr th {\n",
       "        vertical-align: top;\n",
       "    }\n",
       "\n",
       "    .dataframe thead th {\n",
       "        text-align: right;\n",
       "    }\n",
       "</style>\n",
       "<table border=\"1\" class=\"dataframe\">\n",
       "  <thead>\n",
       "    <tr style=\"text-align: right;\">\n",
       "      <th></th>\n",
       "      <th>user_id</th>\n",
       "      <th>rating_count</th>\n",
       "    </tr>\n",
       "  </thead>\n",
       "  <tbody>\n",
       "    <tr>\n",
       "      <th>654</th>\n",
       "      <td>655</td>\n",
       "      <td>685</td>\n",
       "    </tr>\n",
       "    <tr>\n",
       "      <th>404</th>\n",
       "      <td>405</td>\n",
       "      <td>582</td>\n",
       "    </tr>\n",
       "    <tr>\n",
       "      <th>449</th>\n",
       "      <td>450</td>\n",
       "      <td>494</td>\n",
       "    </tr>\n",
       "    <tr>\n",
       "      <th>536</th>\n",
       "      <td>537</td>\n",
       "      <td>490</td>\n",
       "    </tr>\n",
       "    <tr>\n",
       "      <th>415</th>\n",
       "      <td>416</td>\n",
       "      <td>417</td>\n",
       "    </tr>\n",
       "    <tr>\n",
       "      <th>...</th>\n",
       "      <td>...</td>\n",
       "      <td>...</td>\n",
       "    </tr>\n",
       "    <tr>\n",
       "      <th>35</th>\n",
       "      <td>36</td>\n",
       "      <td>9</td>\n",
       "    </tr>\n",
       "    <tr>\n",
       "      <th>92</th>\n",
       "      <td>93</td>\n",
       "      <td>9</td>\n",
       "    </tr>\n",
       "    <tr>\n",
       "      <th>257</th>\n",
       "      <td>258</td>\n",
       "      <td>8</td>\n",
       "    </tr>\n",
       "    <tr>\n",
       "      <th>227</th>\n",
       "      <td>228</td>\n",
       "      <td>7</td>\n",
       "    </tr>\n",
       "    <tr>\n",
       "      <th>309</th>\n",
       "      <td>310</td>\n",
       "      <td>4</td>\n",
       "    </tr>\n",
       "  </tbody>\n",
       "</table>\n",
       "<p>943 rows × 2 columns</p>\n",
       "</div>"
      ],
      "text/plain": [
       "     user_id  rating_count\n",
       "654      655           685\n",
       "404      405           582\n",
       "449      450           494\n",
       "536      537           490\n",
       "415      416           417\n",
       "..       ...           ...\n",
       "35        36             9\n",
       "92        93             9\n",
       "257      258             8\n",
       "227      228             7\n",
       "309      310             4\n",
       "\n",
       "[943 rows x 2 columns]"
      ]
     },
     "execution_count": 7,
     "metadata": {},
     "output_type": "execute_result"
    }
   ],
   "source": [
    "userRatingDf[userRatingDf.user_id.isin([88,440, 782])]\n",
    "userRatingDf"
   ]
  },
  {
   "cell_type": "code",
   "execution_count": 8,
   "id": "035e78df",
   "metadata": {},
   "outputs": [
    {
     "data": {
      "text/plain": [
       "array([[<AxesSubplot:title={'center':'rating_mean'}>]], dtype=object)"
      ]
     },
     "execution_count": 8,
     "metadata": {},
     "output_type": "execute_result"
    },
    {
     "data": {
      "image/png": "[encoded data removed]",
      "text/plain": [
       "<Figure size 432x288 with 1 Axes>"
      ]
     },
     "metadata": {
      "needs_background": "light"
     },
     "output_type": "display_data"
    }
   ],
   "source": [
    "# - avg rating of items\n",
    "itemRatingDf = trainDf.groupby('item_id', as_index=False).agg(rating_mean= ('rating', 'mean'), rating_count= ('rating', 'count')).sort_values(\n",
    "    'rating_mean', ascending=False)\n",
    "hist = itemRatingDf.hist(column='rating_mean', bins=5)\n",
    "hist"
   ]
  },
  {
   "cell_type": "code",
   "execution_count": 9,
   "id": "d4fff5f9",
   "metadata": {},
   "outputs": [
    {
     "name": "stdout",
     "output_type": "stream",
     "text": [
      "itemWithratingAbove4: [1189, 1653, 1599, 1500, 1467, 1201, 1122, 1293, 1449, 1367, 408, 169, 850, 1594, 1642, 318, 483, 64, 12, 50, 603, 114, 1191, 119, 1639, 1125, 513, 178, 357, 480, 427, 98, 963, 134, 313, 488, 966, 251, 127, 1396, 1064, 479, 174, 285, 515, 272, 657, 474, 641, 199, 867, 1466, 320, 172, 524, 173, 484, 187, 302, 1142, 511, 1524, 316, 191, 528, 89, 493, 487, 223, 185, 166, 22, 190, 192, 1251, 170, 1131, 647, 478, 498, 489, 100, 48, 633, 520, 505, 315, 165, 496, 923, 606, 661, 79, 23, 490, 654, 124, 180, 30, 651, 45, 197, 589, 168, 1039, 611, 601, 430, 194, 132, 613, 615, 607, 83, 136, 659, 527, 519, 213, 1007, 656, 694, 494, 189, 60, 56, 181, 198, 87, 205]\n",
      "itemWithratingBelow1_5: [1420, 1162, 777, 442, 1287, 424, 1246, 438, 1661, 1350, 1654, 1678, 1354, 1359, 1325, 1366, 1329, 1334, 1671, 1339, 1363, 1340, 1659, 1352, 1349, 1341, 1567, 1374, 1566, 1587, 1307, 1584, 1583, 1581, 1580, 1579, 1577, 1564, 1576, 1575, 1574, 1572, 1571, 1570, 1569, 1308, 1306, 858, 1621, 784, 1546, 1250, 1548, 1568, 1408, 1494, 1618, 1559, 437, 1432, 314, 1486, 1104, 1601, 439, 1626]\n"
     ]
    },
    {
     "data": {
      "text/html": [
       "<div>\n",
       "<style scoped>\n",
       "    .dataframe tbody tr th:only-of-type {\n",
       "        vertical-align: middle;\n",
       "    }\n",
       "\n",
       "    .dataframe tbody tr th {\n",
       "        vertical-align: top;\n",
       "    }\n",
       "\n",
       "    .dataframe thead th {\n",
       "        text-align: right;\n",
       "    }\n",
       "</style>\n",
       "<table border=\"1\" class=\"dataframe\">\n",
       "  <thead>\n",
       "    <tr style=\"text-align: right;\">\n",
       "      <th></th>\n",
       "      <th>user_id</th>\n",
       "      <th>rating_count</th>\n",
       "    </tr>\n",
       "  </thead>\n",
       "  <tbody>\n",
       "    <tr>\n",
       "      <th>781</th>\n",
       "      <td>782</td>\n",
       "      <td>232</td>\n",
       "    </tr>\n",
       "    <tr>\n",
       "      <th>439</th>\n",
       "      <td>440</td>\n",
       "      <td>48</td>\n",
       "    </tr>\n",
       "    <tr>\n",
       "      <th>87</th>\n",
       "      <td>88</td>\n",
       "      <td>11</td>\n",
       "    </tr>\n",
       "  </tbody>\n",
       "</table>\n",
       "</div>"
      ],
      "text/plain": [
       "     user_id  rating_count\n",
       "781      782           232\n",
       "439      440            48\n",
       "87        88            11"
      ]
     },
     "execution_count": 9,
     "metadata": {},
     "output_type": "execute_result"
    }
   ],
   "source": [
    "itemWithratingAbove4 = itemRatingDf[itemRatingDf.rating_mean > 4].item_id.to_list()\n",
    "itemWithratingBelow1_5 = itemRatingDf[itemRatingDf.rating_mean < 1.5].item_id.to_list()\n",
    "print(f'itemWithratingAbove4: {itemWithratingAbove4}')\n",
    "print(f'itemWithratingBelow1_5: {itemWithratingBelow1_5}')\n",
    "#print(f'itemWithratingBelow1: {itemRatingDf[itemRatingDf.item_id == 1191]}')\n",
    "userRatingDf[userRatingDf.user_id.isin(trainDf[trainDf.item_id == 1191].user_id.to_list())]"
   ]
  },
  {
   "cell_type": "markdown",
   "id": "8d52fded",
   "metadata": {},
   "source": [
    "## Observations <a class=\"anchor\" id=\"obs\"></a>\n",
    "* In test set, there were not any target user, target item pair..  Hence when we try to check prediction shift for target user and target item pair we get nothing!!\n",
    "* Item which is least popular as in has less ratings like 3 rating but the 3 rating has a avg of 4.3 in such cases the hit ratio for these items is higher. This was because one of the user among 2 had rated around 220 items.\n",
    "* ##### Long tail items with high avg rating have better hit ratio compared to low avg rating.\n",
    "\n",
    "Note: long tail items (items which have not been seen by manu users or have less number of ratings) "
   ]
  },
  {
   "cell_type": "markdown",
   "id": "fb8235f6",
   "metadata": {},
   "source": [
    "## Selected Items <a class=\"anchor\" id=\"sel-items\"></a>"
   ]
  },
  {
   "cell_type": "code",
   "execution_count": 10,
   "id": "a6464c10",
   "metadata": {},
   "outputs": [],
   "source": [
    "NUM_SEL_ITEMS = 3\n",
    "NUM_FILLER_ITEMS = 90"
   ]
  },
  {
   "cell_type": "code",
   "execution_count": 11,
   "id": "87191c47",
   "metadata": {},
   "outputs": [
    {
     "name": "stdout",
     "output_type": "stream",
     "text": [
      "selected_items:  [ 50 181 258]\n"
     ]
    }
   ],
   "source": [
    "# - Create popular selected item list\n",
    "item_ratings = dict(trainDf.groupby('item_id').size())\n",
    "item_pop = [0] * (max_iid + 1)\n",
    "\n",
    "for item_id in item_ratings.keys():\n",
    "    item_pop[item_id] = item_ratings[item_id]\n",
    "    \n",
    "items_sorted = np.array(item_pop).argsort()[::-1]\n",
    "selected_items = items_sorted[:NUM_SEL_ITEMS]\n",
    "print(\"selected_items: \", selected_items)"
   ]
  },
  {
   "cell_type": "code",
   "execution_count": 12,
   "id": "fded6001",
   "metadata": {},
   "outputs": [
    {
     "data": {
      "text/html": [
       "<div>\n",
       "<style scoped>\n",
       "    .dataframe tbody tr th:only-of-type {\n",
       "        vertical-align: middle;\n",
       "    }\n",
       "\n",
       "    .dataframe tbody tr th {\n",
       "        vertical-align: top;\n",
       "    }\n",
       "\n",
       "    .dataframe thead th {\n",
       "        text-align: right;\n",
       "    }\n",
       "</style>\n",
       "<table border=\"1\" class=\"dataframe\">\n",
       "  <thead>\n",
       "    <tr style=\"text-align: right;\">\n",
       "      <th></th>\n",
       "      <th>item_id</th>\n",
       "      <th>rating_count</th>\n",
       "    </tr>\n",
       "  </thead>\n",
       "  <tbody>\n",
       "    <tr>\n",
       "      <th>49</th>\n",
       "      <td>50</td>\n",
       "      <td>484</td>\n",
       "    </tr>\n",
       "    <tr>\n",
       "      <th>180</th>\n",
       "      <td>181</td>\n",
       "      <td>422</td>\n",
       "    </tr>\n",
       "    <tr>\n",
       "      <th>257</th>\n",
       "      <td>258</td>\n",
       "      <td>402</td>\n",
       "    </tr>\n",
       "  </tbody>\n",
       "</table>\n",
       "</div>"
      ],
      "text/plain": [
       "     item_id  rating_count\n",
       "49        50           484\n",
       "180      181           422\n",
       "257      258           402"
      ]
     },
     "execution_count": 12,
     "metadata": {},
     "output_type": "execute_result"
    }
   ],
   "source": [
    "trainDf.groupby('item_id', as_index=False).agg(\n",
    "    rating_count= ('rating', 'count')).sort_values('rating_count', ascending=False).head(NUM_SEL_ITEMS)"
   ]
  },
  {
   "cell_type": "markdown",
   "id": "e40c1afa",
   "metadata": {},
   "source": [
    "## Target Item and Users <a class=\"anchor\" id=\"target-item-user\"></a>"
   ]
  },
  {
   "cell_type": "code",
   "execution_count": 13,
   "id": "e7a8852c",
   "metadata": {},
   "outputs": [
    {
     "name": "stdout",
     "output_type": "stream",
     "text": [
      "target_items before filtering with test : [420, 1136, 168, 1564, 1647, 1301, 927]\n",
      "target_items: [868, 1162, 927, 1521, 1301, 1191]\n",
      "target_items rating count:  [(868, 3), (1162, 3), (927, 4), (1521, 3), (1301, 4), (1191, 3)]\n"
     ]
    }
   ],
   "source": [
    "# - Select target item\n",
    "target_items = [j for i in range(8, 10) for j in\n",
    "                    items_sorted[i * len(items_sorted) // 10:(i * len(items_sorted) // 10) + 2]][::-1]\n",
    "target_items = list(np.random.choice([i for i in range(len(item_pop)) if item_pop[i] > 3 and item_pop[i] > 9 ], \n",
    "                                     3, replace=False)) + target_items\n",
    "\n",
    "\n",
    "print('target_items before filtering with test :', target_items)\n",
    "target_items = list(testDf[testDf.item_id.isin(target_items)].item_id.unique())\n",
    "#target_items += [1191]\n",
    "\n",
    "# -- HARD CODING VALUES HERE \n",
    "target_items = [868, 1162, 927, 1521, 1301, 1191]\n",
    "#target_items = [992, 1155, 1564, 1647, 1301, 927, 243]\n",
    "print('target_items:', target_items)\n",
    "print('target_items rating count: ', [(i, item_pop[i]) for i in target_items])\n"
   ]
  },
  {
   "cell_type": "code",
   "execution_count": 14,
   "id": "a7fdf341",
   "metadata": {},
   "outputs": [
    {
     "name": "stdout",
     "output_type": "stream",
     "text": [
      "Number of target users:  190\n",
      "target_users:  190\n"
     ]
    }
   ],
   "source": [
    "# - create target users  \n",
    "def getTargetUsers(targetItems):\n",
    "    users_rated_target = set(trainDf[trainDf.item_id.isin(targetItems)].user_id.values)\n",
    "    # - Users who have not rated target item\n",
    "    data_tmp = trainDf[~trainDf.user_id.isin(users_rated_target)].copy()\n",
    "    #data_tmp = data_tmp[data_tmp.rating >= threshold]\n",
    "\n",
    "    # - Users who have not rated target item and have rated selected_items\n",
    "    target_users = data_tmp[data_tmp.item_id.isin(selected_items)].groupby('user_id').size()\n",
    "    \n",
    "    print(\"Number of target users: \", \n",
    "           target_users[(target_users == NUM_SEL_ITEMS)].shape[0])\n",
    "    target_users = sorted(target_users[(target_users == NUM_SEL_ITEMS)].index)\n",
    "    return target_users\n",
    "target_users = getTargetUsers(target_items)\n",
    "print(\"target_users: \", len(target_users))"
   ]
  },
  {
   "cell_type": "markdown",
   "id": "678c3548",
   "metadata": {},
   "source": [
    "## Fake profile creation <a class=\"anchor\" id=\"create-fake-data\"></a>"
   ]
  },
  {
   "cell_type": "code",
   "execution_count": 15,
   "id": "53fcb106",
   "metadata": {},
   "outputs": [],
   "source": [
    "# - get filler items\n",
    "from random import randrange\n",
    "\n",
    "class FakeProfile(object): \n",
    "    MAX_RATING = 5\n",
    "    \n",
    "    def __init__(self, target_items, \n",
    "                 filler_item_count = 70):\n",
    "        self.target_items  = target_items\n",
    "        self.filler_item_count = filler_item_count\n",
    "        self.selected_items = {}\n",
    "        self.filler_items = {}\n",
    "        \n",
    "    def setSelectedItems(self, selectedItems):\n",
    "        #selectedItems = freqRatedItems[np.random.choice(len(freqRatedItems), size=self.selected_items_count, replace=False)]\n",
    "        for item in selectedItems:\n",
    "            self.selected_items[item] = self.MAX_RATING\n",
    "    \n",
    "    def fillerItems(self, selectedItems):\n",
    "        targetSelItems = list(self.target_items)\n",
    "        targetSelItems.extend(selectedItems)\n",
    "        #print(targetSelItems)\n",
    "        fillers_candidates = list(set(trainDf.item_id.unique()) - set(targetSelItems) )\n",
    "        fillers = np.random.choice(fillers_candidates, size=self.filler_item_count, replace=False)\n",
    "        ratings = np.round(np.random.normal(loc=rating_mean, scale=rating_std, size=self.filler_item_count), 1)\n",
    "        for item, rating in zip(fillers, ratings):\n",
    "            self.filler_items[item] = rating\n",
    "                \n",
    "    def create(self, selectedItems):\n",
    "        self.setSelectedItems(selectedItems)\n",
    "        self.fillerItems(selectedItems)\n",
    "        \n",
    "    def print(self):\n",
    "        print(f'target_item : {self.target_items}')\n",
    "        print(f'selected_items : {self.selected_items}')\n",
    "        print(f'filler_items : {self.filler_items}')\n",
    "        print(\"\\n\")\n",
    "        \n",
    "    def getAllItemRatings(self):\n",
    "        itemRatings = [(item, self.MAX_RATING) for item in self.target_items]\n",
    "        for item in self.selected_items:\n",
    "            itemRatings.append((item, self.selected_items[item]))\n",
    "        for item in self.filler_items:\n",
    "            itemRatings.append((item, self.filler_items[item]))\n",
    "        return itemRatings\n",
    "    \n",
    "def createProfiles(targetItems, selected_items, n):\n",
    "    fake_profiles = []\n",
    "    for _ in range(n):\n",
    "        fp = FakeProfile(targetItems)\n",
    "        fp.create(selected_items)\n",
    "        fake_profiles.append(fp)\n",
    "    \n",
    "    '''\n",
    "    # - Uncomment to print\n",
    "    for fp in fake_profiles:\n",
    "        fp.print()\n",
    "    '''\n",
    "    return fake_profiles\n",
    " \n",
    "def createProfilesAsDf(targetItems, selected_items, n):\n",
    "    fake_profiles = createProfiles(targetItems, selected_items, n)\n",
    "    userId = 1100\n",
    "    timestamp = 874965758\n",
    "    fakeRatingsdata = {'userId': [], 'item_id': [], 'ratings': [], 'timestamp': []}\n",
    "    for fp in fake_profiles:\n",
    "        userId += 1\n",
    "        itemRatings = fp.getAllItemRatings()\n",
    "        for itemRatingPair in itemRatings:\n",
    "            fakeRatingsdata['userId'].append(userId)\n",
    "            fakeRatingsdata['item_id'].append(itemRatingPair[0])\n",
    "            fakeRatingsdata['ratings'].append(itemRatingPair[1])\n",
    "            fakeRatingsdata['timestamp'].append(timestamp)\n",
    "\n",
    "    columnsZipped = zip(fakeRatingsdata['userId'], fakeRatingsdata['item_id'],\n",
    "                       fakeRatingsdata['ratings'], fakeRatingsdata['timestamp'])\n",
    "    fakeProfileDf = pd.DataFrame(list(columnsZipped),\n",
    "                   columns =['user_id', 'item_id', 'rating', 'timestamp'])\n",
    "    return fakeProfileDf"
   ]
  },
  {
   "cell_type": "code",
   "execution_count": 16,
   "id": "51bd5a1c",
   "metadata": {},
   "outputs": [],
   "source": [
    "NUM_FAKE_USERS = 50\n",
    "attackDataDf = createProfilesAsDf(target_items, selected_items, NUM_FAKE_USERS)"
   ]
  },
  {
   "cell_type": "code",
   "execution_count": 17,
   "id": "44489b2d",
   "metadata": {},
   "outputs": [
    {
     "data": {
      "text/html": [
       "<div>\n",
       "<style scoped>\n",
       "    .dataframe tbody tr th:only-of-type {\n",
       "        vertical-align: middle;\n",
       "    }\n",
       "\n",
       "    .dataframe tbody tr th {\n",
       "        vertical-align: top;\n",
       "    }\n",
       "\n",
       "    .dataframe thead th {\n",
       "        text-align: right;\n",
       "    }\n",
       "</style>\n",
       "<table border=\"1\" class=\"dataframe\">\n",
       "  <thead>\n",
       "    <tr style=\"text-align: right;\">\n",
       "      <th></th>\n",
       "      <th>user_id</th>\n",
       "      <th>item_id</th>\n",
       "      <th>rating</th>\n",
       "      <th>timestamp</th>\n",
       "    </tr>\n",
       "  </thead>\n",
       "  <tbody>\n",
       "    <tr>\n",
       "      <th>0</th>\n",
       "      <td>1101</td>\n",
       "      <td>868</td>\n",
       "      <td>5.0</td>\n",
       "      <td>874965758</td>\n",
       "    </tr>\n",
       "    <tr>\n",
       "      <th>1</th>\n",
       "      <td>1101</td>\n",
       "      <td>1162</td>\n",
       "      <td>5.0</td>\n",
       "      <td>874965758</td>\n",
       "    </tr>\n",
       "    <tr>\n",
       "      <th>2</th>\n",
       "      <td>1101</td>\n",
       "      <td>927</td>\n",
       "      <td>5.0</td>\n",
       "      <td>874965758</td>\n",
       "    </tr>\n",
       "    <tr>\n",
       "      <th>3</th>\n",
       "      <td>1101</td>\n",
       "      <td>1521</td>\n",
       "      <td>5.0</td>\n",
       "      <td>874965758</td>\n",
       "    </tr>\n",
       "    <tr>\n",
       "      <th>4</th>\n",
       "      <td>1101</td>\n",
       "      <td>1301</td>\n",
       "      <td>5.0</td>\n",
       "      <td>874965758</td>\n",
       "    </tr>\n",
       "    <tr>\n",
       "      <th>...</th>\n",
       "      <td>...</td>\n",
       "      <td>...</td>\n",
       "      <td>...</td>\n",
       "      <td>...</td>\n",
       "    </tr>\n",
       "    <tr>\n",
       "      <th>3945</th>\n",
       "      <td>1150</td>\n",
       "      <td>642</td>\n",
       "      <td>2.3</td>\n",
       "      <td>874965758</td>\n",
       "    </tr>\n",
       "    <tr>\n",
       "      <th>3946</th>\n",
       "      <td>1150</td>\n",
       "      <td>197</td>\n",
       "      <td>3.1</td>\n",
       "      <td>874965758</td>\n",
       "    </tr>\n",
       "    <tr>\n",
       "      <th>3947</th>\n",
       "      <td>1150</td>\n",
       "      <td>681</td>\n",
       "      <td>5.1</td>\n",
       "      <td>874965758</td>\n",
       "    </tr>\n",
       "    <tr>\n",
       "      <th>3948</th>\n",
       "      <td>1150</td>\n",
       "      <td>1115</td>\n",
       "      <td>3.5</td>\n",
       "      <td>874965758</td>\n",
       "    </tr>\n",
       "    <tr>\n",
       "      <th>3949</th>\n",
       "      <td>1150</td>\n",
       "      <td>635</td>\n",
       "      <td>2.6</td>\n",
       "      <td>874965758</td>\n",
       "    </tr>\n",
       "  </tbody>\n",
       "</table>\n",
       "<p>3950 rows × 4 columns</p>\n",
       "</div>"
      ],
      "text/plain": [
       "      user_id  item_id  rating  timestamp\n",
       "0        1101      868     5.0  874965758\n",
       "1        1101     1162     5.0  874965758\n",
       "2        1101      927     5.0  874965758\n",
       "3        1101     1521     5.0  874965758\n",
       "4        1101     1301     5.0  874965758\n",
       "...       ...      ...     ...        ...\n",
       "3945     1150      642     2.3  874965758\n",
       "3946     1150      197     3.1  874965758\n",
       "3947     1150      681     5.1  874965758\n",
       "3948     1150     1115     3.5  874965758\n",
       "3949     1150      635     2.6  874965758\n",
       "\n",
       "[3950 rows x 4 columns]"
      ]
     },
     "execution_count": 17,
     "metadata": {},
     "output_type": "execute_result"
    }
   ],
   "source": [
    "attackDataDf"
   ]
  },
  {
   "cell_type": "code",
   "execution_count": 18,
   "id": "878749e9",
   "metadata": {},
   "outputs": [
    {
     "data": {
      "text/html": [
       "<div>\n",
       "<style scoped>\n",
       "    .dataframe tbody tr th:only-of-type {\n",
       "        vertical-align: middle;\n",
       "    }\n",
       "\n",
       "    .dataframe tbody tr th {\n",
       "        vertical-align: top;\n",
       "    }\n",
       "\n",
       "    .dataframe thead th {\n",
       "        text-align: right;\n",
       "    }\n",
       "</style>\n",
       "<table border=\"1\" class=\"dataframe\">\n",
       "  <thead>\n",
       "    <tr style=\"text-align: right;\">\n",
       "      <th></th>\n",
       "      <th>user_id</th>\n",
       "      <th>item_id</th>\n",
       "      <th>rating</th>\n",
       "      <th>timestamp</th>\n",
       "    </tr>\n",
       "  </thead>\n",
       "  <tbody>\n",
       "    <tr>\n",
       "      <th>0</th>\n",
       "      <td>1</td>\n",
       "      <td>1</td>\n",
       "      <td>5.0</td>\n",
       "      <td>874965758</td>\n",
       "    </tr>\n",
       "    <tr>\n",
       "      <th>1</th>\n",
       "      <td>1</td>\n",
       "      <td>2</td>\n",
       "      <td>3.0</td>\n",
       "      <td>876893171</td>\n",
       "    </tr>\n",
       "    <tr>\n",
       "      <th>2</th>\n",
       "      <td>1</td>\n",
       "      <td>3</td>\n",
       "      <td>4.0</td>\n",
       "      <td>878542960</td>\n",
       "    </tr>\n",
       "    <tr>\n",
       "      <th>3</th>\n",
       "      <td>1</td>\n",
       "      <td>4</td>\n",
       "      <td>3.0</td>\n",
       "      <td>876893119</td>\n",
       "    </tr>\n",
       "    <tr>\n",
       "      <th>4</th>\n",
       "      <td>1</td>\n",
       "      <td>5</td>\n",
       "      <td>3.0</td>\n",
       "      <td>889751712</td>\n",
       "    </tr>\n",
       "    <tr>\n",
       "      <th>...</th>\n",
       "      <td>...</td>\n",
       "      <td>...</td>\n",
       "      <td>...</td>\n",
       "      <td>...</td>\n",
       "    </tr>\n",
       "    <tr>\n",
       "      <th>3888</th>\n",
       "      <td>1150</td>\n",
       "      <td>1616</td>\n",
       "      <td>3.3</td>\n",
       "      <td>874965758</td>\n",
       "    </tr>\n",
       "    <tr>\n",
       "      <th>3931</th>\n",
       "      <td>1150</td>\n",
       "      <td>1617</td>\n",
       "      <td>4.5</td>\n",
       "      <td>874965758</td>\n",
       "    </tr>\n",
       "    <tr>\n",
       "      <th>3905</th>\n",
       "      <td>1150</td>\n",
       "      <td>1625</td>\n",
       "      <td>4.5</td>\n",
       "      <td>874965758</td>\n",
       "    </tr>\n",
       "    <tr>\n",
       "      <th>3936</th>\n",
       "      <td>1150</td>\n",
       "      <td>1632</td>\n",
       "      <td>1.7</td>\n",
       "      <td>874965758</td>\n",
       "    </tr>\n",
       "    <tr>\n",
       "      <th>3894</th>\n",
       "      <td>1150</td>\n",
       "      <td>1669</td>\n",
       "      <td>4.7</td>\n",
       "      <td>874965758</td>\n",
       "    </tr>\n",
       "  </tbody>\n",
       "</table>\n",
       "<p>83950 rows × 4 columns</p>\n",
       "</div>"
      ],
      "text/plain": [
       "      user_id  item_id  rating  timestamp\n",
       "0           1        1     5.0  874965758\n",
       "1           1        2     3.0  876893171\n",
       "2           1        3     4.0  878542960\n",
       "3           1        4     3.0  876893119\n",
       "4           1        5     3.0  889751712\n",
       "...       ...      ...     ...        ...\n",
       "3888     1150     1616     3.3  874965758\n",
       "3931     1150     1617     4.5  874965758\n",
       "3905     1150     1625     4.5  874965758\n",
       "3936     1150     1632     1.7  874965758\n",
       "3894     1150     1669     4.7  874965758\n",
       "\n",
       "[83950 rows x 4 columns]"
      ]
     },
     "execution_count": 18,
     "metadata": {},
     "output_type": "execute_result"
    }
   ],
   "source": [
    "attackTrainData = pd.concat([trainDf, attackDataDf]).sort_values(by=['user_id', 'item_id'])\n",
    "attackTrainData"
   ]
  },
  {
   "cell_type": "markdown",
   "id": "10f17494",
   "metadata": {},
   "source": [
    "## Evaluation <a class=\"anchor\" id=\"eval-attack\"></a>"
   ]
  },
  {
   "cell_type": "markdown",
   "id": "41e9d8bb",
   "metadata": {},
   "source": [
    "### RMSE <a class=\"anchor\" id=\"rmse\"></a>"
   ]
  },
  {
   "cell_type": "markdown",
   "id": "2954f2ac",
   "metadata": {},
   "source": [
    "#### Model before attack data"
   ]
  },
  {
   "cell_type": "code",
   "execution_count": 22,
   "id": "283cdae2",
   "metadata": {},
   "outputs": [
    {
     "data": {
      "text/plain": [
       "0.9297230218382855"
      ]
     },
     "execution_count": 22,
     "metadata": {},
     "output_type": "execute_result"
    }
   ],
   "source": [
    "# 0.1\n",
    "als = ALS(maxIter=10, rank=100, regParam=0.1, userCol=\"user_id\", itemCol=\"item_id\", ratingCol=\"rating\", coldStartStrategy=\"drop\")\n",
    "model = als.fit(training)\n",
    "predictions = model.transform(test)\n",
    "evaluator = RegressionEvaluator(metricName=\"rmse\", labelCol=\"rating\", predictionCol=\"prediction\")\n",
    "rmse = evaluator.evaluate(predictions)\n",
    "rmse"
   ]
  },
  {
   "cell_type": "code",
   "execution_count": 23,
   "id": "c53e0f68",
   "metadata": {},
   "outputs": [],
   "source": [
    "userRecs = model.recommendForAllUsers(10)\n",
    "userRecs = userRecs.toPandas()"
   ]
  },
  {
   "cell_type": "code",
   "execution_count": 24,
   "id": "32a3a8f3",
   "metadata": {},
   "outputs": [],
   "source": [
    "#count = 0\n",
    "#for index, row in userRecs.iterrows():\n",
    "#    recommendations = [r['item_id'] for r in row['recommendations']]\n",
    "#    if target_item in recommendations:\n",
    "#        print(row['user_id'], recommendations)\n",
    "#        count += 1\n",
    "#print(f'Total users with {target_item}: {count}')"
   ]
  },
  {
   "cell_type": "markdown",
   "id": "650b5704",
   "metadata": {},
   "source": [
    "#### Model with train data + attack data"
   ]
  },
  {
   "cell_type": "code",
   "execution_count": 25,
   "id": "160d29b7",
   "metadata": {},
   "outputs": [
    {
     "data": {
      "text/plain": [
       "0.9285133449124586"
      ]
     },
     "execution_count": 25,
     "metadata": {},
     "output_type": "execute_result"
    }
   ],
   "source": [
    "# 0.1\n",
    "attackDF = spark.createDataFrame(attackTrainData)\n",
    "als_atk = ALS(maxIter=10, rank=100, regParam=0.1, userCol=\"user_id\", itemCol=\"item_id\", ratingCol=\"rating\", coldStartStrategy=\"drop\")\n",
    "model_atk = als_atk.fit(attackDF)\n",
    "predictions_atk = model_atk.transform(test)\n",
    "evaluator_atk = RegressionEvaluator(metricName=\"rmse\", labelCol=\"rating\", predictionCol=\"prediction\")\n",
    "rmse_atk = evaluator_atk.evaluate(predictions_atk)\n",
    "rmse_atk"
   ]
  },
  {
   "cell_type": "markdown",
   "id": "d95dd939",
   "metadata": {},
   "source": [
    "### Calculate prediction shift <a class=\"anchor\" id=\"pred-shift\"></a>"
   ]
  },
  {
   "cell_type": "code",
   "execution_count": 26,
   "id": "ad3ae88c",
   "metadata": {},
   "outputs": [],
   "source": [
    "def prediction_shift(predBefore, predAtk, target_users, testDf):\n",
    "    \n",
    "    targetUsersTest = testDf[testDf.user_id.isin(target_users)]\n",
    "    numTargetUsersInTest = len(targetUsersTest.user_id.unique())\n",
    "    print(f'Number of target users in test: {numTargetUsersInTest}')\n",
    "    \n",
    "    # - Prediction shift across targetted users\n",
    "    predAttackTargetUser = predAtk[predAtk.user_id.isin(target_users)].sort_values(['user_id', 'item_id']).prediction\n",
    "    predTargetUser = predBefore[predBefore.user_id.isin(target_users)].sort_values(['user_id', 'item_id']).prediction\n",
    "    targetUserPredShift = np.sum(predAttackTargetUser - predTargetUser)/numTargetUsersInTest\n",
    "    \n",
    "    predAfterAttack = predAtk.sort_values(['user_id', 'item_id']).prediction\n",
    "    predBeforeAttack = predBefore.sort_values(['user_id', 'item_id']).prediction\n",
    "    allUsersPredShift = np.sum(predAfterAttack - predBeforeAttack)/len(testDf.user_id.unique())\n",
    "    \n",
    "    return (allUsersPredShift, targetUserPredShift)"
   ]
  },
  {
   "cell_type": "code",
   "execution_count": 27,
   "id": "49a64b39",
   "metadata": {},
   "outputs": [
    {
     "name": "stdout",
     "output_type": "stream",
     "text": [
      "Number of target users in test: 40\n"
     ]
    }
   ],
   "source": [
    "predAtk = predictions_atk.toPandas()\n",
    "predBefore = predictions.toPandas()\n",
    "allUsersPredShift, targetUserPredShift = prediction_shift(predBefore, predAtk, target_users, testDf)"
   ]
  },
  {
   "cell_type": "markdown",
   "id": "df706e22",
   "metadata": {},
   "source": [
    "<h4>Prediction shift across targetted users</h4>"
   ]
  },
  {
   "cell_type": "code",
   "execution_count": 28,
   "id": "617e4c7e",
   "metadata": {},
   "outputs": [
    {
     "name": "stdout",
     "output_type": "stream",
     "text": [
      "Prediction shift - Target users:  0.1656478762626648\n"
     ]
    }
   ],
   "source": [
    "print(\"Prediction shift - Target users: \", targetUserPredShift)\n"
   ]
  },
  {
   "cell_type": "markdown",
   "id": "16857f1f",
   "metadata": {},
   "source": [
    "<h4>Prediction across all users</h4>"
   ]
  },
  {
   "cell_type": "code",
   "execution_count": 29,
   "id": "f8a16642",
   "metadata": {},
   "outputs": [
    {
     "name": "stdout",
     "output_type": "stream",
     "text": [
      "Prediction shift - All users:  0.26903100107230393\n"
     ]
    }
   ],
   "source": [
    "print(\"Prediction shift - All users: \", allUsersPredShift)"
   ]
  },
  {
   "cell_type": "markdown",
   "id": "89cac794",
   "metadata": {},
   "source": [
    "### Calculate Hit Ratio <a class=\"anchor\" id=\"hit-ratio\"></a>"
   ]
  },
  {
   "cell_type": "code",
   "execution_count": 30,
   "id": "570bc137",
   "metadata": {},
   "outputs": [
    {
     "data": {
      "text/plain": [
       "5"
      ]
     },
     "execution_count": 30,
     "metadata": {},
     "output_type": "execute_result"
    }
   ],
   "source": [
    "# - Number of chosen target items in test set\n",
    "testDf[testDf.item_id.isin(target_items)].item_id.unique().size"
   ]
  },
  {
   "cell_type": "code",
   "execution_count": 31,
   "id": "a1f77679",
   "metadata": {},
   "outputs": [],
   "source": [
    "def getTopNRecommendations(test_model, testUserIds, n=10):\n",
    "    recommendations = {}\n",
    "    userRecs = test_model.recommendForAllUsers(10)\n",
    "    userRecs = userRecs.toPandas()\n",
    "    \n",
    "    for index, row in userRecs.iterrows():\n",
    "        if row['user_id'] in testUserIds:\n",
    "            userRec = [r['item_id'] for r in row['recommendations']]\n",
    "            recommendations[row['user_id']] = userRec \n",
    "    return recommendations\n",
    "\n",
    "def filterRecsByTargetItem(recommendations, targetItems):\n",
    "    recWithTargetItems = {}\n",
    "    for user_id in recommendations.keys():\n",
    "        topNRec = recommendations[user_id]\n",
    "        is_target_item_present = any(item in topNRec for item in targetItems)\n",
    "        if is_target_item_present:\n",
    "            recWithTargetItems[user_id] = topNRec\n",
    "            #print(user_id, topNRec)\n",
    "    \n",
    "    return recWithTargetItems"
   ]
  },
  {
   "cell_type": "code",
   "execution_count": 32,
   "id": "79a2b658",
   "metadata": {
    "scrolled": true
   },
   "outputs": [
    {
     "name": "stdout",
     "output_type": "stream",
     "text": [
      "Number of users with targets: 51\n"
     ]
    }
   ],
   "source": [
    "testUserIds = testDf.user_id.unique()\n",
    "topNRecAllUsersAtk = getTopNRecommendations(model_atk, testUserIds)\n",
    "topNRecAllUsersWithTargets = filterRecsByTargetItem(topNRecAllUsersAtk, target_items)\n",
    "print(f'Number of users with targets: {len(topNRecAllUsersWithTargets)}')"
   ]
  },
  {
   "cell_type": "code",
   "execution_count": 33,
   "id": "006d935d",
   "metadata": {
    "scrolled": true
   },
   "outputs": [
    {
     "name": "stdout",
     "output_type": "stream",
     "text": [
      "Number of users with targets before attack: 2\n"
     ]
    }
   ],
   "source": [
    "topNRecAllUsersB4 = getTopNRecommendations(model, testUserIds)\n",
    "topNRecAllUsersWithTargetsB4 = filterRecsByTargetItem(topNRecAllUsersB4, target_items)\n",
    "print(f'Number of users with targets before attack: {len(topNRecAllUsersWithTargetsB4)}')"
   ]
  },
  {
   "cell_type": "code",
   "execution_count": 34,
   "id": "acf24367",
   "metadata": {},
   "outputs": [],
   "source": [
    "def getHitRatioPerItem(topNRecAllUsers, targetItems):\n",
    "    hitRatioAllItems = {}\n",
    "    \n",
    "    for item in targetItems:\n",
    "        usersWithItem = 0\n",
    "        for user in topNRecAllUsers.keys():\n",
    "            if item in topNRecAllUsers[user]:\n",
    "                usersWithItem += 1\n",
    "        hitRatio_i = usersWithItem/(len(topNRecAllUsers.keys()) * 1.0)\n",
    "        hitRatioAllItems[item] = hitRatio_i\n",
    "                                    \n",
    "    return hitRatioAllItems \n",
    "\n",
    "def getAvgHitRatio(hitRatioPerItem):\n",
    "    sumHitRatio = 0\n",
    "    for hitRatio_i in hitRatioPerItem.values():\n",
    "        sumHitRatio += hitRatio_i \n",
    "    return sumHitRatio/(len(hitRatioPerItem.keys()) * 1.0)"
   ]
  },
  {
   "cell_type": "code",
   "execution_count": 35,
   "id": "e575a333",
   "metadata": {},
   "outputs": [
    {
     "name": "stdout",
     "output_type": "stream",
     "text": [
      "hitRatioPerItem:  {868: 0.06318082788671024, 1162: 0.008714596949891068, 927: 0.05664488017429194, 1521: 0.02832244008714597, 1301: 0.08714596949891068, 1191: 0.09803921568627451}\n",
      "\n",
      "avgHitRatio after attack:  0.057007988380537396\n"
     ]
    }
   ],
   "source": [
    "hitRatioPerItem = getHitRatioPerItem(topNRecAllUsersAtk, target_items)\n",
    "print(\"hitRatioPerItem: \", hitRatioPerItem)\n",
    "avgHitRatio = getAvgHitRatio(hitRatioPerItem)\n",
    "print(\"\\navgHitRatio after attack: \", avgHitRatio)"
   ]
  },
  {
   "cell_type": "markdown",
   "id": "dd39be45",
   "metadata": {},
   "source": [
    "## Random Analysis <a class=\"anchor\" id=\"rand-analysis\"></a>"
   ]
  },
  {
   "cell_type": "code",
   "execution_count": 36,
   "id": "5d4efb78",
   "metadata": {},
   "outputs": [],
   "source": [
    "def performAnalysis(targetItems, targetUsers):\n",
    "    print(f'targetItems chosen: {targetItems}')\n",
    "    testUserIds = testDf.user_id.unique()\n",
    "    # - Attack data + Train data\n",
    "    attackDataDf = createProfilesAsDf(targetItems, selected_items, NUM_FAKE_USERS)\n",
    "    attackTrainData = pd.concat([trainDf, attackDataDf]).sort_values(by=['user_id', 'item_id'])\n",
    "    attackSparkDf = spark.createDataFrame(attackTrainData)\n",
    "    \n",
    "    # - before model\n",
    "    alsBefore = ALS(maxIter=10, rank=100, regParam=0.1, userCol=\"user_id\", itemCol=\"item_id\", ratingCol=\"rating\", coldStartStrategy=\"drop\")\n",
    "    modelBefore = alsBefore.fit(training)\n",
    "    predictionsBefore = modelBefore.transform(test)\n",
    "    evaluatorBefore = RegressionEvaluator(metricName=\"rmse\", labelCol=\"rating\", predictionCol=\"prediction\")\n",
    "    rmseBefore = evaluatorBefore.evaluate(predictionsBefore)\n",
    "\n",
    "    # Attack Model\n",
    "    alsAtk = ALS(maxIter=10, rank=100, regParam=0.1, userCol=\"user_id\", itemCol=\"item_id\", ratingCol=\"rating\", coldStartStrategy=\"drop\")\n",
    "    modelAtk = alsAtk.fit(attackSparkDf)\n",
    "    predictionsAtk = modelAtk.transform(test)\n",
    "    evaluator_atk = RegressionEvaluator(metricName=\"rmse\", labelCol=\"rating\", predictionCol=\"prediction\")\n",
    "    rmseAtk = evaluator_atk.evaluate(predictionsAtk)\n",
    "\n",
    "    print(tabulate([[rmseBefore, rmseAtk]], headers=['rmse', 'rmseAtk']))\n",
    "    print(\"\\n\")\n",
    "        \n",
    "    predAtk = predictionsAtk.toPandas()\n",
    "    predBefore = predictionsBefore.toPandas()\n",
    "    allUsersPredShift, targetUserPredShift = prediction_shift(predBefore, predAtk, targetUsers, testDf)\n",
    "    print(tabulate([[targetUserPredShift, allUsersPredShift]], headers=['pred_shift_target', 'all_pred_shift']))\n",
    "    print(\"\\n\")\n",
    "    \n",
    "    topNRecTestUsersB4 = getTopNRecommendations(modelBefore, testUserIds)\n",
    "    topNRecTestUsersWithTargetsB4 = filterRecsByTargetItem(topNRecTestUsersB4, targetItems)\n",
    "    print(f'Number of users with targets before attack: {len(topNRecTestUsersWithTargetsB4)}')\n",
    "    \n",
    "    topNRecTestUsersAtk = getTopNRecommendations(modelAtk, testUserIds)\n",
    "    topNRecTestUsersWithTargetsAtk = filterRecsByTargetItem(topNRecTestUsersAtk, targetItems)\n",
    "    print(f'Number of users with targets: {len(topNRecTestUsersWithTargetsAtk)}')\n",
    "\n",
    "    hitRatioPerItem = getHitRatioPerItem(topNRecTestUsersAtk, targetItems)\n",
    "    print(tabulate([[key, hitRatioPerItem[key]] for key in hitRatioPerItem.keys()], headers=['item', 'hit_ratio']))\n",
    "    print(\"\\n\")\n",
    "    print(\"hitRatioPerItem: \", hitRatioPerItem)\n",
    "    \n",
    "    avgHitRatio = getAvgHitRatio(hitRatioPerItem)\n",
    "    print(f'\\navgHitRatio after attack with target items {targetItems}: ', avgHitRatio)"
   ]
  },
  {
   "cell_type": "markdown",
   "id": "3f37b60f",
   "metadata": {},
   "source": [
    "### Choose target items which have less rating (long tail items) as target items.  <a class=\"anchor\" id=\"long-tail\"></a>\n",
    "* Two cases 5 items which has less rating count but high avg rating value \n",
    "* Two cases 5 items which has less rating count but low avg rating value  "
   ]
  },
  {
   "cell_type": "code",
   "execution_count": 37,
   "id": "3ba4e5a1",
   "metadata": {},
   "outputs": [
    {
     "name": "stdout",
     "output_type": "stream",
     "text": [
      "long_tail_low_avg_rating len:  58\n",
      "long_tail_high_avg_rating len:  46\n"
     ]
    }
   ],
   "source": [
    "itemRatingDf = trainDf.groupby('item_id', as_index=False).agg(\n",
    "    rating_count= ('rating', 'count'), rating_avg= ('rating', 'mean')).sort_values('rating_count', ascending=False)\n",
    "long_tail_itemsDf = itemRatingDf[(itemRatingDf.rating_count >= 1) & (itemRatingDf.rating_count <= 3)]\n",
    "\n",
    "long_tail_low_avg_rating = long_tail_itemsDf[long_tail_itemsDf.rating_avg <= 1].item_id.to_list()\n",
    "long_tail_high_avg_rating = long_tail_itemsDf[long_tail_itemsDf.rating_avg >= 4].item_id.to_list()\n",
    "\n",
    "print(\"long_tail_low_avg_rating len: \", len(long_tail_low_avg_rating))\n",
    "print(\"long_tail_high_avg_rating len: \", len(long_tail_high_avg_rating))"
   ]
  },
  {
   "cell_type": "code",
   "execution_count": 38,
   "id": "ccdedd34",
   "metadata": {},
   "outputs": [
    {
     "name": "stdout",
     "output_type": "stream",
     "text": [
      "Number of target users:  198\n",
      "targetItems chosen: [1546  437 1339 1494 1486]\n",
      "    rmse    rmseAtk\n",
      "--------  ---------\n",
      "0.929723   0.928537\n",
      "\n",
      "\n",
      "Number of target users in test: 44\n",
      "  pred_shift_target    all_pred_shift\n",
      "-------------------  ----------------\n",
      "           0.115455           0.19837\n",
      "\n",
      "\n",
      "Number of users with targets before attack: 0\n",
      "Number of users with targets: 88\n",
      "  item    hit_ratio\n",
      "------  -----------\n",
      "  1546    0.137255\n",
      "   437    0.0457516\n",
      "  1339    0.139434\n",
      "  1494    0.106754\n",
      "  1486    0.122004\n",
      "\n",
      "\n",
      "hitRatioPerItem:  {1546: 0.13725490196078433, 437: 0.0457516339869281, 1339: 0.1394335511982571, 1494: 0.10675381263616558, 1486: 0.12200435729847495}\n",
      "\n",
      "avgHitRatio after attack with target items [1546  437 1339 1494 1486]:  0.11023965141612199\n",
      "\n",
      "\n",
      "---------------------\n",
      "\n",
      "\n",
      "Number of target users:  198\n",
      "targetItems chosen: [1601 1584 1581 1359 1104]\n",
      "    rmse    rmseAtk\n",
      "--------  ---------\n",
      "0.929723   0.927195\n",
      "\n",
      "\n",
      "Number of target users in test: 44\n",
      "  pred_shift_target    all_pred_shift\n",
      "-------------------  ----------------\n",
      "           0.133787          0.247786\n",
      "\n",
      "\n",
      "Number of users with targets before attack: 0\n",
      "Number of users with targets: 68\n",
      "  item    hit_ratio\n",
      "------  -----------\n",
      "  1601    0.122004\n",
      "  1584    0.0936819\n",
      "  1581    0.0958606\n",
      "  1359    0.0566449\n",
      "  1104    0.0958606\n",
      "\n",
      "\n",
      "hitRatioPerItem:  {1601: 0.12200435729847495, 1584: 0.09368191721132897, 1581: 0.09586056644880174, 1359: 0.05664488017429194, 1104: 0.09586056644880174}\n",
      "\n",
      "avgHitRatio after attack with target items [1601 1584 1581 1359 1104]:  0.09281045751633987\n",
      "\n",
      "\n",
      "---------------------\n",
      "\n",
      "\n",
      "Number of target users:  198\n",
      "targetItems chosen: [1626  437 1661 1494 1567]\n",
      "    rmse    rmseAtk\n",
      "--------  ---------\n",
      "0.929723   0.926781\n",
      "\n",
      "\n",
      "Number of target users in test: 44\n",
      "  pred_shift_target    all_pred_shift\n",
      "-------------------  ----------------\n",
      "           0.155253          0.283213\n",
      "\n",
      "\n",
      "Number of users with targets before attack: 0\n",
      "Number of users with targets: 36\n",
      "  item    hit_ratio\n",
      "------  -----------\n",
      "  1626    0.0239651\n",
      "   437    0.0152505\n",
      "  1661    0.0261438\n",
      "  1494    0.0544662\n",
      "  1567    0.0501089\n",
      "\n",
      "\n",
      "hitRatioPerItem:  {1626: 0.023965141612200435, 437: 0.015250544662309368, 1661: 0.026143790849673203, 1494: 0.054466230936819175, 1567: 0.05010893246187364}\n",
      "\n",
      "avgHitRatio after attack with target items [1626  437 1661 1494 1567]:  0.03398692810457517\n",
      "\n",
      "\n",
      "---------------------\n",
      "\n",
      "\n"
     ]
    }
   ],
   "source": [
    "# - 5 iterations of randomly choosing from long_tail_low_avg_rating\n",
    "from tabulate import tabulate\n",
    "    \n",
    "for i in range(3):\n",
    "    # - Target item and users \n",
    "    targetItems = np.random.choice(long_tail_low_avg_rating, 5, replace=False)\n",
    "    targetUsers = getTargetUsers(targetItems)\n",
    "\n",
    "    performAnalysis(targetItems, targetUsers)\n",
    "    print(\"\\n\\n---------------------\\n\\n\")"
   ]
  },
  {
   "cell_type": "code",
   "execution_count": 39,
   "id": "835eabc2",
   "metadata": {},
   "outputs": [
    {
     "name": "stdout",
     "output_type": "stream",
     "text": [
      "Number of target users:  197\n",
      "targetItems chosen: [1125 1674 1123 1398 1515]\n",
      "    rmse    rmseAtk\n",
      "--------  ---------\n",
      "0.929723   0.926477\n",
      "\n",
      "\n",
      "Number of target users in test: 44\n",
      "  pred_shift_target    all_pred_shift\n",
      "-------------------  ----------------\n",
      "          0.0871491          0.325499\n",
      "\n",
      "\n",
      "Number of users with targets before attack: 1\n",
      "Number of users with targets: 112\n",
      "  item    hit_ratio\n",
      "------  -----------\n",
      "  1125     0.198257\n",
      "  1674     0.163399\n",
      "  1123     0.135076\n",
      "  1398     0.22658\n",
      "  1515     0.141612\n",
      "\n",
      "\n",
      "hitRatioPerItem:  {1125: 0.19825708061002179, 1674: 0.16339869281045752, 1123: 0.13507625272331156, 1398: 0.22657952069716775, 1515: 0.14161220043572983}\n",
      "\n",
      "avgHitRatio after attack with target items [1125 1674 1123 1398 1515]:  0.17298474945533768\n",
      "\n",
      "\n",
      "---------------------\n",
      "\n",
      "\n",
      "Number of target users:  197\n",
      "targetItems chosen: [1650 1482 1674 1625 1158]\n",
      "    rmse    rmseAtk\n",
      "--------  ---------\n",
      "0.929723   0.928395\n",
      "\n",
      "\n",
      "Number of target users in test: 44\n",
      "  pred_shift_target    all_pred_shift\n",
      "-------------------  ----------------\n",
      "           0.174828          0.188065\n",
      "\n",
      "\n",
      "Number of users with targets before attack: 1\n",
      "Number of users with targets: 118\n",
      "  item    hit_ratio\n",
      "------  -----------\n",
      "  1650     0.1939\n",
      "  1482     0.124183\n",
      "  1674     0.132898\n",
      "  1625     0.169935\n",
      "  1158     0.228758\n",
      "\n",
      "\n",
      "hitRatioPerItem:  {1650: 0.19389978213507625, 1482: 0.12418300653594772, 1674: 0.1328976034858388, 1625: 0.16993464052287582, 1158: 0.22875816993464052}\n",
      "\n",
      "avgHitRatio after attack with target items [1650 1482 1674 1625 1158]:  0.16993464052287582\n",
      "\n",
      "\n",
      "---------------------\n",
      "\n",
      "\n",
      "Number of target users:  197\n",
      "targetItems chosen: [1125 1515 1613 1645 1642]\n",
      "    rmse    rmseAtk\n",
      "--------  ---------\n",
      "0.929723   0.927044\n",
      "\n",
      "\n",
      "Number of target users in test: 44\n",
      "  pred_shift_target    all_pred_shift\n",
      "-------------------  ----------------\n",
      "           0.126798          0.246645\n",
      "\n",
      "\n",
      "Number of users with targets before attack: 50\n",
      "Number of users with targets: 158\n",
      "  item    hit_ratio\n",
      "------  -----------\n",
      "  1125     0.224401\n",
      "  1515     0.148148\n",
      "  1613     0.137255\n",
      "  1645     0.248366\n",
      "  1642     0.32244\n",
      "\n",
      "\n",
      "hitRatioPerItem:  {1125: 0.22440087145969498, 1515: 0.14814814814814814, 1613: 0.13725490196078433, 1645: 0.24836601307189543, 1642: 0.3224400871459695}\n",
      "\n",
      "avgHitRatio after attack with target items [1125 1515 1613 1645 1642]:  0.21612200435729845\n",
      "\n",
      "\n",
      "---------------------\n",
      "\n",
      "\n"
     ]
    }
   ],
   "source": [
    "# - 5 iterations of randomly choosing from long_tail_high_avg_rating (HIGH RATING AVG, but less number of rating <= 3)    \n",
    "for i in range(3):\n",
    "    # - Target item and users \n",
    "    targetItems = np.random.choice(long_tail_high_avg_rating, 5, replace=False)\n",
    "    targetUsers = getTargetUsers(targetItems)\n",
    "\n",
    "    performAnalysis(targetItems, targetUsers)\n",
    "    print(\"\\n\\n---------------------\\n\\n\")"
   ]
  },
  {
   "cell_type": "markdown",
   "id": "8d9e03dc",
   "metadata": {},
   "source": [
    "### Choose target items which have rating avg less than 2 randomly <a class=\"anchor\" id=\"avg-rating-2\">"
   ]
  },
  {
   "cell_type": "code",
   "execution_count": 40,
   "id": "539bff5b",
   "metadata": {},
   "outputs": [
    {
     "name": "stdout",
     "output_type": "stream",
     "text": [
      "Number of target users:  187\n",
      "targetItems chosen: [1274 1464 1564 1230 1580]\n",
      "    rmse    rmseAtk\n",
      "--------  ---------\n",
      "0.929723   0.927139\n",
      "\n",
      "\n",
      "Number of target users in test: 40\n",
      "  pred_shift_target    all_pred_shift\n",
      "-------------------  ----------------\n",
      "           0.124914          0.275514\n",
      "\n",
      "\n",
      "Number of users with targets before attack: 0\n",
      "Number of users with targets: 37\n",
      "  item    hit_ratio\n",
      "------  -----------\n",
      "  1274   0.00653595\n",
      "  1464   0.0413943\n",
      "  1564   0.0740741\n",
      "  1230   0.00653595\n",
      "  1580   0.0718954\n",
      "\n",
      "\n",
      "hitRatioPerItem:  {1274: 0.006535947712418301, 1464: 0.04139433551198257, 1564: 0.07407407407407407, 1230: 0.006535947712418301, 1580: 0.0718954248366013}\n",
      "\n",
      "avgHitRatio after attack with target items [1274 1464 1564 1230 1580]:  0.04008714596949891\n",
      "\n",
      "\n",
      "---------------------\n",
      "\n",
      "\n",
      "Number of target users:  180\n",
      "targetItems chosen: [1254  758 1414  564  555]\n",
      "    rmse    rmseAtk\n",
      "--------  ---------\n",
      "0.929723   0.928662\n",
      "\n",
      "\n",
      "Number of target users in test: 38\n",
      "  pred_shift_target    all_pred_shift\n",
      "-------------------  ----------------\n",
      "           0.212574          0.286293\n",
      "\n",
      "\n",
      "Number of users with targets before attack: 0\n",
      "Number of users with targets: 15\n",
      "  item    hit_ratio\n",
      "------  -----------\n",
      "  1254   0.00217865\n",
      "   758   0\n",
      "  1414   0.0283224\n",
      "   564   0\n",
      "   555   0.0087146\n",
      "\n",
      "\n",
      "hitRatioPerItem:  {1254: 0.002178649237472767, 758: 0.0, 1414: 0.02832244008714597, 564: 0.0, 555: 0.008714596949891068}\n",
      "\n",
      "avgHitRatio after attack with target items [1254  758 1414  564  555]:  0.00784313725490196\n",
      "\n",
      "\n",
      "---------------------\n",
      "\n",
      "\n",
      "Number of target users:  197\n",
      "targetItems chosen: [1357 1564 1104  858  910]\n",
      "    rmse    rmseAtk\n",
      "--------  ---------\n",
      "0.929723   0.926141\n",
      "\n",
      "\n",
      "Number of target users in test: 44\n",
      "  pred_shift_target    all_pred_shift\n",
      "-------------------  ----------------\n",
      "           0.267218          0.297743\n",
      "\n",
      "\n",
      "Number of users with targets before attack: 0\n",
      "Number of users with targets: 46\n",
      "  item    hit_ratio\n",
      "------  -----------\n",
      "  1357    0.0413943\n",
      "  1564    0.0849673\n",
      "  1104    0.0849673\n",
      "   858    0.0413943\n",
      "   910    0.0261438\n",
      "\n",
      "\n",
      "hitRatioPerItem:  {1357: 0.04139433551198257, 1564: 0.08496732026143791, 1104: 0.08496732026143791, 858: 0.04139433551198257, 910: 0.026143790849673203}\n",
      "\n",
      "avgHitRatio after attack with target items [1357 1564 1104  858  910]:  0.05577342047930284\n",
      "\n",
      "\n",
      "---------------------\n",
      "\n",
      "\n"
     ]
    }
   ],
   "source": [
    "itemsAvgRatingLessThan2 = itemRatingDf[(itemRatingDf.rating_avg <= 2)].item_id.to_list()\n",
    "\n",
    "for i in range(3):\n",
    "    # - Target item and users \n",
    "    targetItems = np.random.choice(itemsAvgRatingLessThan2, 5, replace=False)\n",
    "    targetUsers = getTargetUsers(targetItems)\n",
    "\n",
    "    performAnalysis(targetItems, targetUsers)\n",
    "    print(\"\\n\\n---------------------\\n\\n\")"
   ]
  },
  {
   "cell_type": "markdown",
   "id": "7f04db9b",
   "metadata": {},
   "source": [
    "### Choose target items which have average rating and average popularity <a class=\"anchor\" id=\"avg-rating-avgpop\">"
   ]
  },
  {
   "cell_type": "code",
   "execution_count": 41,
   "id": "af6ce777",
   "metadata": {},
   "outputs": [
    {
     "name": "stdout",
     "output_type": "stream",
     "text": [
      "Number of target users:  21\n",
      "targetItems chosen: [289 121 546 405 748]\n",
      "    rmse    rmseAtk\n",
      "--------  ---------\n",
      "0.929723   0.929091\n",
      "\n",
      "\n",
      "Number of target users in test: 9\n",
      "  pred_shift_target    all_pred_shift\n",
      "-------------------  ----------------\n",
      "         0.00360338          0.222954\n",
      "\n",
      "\n",
      "Number of users with targets before attack: 7\n",
      "Number of users with targets: 17\n",
      "  item    hit_ratio\n",
      "------  -----------\n",
      "   289   0.00217865\n",
      "   121   0.0217865\n",
      "   546   0\n",
      "   405   0.00653595\n",
      "   748   0.0152505\n",
      "\n",
      "\n",
      "hitRatioPerItem:  {289: 0.002178649237472767, 121: 0.02178649237472767, 546: 0.0, 405: 0.006535947712418301, 748: 0.015250544662309368}\n",
      "\n",
      "avgHitRatio after attack with target items [289 121 546 405 748]:  0.009150326797385621\n",
      "\n",
      "\n",
      "---------------------\n",
      "\n",
      "\n",
      "Number of target users:  19\n",
      "targetItems chosen: [748 118 294 546 121]\n",
      "    rmse    rmseAtk\n",
      "--------  ---------\n",
      "0.929723   0.927985\n",
      "\n",
      "\n",
      "Number of target users in test: 8\n",
      "  pred_shift_target    all_pred_shift\n",
      "-------------------  ----------------\n",
      "           0.215715           0.21319\n",
      "\n",
      "\n",
      "Number of users with targets before attack: 10\n",
      "Number of users with targets: 21\n",
      "  item    hit_ratio\n",
      "------  -----------\n",
      "   748   0.0108932\n",
      "   118   0.0087146\n",
      "   294   0.0087146\n",
      "   546   0.00217865\n",
      "   121   0.0261438\n",
      "\n",
      "\n",
      "hitRatioPerItem:  {748: 0.010893246187363835, 118: 0.008714596949891068, 294: 0.008714596949891068, 546: 0.002178649237472767, 121: 0.026143790849673203}\n",
      "\n",
      "avgHitRatio after attack with target items [748 118 294 546 121]:  0.011328976034858388\n",
      "\n",
      "\n",
      "---------------------\n",
      "\n",
      "\n",
      "Number of target users:  30\n",
      "targetItems chosen: [748 405 118 121 546]\n",
      "    rmse    rmseAtk\n",
      "--------  ---------\n",
      "0.929723   0.928524\n",
      "\n",
      "\n",
      "Number of target users in test: 9\n",
      "  pred_shift_target    all_pred_shift\n",
      "-------------------  ----------------\n",
      "           0.132934          0.203697\n",
      "\n",
      "\n",
      "Number of users with targets before attack: 9\n",
      "Number of users with targets: 17\n",
      "  item    hit_ratio\n",
      "------  -----------\n",
      "   748   0.0108932\n",
      "   405   0.0043573\n",
      "   118   0.0087146\n",
      "   121   0.0239651\n",
      "   546   0.00217865\n",
      "\n",
      "\n",
      "hitRatioPerItem:  {748: 0.010893246187363835, 405: 0.004357298474945534, 118: 0.008714596949891068, 121: 0.023965141612200435, 546: 0.002178649237472767}\n",
      "\n",
      "avgHitRatio after attack with target items [748 405 118 121 546]:  0.010021786492374729\n",
      "\n",
      "\n",
      "---------------------\n",
      "\n",
      "\n"
     ]
    }
   ],
   "source": [
    "itemsAvgRatingAndPop = itemRatingDf[(itemRatingDf.rating_avg >= 2.7) & (itemRatingDf.rating_avg <= 3.4) \n",
    "                                   & (itemRatingDf.rating_count >= 100) & \n",
    "                                    (itemRatingDf.rating_count >= 200)].item_id.to_list()\n",
    "\n",
    "for i in range(3):\n",
    "    # - Target item and users \n",
    "    targetItems = np.random.choice(itemsAvgRatingAndPop, 5, replace=False)\n",
    "    targetUsers = getTargetUsers(targetItems)\n",
    "\n",
    "    performAnalysis(targetItems, targetUsers)\n",
    "    print(\"\\n\\n---------------------\\n\\n\")"
   ]
  },
  {
   "cell_type": "markdown",
   "id": "60a800d2",
   "metadata": {},
   "source": [
    "### Metrics using single target item randomly (with rating below 1 and rating between 1 - 2 and 3), 10 target items"
   ]
  },
  {
   "cell_type": "code",
   "execution_count": null,
   "id": "67788b42",
   "metadata": {},
   "outputs": [],
   "source": []
  }
 ],
 "metadata": {
  "kernelspec": {
   "display_name": "Python 3",
   "language": "python",
   "name": "python3"
  },
  "language_info": {
   "codemirror_mode": {
    "name": "ipython",
    "version": 3
   },
   "file_extension": ".py",
   "mimetype": "text/x-python",
   "name": "python",
   "nbconvert_exporter": "python",
   "pygments_lexer": "ipython3",
   "version": "3.7.10"
  }
 },
 "nbformat": 4,
 "nbformat_minor": 5
}
