{
 "cells": [
  {
   "cell_type": "markdown",
   "id": "e30f67a0",
   "metadata": {},
   "source": [
    "## Contents:\n",
    "* [Load Data](#load-data)\n",
    "* [Observations](#obs)\n",
    "* [Target Item and Users](#target-item-user)\n",
    "* [Create Fake Profile](#create-fake-data)\n",
    "* [Evaluation](#eval-attack)\n",
    " * [Prediction Shift](#pred-shift)\n",
    " * [Hit Ratio](#hit-ratio)\n",
    " \n",
    "\n",
    "\n"
   ]
  },
  {
   "cell_type": "code",
   "execution_count": 512,
   "id": "548c879c",
   "metadata": {},
   "outputs": [],
   "source": [
    "import pandas as pd\n",
    "import numpy as np\n",
    "import matplotlib.pyplot as plt\n",
    "import random\n",
    "\n",
    "import pyspark\n",
    "from pyspark.sql import *\n",
    "from pyspark.sql.types import *\n",
    "from pyspark.sql.functions import *\n",
    "from pyspark import SparkContext, SparkConf\n",
    "\n",
    "from pyspark.ml.evaluation import RegressionEvaluator\n",
    "from pyspark.ml.recommendation import ALS\n",
    "from pyspark.sql import Row"
   ]
  },
  {
   "cell_type": "code",
   "execution_count": 3,
   "id": "90a1712f",
   "metadata": {},
   "outputs": [],
   "source": [
    "# create the session\n",
    "conf = SparkConf().set(\"spark.ui.port\", \"4050\")\n",
    "\n",
    "# create the context\n",
    "sc = pyspark.SparkContext(conf=conf)\n",
    "spark = SparkSession.builder.getOrCreate()"
   ]
  },
  {
   "cell_type": "markdown",
   "id": "2e88b44f",
   "metadata": {},
   "source": [
    "## Load Data <a class=\"anchor\" id=\"load-data\"></a>"
   ]
  },
  {
   "cell_type": "code",
   "execution_count": 700,
   "id": "874c9037",
   "metadata": {},
   "outputs": [],
   "source": [
    "schema_ratings = StructType([\n",
    "    StructField(\"user_id\", IntegerType(), False),\n",
    "    StructField(\"item_id\", IntegerType(), False),\n",
    "    StructField(\"rating\", IntegerType(), False),\n",
    "    StructField(\"timestamp\", IntegerType(), False)])\n",
    "\n",
    "schema_items = StructType([\n",
    "    StructField(\"item_id\", IntegerType(), False),\n",
    "    StructField(\"movie\", StringType(), False),\n",
    "    StructField(\"release_date\", StringType(), False),\n",
    "    StructField(\"v_release_date\", StringType(), False),\n",
    "    StructField(\"imdb_url\", StringType(), False),\n",
    "    StructField(\"unknown\", StringType(), False),\n",
    "    StructField(\"action\", StringType(), False),\n",
    "    StructField(\"adventure\", StringType(), False),\n",
    "    StructField(\"animation\", StringType(), False),\n",
    "    StructField(\"childrens\", StringType(), False),\n",
    "    StructField(\"comedy\", StringType(), False),\n",
    "    StructField(\"crime\", StringType(), False),\n",
    "    StructField(\"documentary\", StringType(), False),\n",
    "    StructField(\"drama\", StringType(), False),\n",
    "    StructField(\"fantasy\", StringType(), False),\n",
    "])\n",
    "\n",
    "training = spark.read.option(\"sep\", \"\\t\").csv(\"../data/MovieLens.training\", header=False, schema=schema_ratings)\n",
    "test = spark.read.option(\"sep\", \"\\t\").csv(\"../data/MovieLens.test\", header=False, schema=schema_ratings)\n",
    "items = spark.read.option(\"sep\", \"|\").csv(\"../data/MovieLens.item\", header=False, schema=schema_items)"
   ]
  },
  {
   "cell_type": "code",
   "execution_count": 514,
   "id": "cfdd5888",
   "metadata": {},
   "outputs": [
    {
     "name": "stdout",
     "output_type": "stream",
     "text": [
      "num_users: 943 num_items : 1650\n",
      "max_user_id:  943  max_item_id:  1682\n"
     ]
    }
   ],
   "source": [
    "trainDf = training.toPandas()\n",
    "testDf = test.toPandas()\n",
    "num_users, num_items = len(trainDf.user_id.unique()), len(trainDf.item_id.unique())\n",
    "max_uid, max_iid = trainDf.user_id.unique().max(), trainDf.item_id.unique().max()\n",
    "print(f'num_users: {num_users} num_items : {num_items}')\n",
    "print(f'max_user_id: ', max_uid, \" max_item_id: \", max_iid)"
   ]
  },
  {
   "cell_type": "code",
   "execution_count": 670,
   "id": "26101854",
   "metadata": {},
   "outputs": [
    {
     "name": "stdout",
     "output_type": "stream",
     "text": [
      "rating_mean: 3.52835 rating_std: 1.118564668374818\n"
     ]
    }
   ],
   "source": [
    "# - Get ratings mean and rating std\n",
    "stdDf = trainDf.groupby('item_id', as_index=False).agg(rating_mean= ('rating', 'mean'), rating_std= ('rating', 'std'), \n",
    "                                  rating_count = ('rating', 'count'))\n",
    "item_mean = dict(zip(stdDf.item_id,stdDf.rating_mean))\n",
    "item_std = dict(zip(stdDf.item_id,stdDf.rating_std))\n",
    "rating_mean, rating_std = trainDf.rating.mean(), trainDf.rating.std()\n",
    "print(f'rating_mean: {rating_mean} rating_std: {rating_std}')"
   ]
  },
  {
   "cell_type": "code",
   "execution_count": 682,
   "id": "cc9eb5af",
   "metadata": {},
   "outputs": [
    {
     "data": {
      "text/plain": [
       "array([[<AxesSubplot:title={'center':'rating_count'}>]], dtype=object)"
      ]
     },
     "execution_count": 682,
     "metadata": {},
     "output_type": "execute_result"
    },
    {
     "data": {
      "image/png": "[encoded data removed]",
      "text/plain": [
       "<Figure size 432x288 with 1 Axes>"
      ]
     },
     "metadata": {
      "needs_background": "light"
     },
     "output_type": "display_data"
    }
   ],
   "source": [
    "# - count of ratings per user\n",
    "userRatingDf = trainDf.groupby('user_id', as_index=False).agg(rating_count= ('rating', 'count')).sort_values(\n",
    "    'rating_count', ascending=False)\n",
    "hist = userRatingDf.hist(column='rating_count', bins=10)\n",
    "hist"
   ]
  },
  {
   "cell_type": "code",
   "execution_count": 695,
   "id": "c17f7250",
   "metadata": {},
   "outputs": [
    {
     "data": {
      "text/html": [
       "<div>\n",
       "<style scoped>\n",
       "    .dataframe tbody tr th:only-of-type {\n",
       "        vertical-align: middle;\n",
       "    }\n",
       "\n",
       "    .dataframe tbody tr th {\n",
       "        vertical-align: top;\n",
       "    }\n",
       "\n",
       "    .dataframe thead th {\n",
       "        text-align: right;\n",
       "    }\n",
       "</style>\n",
       "<table border=\"1\" class=\"dataframe\">\n",
       "  <thead>\n",
       "    <tr style=\"text-align: right;\">\n",
       "      <th></th>\n",
       "      <th>user_id</th>\n",
       "      <th>rating_count</th>\n",
       "    </tr>\n",
       "  </thead>\n",
       "  <tbody>\n",
       "    <tr>\n",
       "      <th>781</th>\n",
       "      <td>782</td>\n",
       "      <td>232</td>\n",
       "    </tr>\n",
       "    <tr>\n",
       "      <th>439</th>\n",
       "      <td>440</td>\n",
       "      <td>48</td>\n",
       "    </tr>\n",
       "    <tr>\n",
       "      <th>87</th>\n",
       "      <td>88</td>\n",
       "      <td>11</td>\n",
       "    </tr>\n",
       "  </tbody>\n",
       "</table>\n",
       "</div>"
      ],
      "text/plain": [
       "     user_id  rating_count\n",
       "781      782           232\n",
       "439      440            48\n",
       "87        88            11"
      ]
     },
     "execution_count": 695,
     "metadata": {},
     "output_type": "execute_result"
    }
   ],
   "source": [
    "userRatingDf[userRatingDf.user_id.isin([88,440, 782])]"
   ]
  },
  {
   "cell_type": "code",
   "execution_count": 687,
   "id": "ab10cf22",
   "metadata": {},
   "outputs": [
    {
     "data": {
      "text/plain": [
       "array([[<AxesSubplot:title={'center':'rating_mean'}>]], dtype=object)"
      ]
     },
     "execution_count": 687,
     "metadata": {},
     "output_type": "execute_result"
    },
    {
     "data": {
      "image/png": "[encoded data removed]",
      "text/plain": [
       "<Figure size 432x288 with 1 Axes>"
      ]
     },
     "metadata": {
      "needs_background": "light"
     },
     "output_type": "display_data"
    }
   ],
   "source": [
    "# - avg rating of items\n",
    "itemRatingDf = trainDf.groupby('item_id', as_index=False).agg(rating_mean= ('rating', 'mean')).sort_values(\n",
    "    'rating_mean', ascending=False)\n",
    "hist = itemRatingDf.hist(column='rating_mean', bins=5)\n",
    "hist"
   ]
  },
  {
   "cell_type": "code",
   "execution_count": 694,
   "id": "a5d992f5",
   "metadata": {},
   "outputs": [
    {
     "name": "stdout",
     "output_type": "stream",
     "text": [
      "itemWithratingAbove4: [1189, 1653, 1599, 1500, 1467, 1201, 1122, 1293, 1449, 1367, 408, 169, 850, 1594, 1642, 318, 483, 64, 12, 50, 603, 114, 1191, 119, 1639, 1125, 513, 178, 357, 480, 427, 98, 963, 134, 313, 488, 966, 251, 127, 1396, 1064, 479, 174, 285, 515, 272, 657, 474, 641, 199, 867, 1466, 320, 172, 524, 173, 484, 187, 302, 1142, 511, 1524, 316, 191, 528, 89, 493, 487, 223, 185, 166, 22, 190, 192, 1251, 170, 1131, 647, 478, 498, 489, 100, 48, 633, 520, 505, 315, 165, 496, 923, 606, 661, 79, 23, 490, 654, 124, 180, 30, 651, 45, 197, 589, 168, 1039, 611, 601, 430, 194, 132, 613, 615, 607, 83, 136, 659, 527, 519, 213, 1007, 656, 694, 494, 189, 60, 56, 181, 198, 87, 205]\n",
      "longTailItems: [1420, 1162, 777, 442, 1287, 424, 1246, 438, 1661, 1350, 1654, 1678, 1354, 1359, 1325, 1366, 1329, 1334, 1671, 1339, 1363, 1340, 1659, 1352, 1349, 1341, 1567, 1374, 1566, 1587, 1307, 1584, 1583, 1581, 1580, 1579, 1577, 1564, 1576, 1575, 1574, 1572, 1571, 1570, 1569, 1308, 1306, 858, 1621, 784, 1546, 1250, 1548, 1568, 1408, 1494, 1618, 1559, 437, 1432, 314, 1486, 1104, 1601, 439, 1626]\n"
     ]
    },
    {
     "data": {
      "text/html": [
       "<div>\n",
       "<style scoped>\n",
       "    .dataframe tbody tr th:only-of-type {\n",
       "        vertical-align: middle;\n",
       "    }\n",
       "\n",
       "    .dataframe tbody tr th {\n",
       "        vertical-align: top;\n",
       "    }\n",
       "\n",
       "    .dataframe thead th {\n",
       "        text-align: right;\n",
       "    }\n",
       "</style>\n",
       "<table border=\"1\" class=\"dataframe\">\n",
       "  <thead>\n",
       "    <tr style=\"text-align: right;\">\n",
       "      <th></th>\n",
       "      <th>user_id</th>\n",
       "      <th>item_id</th>\n",
       "      <th>rating</th>\n",
       "      <th>timestamp</th>\n",
       "    </tr>\n",
       "  </thead>\n",
       "  <tbody>\n",
       "    <tr>\n",
       "      <th>4932</th>\n",
       "      <td>88</td>\n",
       "      <td>1191</td>\n",
       "      <td>5</td>\n",
       "      <td>891038103</td>\n",
       "    </tr>\n",
       "    <tr>\n",
       "      <th>29714</th>\n",
       "      <td>440</td>\n",
       "      <td>1191</td>\n",
       "      <td>5</td>\n",
       "      <td>891550404</td>\n",
       "    </tr>\n",
       "    <tr>\n",
       "      <th>63675</th>\n",
       "      <td>782</td>\n",
       "      <td>1191</td>\n",
       "      <td>3</td>\n",
       "      <td>891498558</td>\n",
       "    </tr>\n",
       "  </tbody>\n",
       "</table>\n",
       "</div>"
      ],
      "text/plain": [
       "       user_id  item_id  rating  timestamp\n",
       "4932        88     1191       5  891038103\n",
       "29714      440     1191       5  891550404\n",
       "63675      782     1191       3  891498558"
      ]
     },
     "execution_count": 694,
     "metadata": {},
     "output_type": "execute_result"
    }
   ],
   "source": [
    "itemWithratingAbove4 = itemRatingDf[itemRatingDf.rating_mean > 4].item_id.to_list()\n",
    "longTailItems = itemRatingDf[itemRatingDf.rating_mean < 1.5].item_id.to_list()\n",
    "print(f'itemWithratingAbove4: {itemWithratingAbove4}')\n",
    "print(f'longTailItems: {longTailItems}')\n",
    "#print(f'longTailItems: {itemRatingDf[itemRatingDf.item_id == 1191]}')\n",
    "trainDf[trainDf.item_id == 1191]"
   ]
  },
  {
   "cell_type": "markdown",
   "id": "70189b1b",
   "metadata": {},
   "source": [
    "## Observations <a class=\"anchor\" id=\"obs\"></a>\n",
    "* In test set, there were not any target user, target item pair..  Hence when we try to check prediction shift for target user and target item pair we get nothing!!\n",
    "* Item which is least popular as in has less ratings like 3 rating but the 3 rating has a avg of 4.3 in such cases the hit ratio for these items is higher. This was because one of the user among 2 had rated around 220 items."
   ]
  },
  {
   "cell_type": "markdown",
   "id": "e83f9c95",
   "metadata": {},
   "source": [
    "## Selected Items <a class=\"anchor\" id=\"sel-items\"></a>"
   ]
  },
  {
   "cell_type": "code",
   "execution_count": 668,
   "id": "928e8b98",
   "metadata": {},
   "outputs": [],
   "source": [
    "NUM_SEL_ITEMS = 3\n",
    "NUM_FILLER_ITEMS = 90"
   ]
  },
  {
   "cell_type": "code",
   "execution_count": 516,
   "id": "deccbb39",
   "metadata": {},
   "outputs": [
    {
     "name": "stdout",
     "output_type": "stream",
     "text": [
      "selected_items:  [ 50 181 258]\n"
     ]
    }
   ],
   "source": [
    "# - Create popular selected item list\n",
    "item_ratings = dict(trainDf.groupby('item_id').size())\n",
    "item_pop = [0] * (max_iid + 1)\n",
    "\n",
    "for item_id in item_ratings.keys():\n",
    "    item_pop[item_id] = item_ratings[item_id]\n",
    "    \n",
    "items_sorted = np.array(item_pop).argsort()[::-1]\n",
    "selected_items = items_sorted[:NUM_SEL_ITEMS]\n",
    "print(\"selected_items: \", selected_items)"
   ]
  },
  {
   "cell_type": "code",
   "execution_count": 517,
   "id": "f7503d84",
   "metadata": {},
   "outputs": [
    {
     "data": {
      "text/html": [
       "<div>\n",
       "<style scoped>\n",
       "    .dataframe tbody tr th:only-of-type {\n",
       "        vertical-align: middle;\n",
       "    }\n",
       "\n",
       "    .dataframe tbody tr th {\n",
       "        vertical-align: top;\n",
       "    }\n",
       "\n",
       "    .dataframe thead th {\n",
       "        text-align: right;\n",
       "    }\n",
       "</style>\n",
       "<table border=\"1\" class=\"dataframe\">\n",
       "  <thead>\n",
       "    <tr style=\"text-align: right;\">\n",
       "      <th></th>\n",
       "      <th>item_id</th>\n",
       "      <th>rating_sum</th>\n",
       "    </tr>\n",
       "  </thead>\n",
       "  <tbody>\n",
       "    <tr>\n",
       "      <th>49</th>\n",
       "      <td>50</td>\n",
       "      <td>484</td>\n",
       "    </tr>\n",
       "    <tr>\n",
       "      <th>180</th>\n",
       "      <td>181</td>\n",
       "      <td>422</td>\n",
       "    </tr>\n",
       "    <tr>\n",
       "      <th>257</th>\n",
       "      <td>258</td>\n",
       "      <td>402</td>\n",
       "    </tr>\n",
       "  </tbody>\n",
       "</table>\n",
       "</div>"
      ],
      "text/plain": [
       "     item_id  rating_sum\n",
       "49        50         484\n",
       "180      181         422\n",
       "257      258         402"
      ]
     },
     "execution_count": 517,
     "metadata": {},
     "output_type": "execute_result"
    }
   ],
   "source": [
    "trainDf.groupby('item_id', as_index=False).agg(\n",
    "    rating_sum= ('rating', 'count')).sort_values('rating_sum', ascending=False).head(NUM_SEL_ITEMS)"
   ]
  },
  {
   "cell_type": "markdown",
   "id": "10c575b4",
   "metadata": {},
   "source": [
    "## Target Item and Users <a class=\"anchor\" id=\"target-item-user\"></a>"
   ]
  },
  {
   "cell_type": "code",
   "execution_count": 671,
   "id": "552c3e13",
   "metadata": {},
   "outputs": [
    {
     "name": "stdout",
     "output_type": "stream",
     "text": [
      "target_items before filtering with test : [252, 670, 893, 1564, 1647, 1301, 927]\n",
      "target_items: [868, 1162, 927, 1521, 1301, 1191]\n",
      "target_items rating count:  [(868, 3), (1162, 3), (927, 4), (1521, 3), (1301, 4), (1191, 3)]\n"
     ]
    }
   ],
   "source": [
    "# - Select target item\n",
    "target_items = [j for i in range(8, 10) for j in\n",
    "                    items_sorted[i * len(items_sorted) // 10:(i * len(items_sorted) // 10) + 2]][::-1]\n",
    "target_items = list(np.random.choice([i for i in range(len(item_pop)) if item_pop[i] > 3 and item_pop[i] > 9 ], \n",
    "                                     3, replace=False)) + target_items\n",
    "\n",
    "\n",
    "print('target_items before filtering with test :', target_items)\n",
    "target_items = list(testDf[testDf.item_id.isin(target_items)].item_id.unique())\n",
    "#target_items += [1191]\n",
    "\n",
    "# -- HARD CODING VALUES HERE \n",
    "target_items = [868, 1162, 927, 1521, 1301, 1191]\n",
    "print('target_items:', target_items)\n",
    "print('target_items rating count: ', [(i, item_pop[i]) for i in target_items])\n"
   ]
  },
  {
   "cell_type": "code",
   "execution_count": 672,
   "id": "87a58893",
   "metadata": {},
   "outputs": [
    {
     "name": "stdout",
     "output_type": "stream",
     "text": [
      "target_users[(target_users == selected_num)].shape[0]:  190\n",
      "target_users:  190\n"
     ]
    }
   ],
   "source": [
    "# - create target users    \n",
    "users_rated_target = set(trainDf[trainDf.item_id.isin(target_items)].user_id.values)\n",
    "# - Users who have not rated target item\n",
    "data_tmp = trainDf[~trainDf.user_id.isin(users_rated_target)].copy()\n",
    "#data_tmp = data_tmp[data_tmp.rating >= threshold]\n",
    "\n",
    "# - Users who have not rated target item and have rated selected_items\n",
    "target_users = data_tmp[data_tmp.item_id.isin(selected_items)].groupby('user_id').size()\n",
    "\n",
    "\n",
    "print(\"target_users[(target_users == selected_num)].shape[0]: \", \n",
    "       target_users[(target_users == NUM_SEL_ITEMS)].shape[0])\n",
    "target_users = sorted(target_users[(target_users == NUM_SEL_ITEMS)].index)\n",
    "target_users\n",
    "print(\"target_users: \", len(target_users))"
   ]
  },
  {
   "cell_type": "markdown",
   "id": "cd3bd3bb",
   "metadata": {},
   "source": [
    "## Fake profile creation <a class=\"anchor\" id=\"create-fake-data\"></a>"
   ]
  },
  {
   "cell_type": "code",
   "execution_count": 704,
   "id": "ae98127f",
   "metadata": {},
   "outputs": [],
   "source": [
    "# - get filler items\n",
    "from random import randrange\n",
    "\n",
    "class FakeProfile(object): \n",
    "    MAX_RATING = 5\n",
    "    \n",
    "    def __init__(self, target_items, \n",
    "                 filler_item_count = 70):\n",
    "        self.target_items  = target_items\n",
    "        self.filler_item_count = filler_item_count\n",
    "        self.selected_items = {}\n",
    "        self.filler_items = {}\n",
    "        \n",
    "    def setSelectedItems(self, selectedItems):\n",
    "        #selectedItems = freqRatedItems[np.random.choice(len(freqRatedItems), size=self.selected_items_count, replace=False)]\n",
    "        for item in selectedItems:\n",
    "            self.selected_items[item] = self.MAX_RATING\n",
    "    \n",
    "    def fillerItems(self, selectedItems):\n",
    "        targetSelItems = list(self.target_items)\n",
    "        targetSelItems.extend(selectedItems)\n",
    "        #print(targetSelItems)\n",
    "        fillers_candidates = list(set(trainDf.item_id.unique()) - set(targetSelItems) )\n",
    "        fillers = np.random.choice(fillers_candidates, size=self.filler_item_count, replace=False)\n",
    "        ratings = np.round(np.random.normal(loc=rating_mean, scale=rating_std, size=self.filler_item_count), 1)\n",
    "        for item, rating in zip(fillers, ratings):\n",
    "            self.filler_items[item] = rating\n",
    "                \n",
    "    def create(self, selectedItems):\n",
    "        self.setSelectedItems(selectedItems)\n",
    "        self.fillerItems(selectedItems)\n",
    "        \n",
    "    def print(self):\n",
    "        print(f'target_item : {self.target_items}')\n",
    "        print(f'selected_items : {self.selected_items}')\n",
    "        print(f'filler_items : {self.filler_items}')\n",
    "        print(\"\\n\")\n",
    "        \n",
    "    def getAllItemRatings(self):\n",
    "        itemRatings = [(item, self.MAX_RATING) for item in self.target_items]\n",
    "        for item in self.selected_items:\n",
    "            itemRatings.append((item, self.selected_items[item]))\n",
    "        for item in self.filler_items:\n",
    "            itemRatings.append((item, self.filler_items[item]))\n",
    "        return itemRatings\n",
    "    \n",
    "def createProfiles(target_items, selected_items, n):\n",
    "    fake_profiles = []\n",
    "    for _ in range(n):\n",
    "        fp = FakeProfile(target_items)\n",
    "        fp.create(selected_items)\n",
    "        fake_profiles.append(fp)\n",
    "    \n",
    "    '''\n",
    "    # - Uncomment to print\n",
    "    for fp in fake_profiles:\n",
    "        fp.print()\n",
    "    '''\n",
    "    return fake_profiles\n",
    " \n",
    "def createProfilesAsDf(target_items, selected_items, n):\n",
    "    fake_profiles = createProfiles(target_items, selected_items, n)\n",
    "    userId = 1100\n",
    "    timestamp = 874965758\n",
    "    fakeRatingsdata = {'userId': [], 'item_id': [], 'ratings': [], 'timestamp': []}\n",
    "    for fp in fake_profiles:\n",
    "        userId += 1\n",
    "        itemRatings = fp.getAllItemRatings()\n",
    "        for itemRatingPair in itemRatings:\n",
    "            fakeRatingsdata['userId'].append(userId)\n",
    "            fakeRatingsdata['item_id'].append(itemRatingPair[0])\n",
    "            fakeRatingsdata['ratings'].append(itemRatingPair[1])\n",
    "            fakeRatingsdata['timestamp'].append(timestamp)\n",
    "\n",
    "    columnsZipped = zip(fakeRatingsdata['userId'], fakeRatingsdata['item_id'],\n",
    "                       fakeRatingsdata['ratings'], fakeRatingsdata['timestamp'])\n",
    "    fakeProfileDf = pd.DataFrame(list(columnsZipped),\n",
    "                   columns =['user_id', 'item_id', 'rating', 'timestamp'])\n",
    "    return fakeProfileDf"
   ]
  },
  {
   "cell_type": "code",
   "execution_count": 705,
   "id": "14edea2d",
   "metadata": {},
   "outputs": [],
   "source": [
    "NUM_FAKE_USERS = 50\n",
    "attackDataDf = createProfilesAsDf(target_items, selected_items, NUM_FAKE_USERS)"
   ]
  },
  {
   "cell_type": "code",
   "execution_count": 658,
   "id": "d15127ff",
   "metadata": {},
   "outputs": [
    {
     "data": {
      "text/html": [
       "<div>\n",
       "<style scoped>\n",
       "    .dataframe tbody tr th:only-of-type {\n",
       "        vertical-align: middle;\n",
       "    }\n",
       "\n",
       "    .dataframe tbody tr th {\n",
       "        vertical-align: top;\n",
       "    }\n",
       "\n",
       "    .dataframe thead th {\n",
       "        text-align: right;\n",
       "    }\n",
       "</style>\n",
       "<table border=\"1\" class=\"dataframe\">\n",
       "  <thead>\n",
       "    <tr style=\"text-align: right;\">\n",
       "      <th></th>\n",
       "      <th>user_id</th>\n",
       "      <th>item_id</th>\n",
       "      <th>rating</th>\n",
       "      <th>timestamp</th>\n",
       "    </tr>\n",
       "  </thead>\n",
       "  <tbody>\n",
       "    <tr>\n",
       "      <th>0</th>\n",
       "      <td>1101</td>\n",
       "      <td>868</td>\n",
       "      <td>5.0</td>\n",
       "      <td>874965758</td>\n",
       "    </tr>\n",
       "    <tr>\n",
       "      <th>1</th>\n",
       "      <td>1101</td>\n",
       "      <td>1162</td>\n",
       "      <td>5.0</td>\n",
       "      <td>874965758</td>\n",
       "    </tr>\n",
       "    <tr>\n",
       "      <th>2</th>\n",
       "      <td>1101</td>\n",
       "      <td>927</td>\n",
       "      <td>5.0</td>\n",
       "      <td>874965758</td>\n",
       "    </tr>\n",
       "    <tr>\n",
       "      <th>3</th>\n",
       "      <td>1101</td>\n",
       "      <td>1521</td>\n",
       "      <td>5.0</td>\n",
       "      <td>874965758</td>\n",
       "    </tr>\n",
       "    <tr>\n",
       "      <th>4</th>\n",
       "      <td>1101</td>\n",
       "      <td>1301</td>\n",
       "      <td>5.0</td>\n",
       "      <td>874965758</td>\n",
       "    </tr>\n",
       "    <tr>\n",
       "      <th>...</th>\n",
       "      <td>...</td>\n",
       "      <td>...</td>\n",
       "      <td>...</td>\n",
       "      <td>...</td>\n",
       "    </tr>\n",
       "    <tr>\n",
       "      <th>3945</th>\n",
       "      <td>1150</td>\n",
       "      <td>12</td>\n",
       "      <td>1.1</td>\n",
       "      <td>874965758</td>\n",
       "    </tr>\n",
       "    <tr>\n",
       "      <th>3946</th>\n",
       "      <td>1150</td>\n",
       "      <td>1666</td>\n",
       "      <td>4.1</td>\n",
       "      <td>874965758</td>\n",
       "    </tr>\n",
       "    <tr>\n",
       "      <th>3947</th>\n",
       "      <td>1150</td>\n",
       "      <td>1066</td>\n",
       "      <td>3.5</td>\n",
       "      <td>874965758</td>\n",
       "    </tr>\n",
       "    <tr>\n",
       "      <th>3948</th>\n",
       "      <td>1150</td>\n",
       "      <td>881</td>\n",
       "      <td>3.4</td>\n",
       "      <td>874965758</td>\n",
       "    </tr>\n",
       "    <tr>\n",
       "      <th>3949</th>\n",
       "      <td>1150</td>\n",
       "      <td>724</td>\n",
       "      <td>2.0</td>\n",
       "      <td>874965758</td>\n",
       "    </tr>\n",
       "  </tbody>\n",
       "</table>\n",
       "<p>3950 rows × 4 columns</p>\n",
       "</div>"
      ],
      "text/plain": [
       "      user_id  item_id  rating  timestamp\n",
       "0        1101      868     5.0  874965758\n",
       "1        1101     1162     5.0  874965758\n",
       "2        1101      927     5.0  874965758\n",
       "3        1101     1521     5.0  874965758\n",
       "4        1101     1301     5.0  874965758\n",
       "...       ...      ...     ...        ...\n",
       "3945     1150       12     1.1  874965758\n",
       "3946     1150     1666     4.1  874965758\n",
       "3947     1150     1066     3.5  874965758\n",
       "3948     1150      881     3.4  874965758\n",
       "3949     1150      724     2.0  874965758\n",
       "\n",
       "[3950 rows x 4 columns]"
      ]
     },
     "execution_count": 658,
     "metadata": {},
     "output_type": "execute_result"
    }
   ],
   "source": [
    "attackDataDf"
   ]
  },
  {
   "cell_type": "code",
   "execution_count": 639,
   "id": "3c4229f4",
   "metadata": {},
   "outputs": [
    {
     "data": {
      "text/html": [
       "<div>\n",
       "<style scoped>\n",
       "    .dataframe tbody tr th:only-of-type {\n",
       "        vertical-align: middle;\n",
       "    }\n",
       "\n",
       "    .dataframe tbody tr th {\n",
       "        vertical-align: top;\n",
       "    }\n",
       "\n",
       "    .dataframe thead th {\n",
       "        text-align: right;\n",
       "    }\n",
       "</style>\n",
       "<table border=\"1\" class=\"dataframe\">\n",
       "  <thead>\n",
       "    <tr style=\"text-align: right;\">\n",
       "      <th></th>\n",
       "      <th>user_id</th>\n",
       "      <th>item_id</th>\n",
       "      <th>rating</th>\n",
       "      <th>timestamp</th>\n",
       "    </tr>\n",
       "  </thead>\n",
       "  <tbody>\n",
       "    <tr>\n",
       "      <th>0</th>\n",
       "      <td>1</td>\n",
       "      <td>1</td>\n",
       "      <td>5.0</td>\n",
       "      <td>874965758</td>\n",
       "    </tr>\n",
       "    <tr>\n",
       "      <th>1</th>\n",
       "      <td>1</td>\n",
       "      <td>2</td>\n",
       "      <td>3.0</td>\n",
       "      <td>876893171</td>\n",
       "    </tr>\n",
       "    <tr>\n",
       "      <th>2</th>\n",
       "      <td>1</td>\n",
       "      <td>3</td>\n",
       "      <td>4.0</td>\n",
       "      <td>878542960</td>\n",
       "    </tr>\n",
       "    <tr>\n",
       "      <th>3</th>\n",
       "      <td>1</td>\n",
       "      <td>4</td>\n",
       "      <td>3.0</td>\n",
       "      <td>876893119</td>\n",
       "    </tr>\n",
       "    <tr>\n",
       "      <th>4</th>\n",
       "      <td>1</td>\n",
       "      <td>5</td>\n",
       "      <td>3.0</td>\n",
       "      <td>889751712</td>\n",
       "    </tr>\n",
       "    <tr>\n",
       "      <th>...</th>\n",
       "      <td>...</td>\n",
       "      <td>...</td>\n",
       "      <td>...</td>\n",
       "      <td>...</td>\n",
       "    </tr>\n",
       "    <tr>\n",
       "      <th>3917</th>\n",
       "      <td>1150</td>\n",
       "      <td>1566</td>\n",
       "      <td>5.4</td>\n",
       "      <td>874965758</td>\n",
       "    </tr>\n",
       "    <tr>\n",
       "      <th>3946</th>\n",
       "      <td>1150</td>\n",
       "      <td>1633</td>\n",
       "      <td>3.9</td>\n",
       "      <td>874965758</td>\n",
       "    </tr>\n",
       "    <tr>\n",
       "      <th>3921</th>\n",
       "      <td>1150</td>\n",
       "      <td>1637</td>\n",
       "      <td>2.9</td>\n",
       "      <td>874965758</td>\n",
       "    </tr>\n",
       "    <tr>\n",
       "      <th>3916</th>\n",
       "      <td>1150</td>\n",
       "      <td>1679</td>\n",
       "      <td>5.1</td>\n",
       "      <td>874965758</td>\n",
       "    </tr>\n",
       "    <tr>\n",
       "      <th>3912</th>\n",
       "      <td>1150</td>\n",
       "      <td>1682</td>\n",
       "      <td>3.6</td>\n",
       "      <td>874965758</td>\n",
       "    </tr>\n",
       "  </tbody>\n",
       "</table>\n",
       "<p>83950 rows × 4 columns</p>\n",
       "</div>"
      ],
      "text/plain": [
       "      user_id  item_id  rating  timestamp\n",
       "0           1        1     5.0  874965758\n",
       "1           1        2     3.0  876893171\n",
       "2           1        3     4.0  878542960\n",
       "3           1        4     3.0  876893119\n",
       "4           1        5     3.0  889751712\n",
       "...       ...      ...     ...        ...\n",
       "3917     1150     1566     5.4  874965758\n",
       "3946     1150     1633     3.9  874965758\n",
       "3921     1150     1637     2.9  874965758\n",
       "3916     1150     1679     5.1  874965758\n",
       "3912     1150     1682     3.6  874965758\n",
       "\n",
       "[83950 rows x 4 columns]"
      ]
     },
     "execution_count": 639,
     "metadata": {},
     "output_type": "execute_result"
    }
   ],
   "source": [
    "attackTrainData = pd.concat([trainDf, attackDataDf]).sort_values(by=['user_id', 'item_id'])\n",
    "attackTrainData"
   ]
  },
  {
   "cell_type": "markdown",
   "id": "c625b262",
   "metadata": {},
   "source": [
    "## Evaluation <a class=\"anchor\" id=\"eval-attack\"></a>"
   ]
  },
  {
   "cell_type": "markdown",
   "id": "b9ff8c45",
   "metadata": {},
   "source": [
    "### RMSE <a class=\"anchor\" id=\"rmse\"></a>"
   ]
  },
  {
   "cell_type": "markdown",
   "id": "a34f0e90",
   "metadata": {},
   "source": [
    "#### Model before attack data"
   ]
  },
  {
   "cell_type": "code",
   "execution_count": 525,
   "id": "a8316853",
   "metadata": {},
   "outputs": [
    {
     "data": {
      "text/plain": [
       "0.9283872090543989"
      ]
     },
     "execution_count": 525,
     "metadata": {},
     "output_type": "execute_result"
    }
   ],
   "source": [
    "# 0.1\n",
    "als = ALS(maxIter=10, rank=100, regParam=0.1, userCol=\"user_id\", itemCol=\"item_id\", ratingCol=\"rating\", coldStartStrategy=\"drop\")\n",
    "model = als.fit(training)\n",
    "predictions = model.transform(test)\n",
    "evaluator = RegressionEvaluator(metricName=\"rmse\", labelCol=\"rating\", predictionCol=\"prediction\")\n",
    "rmse = evaluator.evaluate(predictions)\n",
    "rmse"
   ]
  },
  {
   "cell_type": "code",
   "execution_count": 526,
   "id": "c41c73e1",
   "metadata": {},
   "outputs": [],
   "source": [
    "userRecs = model.recommendForAllUsers(10)\n",
    "userRecs = userRecs.toPandas()"
   ]
  },
  {
   "cell_type": "code",
   "execution_count": 527,
   "id": "7c287c23",
   "metadata": {},
   "outputs": [
    {
     "name": "stdout",
     "output_type": "stream",
     "text": [
      "Total users with 243: 0\n"
     ]
    }
   ],
   "source": [
    "count = 0\n",
    "for index, row in userRecs.iterrows():\n",
    "    recommendations = [r['item_id'] for r in row['recommendations']]\n",
    "    if target_item in recommendations:\n",
    "        print(row['user_id'], recommendations)\n",
    "        count += 1\n",
    "print(f'Total users with {target_item}: {count}')"
   ]
  },
  {
   "cell_type": "markdown",
   "id": "442d6cc1",
   "metadata": {},
   "source": [
    "#### Model with train data + attack data"
   ]
  },
  {
   "cell_type": "code",
   "execution_count": 640,
   "id": "53538218",
   "metadata": {},
   "outputs": [
    {
     "data": {
      "text/plain": [
       "0.9258617814201447"
      ]
     },
     "execution_count": 640,
     "metadata": {},
     "output_type": "execute_result"
    }
   ],
   "source": [
    "# 0.1\n",
    "attackDF = spark.createDataFrame(attackTrainData)\n",
    "als_atk = ALS(maxIter=10, rank=100, regParam=0.1, userCol=\"user_id\", itemCol=\"item_id\", ratingCol=\"rating\", coldStartStrategy=\"drop\")\n",
    "model_atk = als_atk.fit(attackDF)\n",
    "predictions_atk = model_atk.transform(test)\n",
    "evaluator_atk = RegressionEvaluator(metricName=\"rmse\", labelCol=\"rating\", predictionCol=\"prediction\")\n",
    "rmse_atk = evaluator_atk.evaluate(predictions_atk)\n",
    "rmse_atk"
   ]
  },
  {
   "cell_type": "markdown",
   "id": "3b76f7d3",
   "metadata": {},
   "source": [
    "### Calculate prediction shift <a class=\"anchor\" id=\"pred-shift\"></a>"
   ]
  },
  {
   "cell_type": "code",
   "execution_count": 641,
   "id": "2f35f91a",
   "metadata": {
    "scrolled": true
   },
   "outputs": [
    {
     "name": "stdout",
     "output_type": "stream",
     "text": [
      "Number of target users in test: 40\n"
     ]
    }
   ],
   "source": [
    "predAtk = predictions_atk.toPandas()\n",
    "pred = predictions.toPandas()\n",
    "targetUsersTest = testDf[testDf.user_id.isin(target_users)]\n",
    "numTargetUsersInTest = len(targetUsersTest.user_id.unique())\n",
    "print(f'Number of target users in test: {numTargetUsersInTest}')"
   ]
  },
  {
   "cell_type": "code",
   "execution_count": 642,
   "id": "a3214e5e",
   "metadata": {},
   "outputs": [
    {
     "data": {
      "text/html": [
       "<div>\n",
       "<style scoped>\n",
       "    .dataframe tbody tr th:only-of-type {\n",
       "        vertical-align: middle;\n",
       "    }\n",
       "\n",
       "    .dataframe tbody tr th {\n",
       "        vertical-align: top;\n",
       "    }\n",
       "\n",
       "    .dataframe thead th {\n",
       "        text-align: right;\n",
       "    }\n",
       "</style>\n",
       "<table border=\"1\" class=\"dataframe\">\n",
       "  <thead>\n",
       "    <tr style=\"text-align: right;\">\n",
       "      <th></th>\n",
       "      <th>user_id</th>\n",
       "      <th>item_id</th>\n",
       "      <th>rating</th>\n",
       "      <th>timestamp</th>\n",
       "      <th>prediction</th>\n",
       "    </tr>\n",
       "  </thead>\n",
       "  <tbody>\n",
       "    <tr>\n",
       "      <th>4</th>\n",
       "      <td>222</td>\n",
       "      <td>148</td>\n",
       "      <td>2</td>\n",
       "      <td>881061164</td>\n",
       "      <td>2.995661</td>\n",
       "    </tr>\n",
       "    <tr>\n",
       "      <th>10</th>\n",
       "      <td>328</td>\n",
       "      <td>148</td>\n",
       "      <td>3</td>\n",
       "      <td>885048638</td>\n",
       "      <td>3.160234</td>\n",
       "    </tr>\n",
       "    <tr>\n",
       "      <th>14</th>\n",
       "      <td>447</td>\n",
       "      <td>148</td>\n",
       "      <td>4</td>\n",
       "      <td>878854729</td>\n",
       "      <td>3.034730</td>\n",
       "    </tr>\n",
       "    <tr>\n",
       "      <th>38</th>\n",
       "      <td>313</td>\n",
       "      <td>148</td>\n",
       "      <td>2</td>\n",
       "      <td>891031979</td>\n",
       "      <td>2.723193</td>\n",
       "    </tr>\n",
       "    <tr>\n",
       "      <th>51</th>\n",
       "      <td>354</td>\n",
       "      <td>463</td>\n",
       "      <td>4</td>\n",
       "      <td>891217575</td>\n",
       "      <td>3.740919</td>\n",
       "    </tr>\n",
       "    <tr>\n",
       "      <th>...</th>\n",
       "      <td>...</td>\n",
       "      <td>...</td>\n",
       "      <td>...</td>\n",
       "      <td>...</td>\n",
       "      <td>...</td>\n",
       "    </tr>\n",
       "    <tr>\n",
       "      <th>19903</th>\n",
       "      <td>301</td>\n",
       "      <td>89</td>\n",
       "      <td>2</td>\n",
       "      <td>882076046</td>\n",
       "      <td>3.966234</td>\n",
       "    </tr>\n",
       "    <tr>\n",
       "      <th>19916</th>\n",
       "      <td>151</td>\n",
       "      <td>89</td>\n",
       "      <td>5</td>\n",
       "      <td>879524491</td>\n",
       "      <td>4.600976</td>\n",
       "    </tr>\n",
       "    <tr>\n",
       "      <th>19928</th>\n",
       "      <td>222</td>\n",
       "      <td>401</td>\n",
       "      <td>2</td>\n",
       "      <td>878184422</td>\n",
       "      <td>1.868581</td>\n",
       "    </tr>\n",
       "    <tr>\n",
       "      <th>19934</th>\n",
       "      <td>301</td>\n",
       "      <td>401</td>\n",
       "      <td>4</td>\n",
       "      <td>882078040</td>\n",
       "      <td>2.969263</td>\n",
       "    </tr>\n",
       "    <tr>\n",
       "      <th>19948</th>\n",
       "      <td>85</td>\n",
       "      <td>517</td>\n",
       "      <td>5</td>\n",
       "      <td>879455238</td>\n",
       "      <td>3.694959</td>\n",
       "    </tr>\n",
       "  </tbody>\n",
       "</table>\n",
       "<p>2228 rows × 5 columns</p>\n",
       "</div>"
      ],
      "text/plain": [
       "       user_id  item_id  rating  timestamp  prediction\n",
       "4          222      148       2  881061164    2.995661\n",
       "10         328      148       3  885048638    3.160234\n",
       "14         447      148       4  878854729    3.034730\n",
       "38         313      148       2  891031979    2.723193\n",
       "51         354      463       4  891217575    3.740919\n",
       "...        ...      ...     ...        ...         ...\n",
       "19903      301       89       2  882076046    3.966234\n",
       "19916      151       89       5  879524491    4.600976\n",
       "19928      222      401       2  878184422    1.868581\n",
       "19934      301      401       4  882078040    2.969263\n",
       "19948       85      517       5  879455238    3.694959\n",
       "\n",
       "[2228 rows x 5 columns]"
      ]
     },
     "execution_count": 642,
     "metadata": {},
     "output_type": "execute_result"
    }
   ],
   "source": [
    "pred[pred.user_id.isin(target_users)]"
   ]
  },
  {
   "cell_type": "markdown",
   "id": "01601060",
   "metadata": {},
   "source": [
    "<h4>Prediction shift across targetted users</h4>"
   ]
  },
  {
   "cell_type": "code",
   "execution_count": 643,
   "id": "f87f6301",
   "metadata": {},
   "outputs": [
    {
     "data": {
      "text/plain": [
       "0.07029163837432861"
      ]
     },
     "execution_count": 643,
     "metadata": {},
     "output_type": "execute_result"
    }
   ],
   "source": [
    "predAttackTargetUser = predAtk[predAtk.user_id.isin(target_users)].sort_values(['user_id', 'item_id']).prediction\n",
    "predTargetUser = pred[pred.user_id.isin(target_users)].sort_values(['user_id', 'item_id']).prediction\n",
    "\n",
    "np.sum(predAttackTargetUser - predTargetUser)/numTargetUsersInTest"
   ]
  },
  {
   "cell_type": "code",
   "execution_count": 667,
   "id": "0bb794ef",
   "metadata": {},
   "outputs": [
    {
     "data": {
      "text/plain": [
       "10670    3.335442\n",
       "1359     4.217900\n",
       "15512    3.836432\n",
       "17463    4.256400\n",
       "10084    3.773332\n",
       "           ...   \n",
       "4786     3.831770\n",
       "4068     3.526086\n",
       "15934    3.757811\n",
       "7697     2.823140\n",
       "19453    2.937871\n",
       "Name: prediction, Length: 2228, dtype: float32"
      ]
     },
     "execution_count": 667,
     "metadata": {},
     "output_type": "execute_result"
    }
   ],
   "source": [
    "predAttackTargetUser = predAtk[predAtk.user_id.isin(target_users)].sort_values(['user_id', 'item_id']).prediction"
   ]
  },
  {
   "cell_type": "markdown",
   "id": "4ca5b7d7",
   "metadata": {},
   "source": [
    "<h4>Prediction across all users</h4>"
   ]
  },
  {
   "cell_type": "code",
   "execution_count": 644,
   "id": "d05fc3f1",
   "metadata": {},
   "outputs": [
    {
     "data": {
      "text/plain": [
       "0.3404002137693185"
      ]
     },
     "execution_count": 644,
     "metadata": {},
     "output_type": "execute_result"
    }
   ],
   "source": [
    "predAfterAttack = predAtk.sort_values(['user_id', 'item_id']).prediction\n",
    "predBeforeAttack = pred.sort_values(['user_id', 'item_id']).prediction\n",
    "\n",
    "np.sum(predAfterAttack - predBeforeAttack)/len(testDf.user_id.unique())"
   ]
  },
  {
   "cell_type": "markdown",
   "id": "242720b1",
   "metadata": {},
   "source": [
    "### Calculate Hit Ratio <a class=\"anchor\" id=\"hit-ratio\"></a>"
   ]
  },
  {
   "cell_type": "code",
   "execution_count": 645,
   "id": "0e5529a7",
   "metadata": {},
   "outputs": [
    {
     "data": {
      "text/plain": [
       "5"
      ]
     },
     "execution_count": 645,
     "metadata": {},
     "output_type": "execute_result"
    }
   ],
   "source": [
    "testDf[testDf.item_id.isin(target_items)].item_id.unique().size"
   ]
  },
  {
   "cell_type": "code",
   "execution_count": 646,
   "id": "1b7cc140",
   "metadata": {},
   "outputs": [],
   "source": [
    "def getTopNRecommendations(model, testUserIds, n=10):\n",
    "    recommendations = {}\n",
    "    userRecs = model.recommendForAllUsers(10)\n",
    "    userRecs = userRecs.toPandas()\n",
    "    \n",
    "    for index, row in userRecs.iterrows():\n",
    "        if row['user_id'] in testUserIds:\n",
    "            userRec = [r['item_id'] for r in row['recommendations']]\n",
    "            recommendations[row['user_id']] = userRec \n",
    "    return recommendations\n",
    "\n",
    "def filterRecsByTargetItem(recommendations, targetItems):\n",
    "    recWithTargetItems = {}\n",
    "    for user_id in recommendations.keys():\n",
    "        topNRec = recommendations[user_id]\n",
    "        is_target_item_present = any(item in topNRec for item in targetItems)\n",
    "        if is_target_item_present:\n",
    "            recWithTargetItems[user_id] = topNRec\n",
    "            print(user_id, topNRec)\n",
    "    \n",
    "    return recWithTargetItems"
   ]
  },
  {
   "cell_type": "code",
   "execution_count": 647,
   "id": "c4a7938c",
   "metadata": {
    "scrolled": true
   },
   "outputs": [
    {
     "name": "stdout",
     "output_type": "stream",
     "text": [
      "137 [50, 174, 181, 96, 1269, 868, 1301, 1515, 1191, 79]\n",
      "300 [1515, 868, 1313, 1191, 1301, 927, 1124, 1521, 881, 922]\n",
      "332 [169, 868, 313, 50, 318, 1301, 1191, 174, 64, 927]\n",
      "388 [96, 1269, 1301, 927, 1191, 868, 50, 79, 174, 98]\n",
      "372 [868, 1482, 1124, 1301, 1449, 1191, 927, 1220, 98, 1063]\n",
      "319 [318, 316, 272, 1662, 313, 64, 246, 133, 1301, 1191]\n",
      "355 [1515, 1662, 1301, 1191, 927, 1449, 50, 868, 313, 318]\n",
      "348 [313, 927, 1301, 1191, 868, 126, 22, 1449, 318, 50]\n",
      "164 [272, 318, 1443, 1449, 313, 927, 22, 1191, 868, 126]\n",
      "169 [258, 64, 190, 313, 1137, 408, 50, 927, 1301, 1191]\n",
      "283 [50, 169, 483, 12, 114, 1191, 64, 168, 172, 1301]\n",
      "57 [64, 50, 313, 318, 181, 169, 174, 1191, 963, 927]\n",
      "279 [1491, 1206, 502, 169, 868, 1191, 189, 862, 927, 1301]\n",
      "257 [318, 315, 1449, 316, 251, 19, 285, 14, 1191, 515]\n",
      "309 [1515, 258, 1301, 868, 1191, 331, 927, 1269, 1293, 1521]\n",
      "262 [1449, 190, 131, 483, 699, 1191, 251, 318, 486, 813]\n",
      "127 [230, 271, 228, 222, 901, 1269, 343, 258, 1521, 927]\n",
      "88 [1515, 1449, 1191, 921, 1558, 537, 286, 1193, 311, 1301]\n",
      "324 [318, 515, 64, 272, 316, 1515, 1191, 313, 169, 1301]\n",
      "301 [50, 174, 181, 318, 169, 172, 1191, 64, 1301, 96]\n",
      "4 [1191, 10, 868, 1301, 784, 927, 318, 315, 258, 1521]\n",
      "39 [169, 937, 302, 50, 1191, 288, 430, 1131, 962, 927]\n",
      "130 [318, 313, 50, 64, 1344, 1191, 1301, 174, 963, 927]\n",
      "244 [1467, 246, 14, 268, 921, 56, 357, 64, 1191, 318]\n",
      "434 [1152, 1344, 975, 974, 288, 1218, 1298, 763, 784, 927]\n",
      "439 [1600, 318, 963, 408, 169, 285, 251, 483, 127, 1191]\n",
      "428 [50, 272, 408, 927, 1191, 1301, 313, 1449, 1330, 181]\n",
      "400 [313, 1449, 258, 50, 302, 173, 169, 1191, 127, 868]\n",
      "45 [1449, 1191, 50, 169, 927, 1301, 258, 483, 318, 868]\n",
      "320 [64, 96, 174, 50, 1301, 22, 195, 1019, 470, 318]\n",
      "261 [1515, 1269, 927, 1220, 272, 1301, 1191, 300, 868, 313]\n",
      "38 [143, 451, 1124, 966, 1344, 568, 421, 79, 313, 927]\n",
      "418 [899, 288, 333, 258, 895, 219, 1521, 927, 1301, 914]\n",
      "356 [258, 1191, 1301, 868, 1515, 927, 1521, 50, 318, 1124]\n",
      "245 [1033, 784, 1124, 1344, 927, 1301, 1191, 1298, 1482, 189]\n",
      "427 [904, 1191, 1521, 1482, 1301, 868, 1515, 927, 316, 315]\n",
      "113 [1515, 1251, 868, 1301, 318, 169, 1191, 927, 784, 316]\n",
      "351 [318, 1191, 1301, 868, 927, 750, 1344, 1167, 1124, 1449]\n",
      "256 [313, 1344, 316, 1482, 1269, 966, 868, 64, 1191, 1301]\n",
      "203 [288, 150, 1515, 283, 50, 96, 1218, 403, 1191, 95]\n",
      "341 [1515, 881, 1333, 299, 330, 1025, 874, 1124, 313, 1301]\n",
      "200 [50, 1269, 318, 64, 1344, 496, 1515, 483, 174, 1191]\n",
      "109 [50, 174, 313, 1515, 228, 79, 181, 1167, 927, 1191]\n",
      "33 [313, 1515, 868, 1301, 1191, 927, 1482, 96, 1124, 899]\n",
      "150 [276, 1662, 904, 913, 1124, 1645, 1449, 1191, 1636, 1301]\n",
      "118 [50, 408, 1449, 853, 169, 134, 127, 1191, 168, 89]\n",
      "302 [921, 271, 179, 301, 1137, 1191, 1449, 868, 1301, 432]\n",
      "66 [50, 64, 172, 12, 1269, 313, 169, 114, 272, 1301]\n",
      "282 [1449, 1191, 784, 868, 1301, 1662, 483, 927, 1521, 258]\n",
      "275 [50, 174, 181, 313, 172, 169, 483, 1344, 927, 1191]\n",
      "399 [318, 1396, 1124, 1482, 1191, 313, 316, 1301, 1269, 927]\n",
      "393 [1301, 1269, 927, 1191, 868, 181, 316, 318, 50, 64]\n",
      "36 [1515, 1301, 868, 1191, 133, 1344, 1218, 927, 1269, 878]\n",
      "422 [98, 320, 318, 1191, 50, 512, 868, 921, 515, 1301]\n",
      "Number of users with targets: 54\n"
     ]
    }
   ],
   "source": [
    "testUserIds = testDf.user_id.unique()\n",
    "topNRecAllUsersAtk = getTopNRecommendations(model_atk, testUserIds)\n",
    "topNRecAllUsersWithTargets = filterRecsByTargetItem(topNRecAllUsersAtk, target_items)\n",
    "print(f'Number of users with targets: {len(topNRecAllUsersWithTargets)}')"
   ]
  },
  {
   "cell_type": "code",
   "execution_count": 648,
   "id": "7664c698",
   "metadata": {
    "scrolled": true
   },
   "outputs": [
    {
     "name": "stdout",
     "output_type": "stream",
     "text": [
      "440 [190, 1449, 302, 1191, 408, 12, 1194, 513, 64, 242]\n",
      "88 [1191, 1449, 286, 745, 311, 1466, 251, 537, 19, 921]\n",
      "Number of users with targets before attack: 2\n"
     ]
    }
   ],
   "source": [
    "topNRecAllUsersB4 = getTopNRecommendations(model, testUserIds)\n",
    "topNRecAllUsersWithTargetsB4 = filterRecsByTargetItem(topNRecAllUsersB4, target_items)\n",
    "print(f'Number of users with targets before attack: {len(topNRecAllUsersWithTargetsB4)}')"
   ]
  },
  {
   "cell_type": "code",
   "execution_count": 660,
   "id": "732ac537",
   "metadata": {},
   "outputs": [],
   "source": [
    "def getHitRatioPerItem(topNRecAllUsers, targetItems):\n",
    "    hitRatioAllItems = {}\n",
    "    \n",
    "    for item in targetItems:\n",
    "        usersWithItem = 0\n",
    "        for user in topNRecAllUsers.keys():\n",
    "            if item in topNRecAllUsers[user]:\n",
    "                usersWithItem += 1\n",
    "        hitRatio_i = usersWithItem/(len(topNRecAllUsers.keys()) * 1.0)\n",
    "        hitRatioAllItems[item] = hitRatio_i\n",
    "                                    \n",
    "    return hitRatioAllItems \n",
    "\n",
    "def getAvgHitRatio(hitRatioPerItem):\n",
    "    hitRatioPerItem = getHitRatioPerItem(topNRecAllUsersAtk, target_items)\n",
    "\n",
    "    sumHitRatio = 0\n",
    "    for hitRatio_i in hitRatioPerItem.values():\n",
    "        sumHitRatio += hitRatio_i \n",
    "    return sumHitRatio/(len(hitRatioPerItem.keys()) * 1.0)"
   ]
  },
  {
   "cell_type": "code",
   "execution_count": 664,
   "id": "705bd0df",
   "metadata": {},
   "outputs": [
    {
     "name": "stdout",
     "output_type": "stream",
     "text": [
      "hitRatioPerItem:  {868: 0.054466230936819175, 1162: 0.0, 927: 0.0718954248366013, 1521: 0.017429193899782137, 1301: 0.08278867102396514, 1191: 0.10239651416122005}\n",
      "\n",
      "avgHitRatio after attack:  0.05482933914306464\n"
     ]
    }
   ],
   "source": [
    "hitRatioPerItem = getHitRatioPerItem(topNRecAllUsersAtk, target_items)\n",
    "print(\"hitRatioPerItem: \", hitRatioPerItem)\n",
    "avgHitRatio = getAvgHitRatio(hitRatioPerItem)\n",
    "print(\"\\navgHitRatio after attack: \", avgHitRatio)"
   ]
  },
  {
   "cell_type": "markdown",
   "id": "47cfbb18",
   "metadata": {},
   "source": [
    "## Random Analysis <a class=\"anchor\" id=\"rand-analysis\"></a>"
   ]
  },
  {
   "cell_type": "markdown",
   "id": "ce315653",
   "metadata": {},
   "source": [
    "### Choose items which have less rating (long tail items) as target items. \n",
    "* Two cases 5 items which has less rating count but high avg rating value \n",
    "* Two cases 5 items which has less rating count but low avg rating value  "
   ]
  },
  {
   "cell_type": "code",
   "execution_count": 696,
   "id": "093c570d",
   "metadata": {},
   "outputs": [],
   "source": []
  },
  {
   "cell_type": "markdown",
   "id": "eb7b93b9",
   "metadata": {},
   "source": [
    "### Choose target items which have rating avg less than 2 randomly"
   ]
  },
  {
   "cell_type": "markdown",
   "id": "0e64bbdb",
   "metadata": {},
   "source": [
    "### Choose target items which have average rating and average popularity "
   ]
  },
  {
   "cell_type": "markdown",
   "id": "ce254d6a",
   "metadata": {},
   "source": [
    "### Metrics using single target item randomly (with rating below 1 and rating between 1 - 2 and 3), 10 target items"
   ]
  },
  {
   "cell_type": "code",
   "execution_count": null,
   "id": "4351efe6",
   "metadata": {},
   "outputs": [],
   "source": []
  }
 ],
 "metadata": {
  "kernelspec": {
   "display_name": "Python 3",
   "language": "python",
   "name": "python3"
  },
  "language_info": {
   "codemirror_mode": {
    "name": "ipython",
    "version": 3
   },
   "file_extension": ".py",
   "mimetype": "text/x-python",
   "name": "python",
   "nbconvert_exporter": "python",
   "pygments_lexer": "ipython3",
   "version": "3.7.10"
  }
 },
 "nbformat": 4,
 "nbformat_minor": 5
}
