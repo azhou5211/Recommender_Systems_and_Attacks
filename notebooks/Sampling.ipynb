{
 "cells": [
  {
   "cell_type": "code",
   "execution_count": 1,
   "metadata": {},
   "outputs": [],
   "source": [
    "import pandas as pd\n",
    "import numpy as np\n",
    "import matplotlib.pyplot as plt\n",
    "import random\n",
    "import scipy.stats as ss\n",
    "\n",
    "import pyspark\n",
    "from pyspark.sql import *\n",
    "from pyspark.sql.types import *\n",
    "from pyspark.sql.functions import *\n",
    "from pyspark import SparkContext, SparkConf\n",
    "\n",
    "from pyspark.ml.evaluation import RegressionEvaluator\n",
    "from pyspark.ml.recommendation import ALS\n",
    "from pyspark.sql import Row\n",
    "\n",
    "np.random.seed(55)"
   ]
  },
  {
   "cell_type": "code",
   "execution_count": 2,
   "metadata": {},
   "outputs": [],
   "source": [
    "# create the session\n",
    "conf = SparkConf().set(\"spark.ui.port\", \"4050\")\n",
    "\n",
    "# create the context\n",
    "sc = pyspark.SparkContext(conf=conf)\n",
    "spark = SparkSession.builder.getOrCreate()"
   ]
  },
  {
   "cell_type": "code",
   "execution_count": 3,
   "metadata": {},
   "outputs": [],
   "source": [
    "schema_ratings = StructType([\n",
    "    StructField(\"user_id\", IntegerType(), False),\n",
    "    StructField(\"item_id\", IntegerType(), False),\n",
    "    StructField(\"rating\", IntegerType(), False),\n",
    "    StructField(\"timestamp\", IntegerType(), False)])\n",
    "\n",
    "schema_items = StructType([\n",
    "    StructField(\"item_id\", IntegerType(), False),\n",
    "    StructField(\"movie\", StringType(), False)])\n",
    "\n",
    "training = spark.read.option(\"sep\", \"\\t\").csv(\"../data/MovieLens.training\", header=False, schema=schema_ratings)\n",
    "test = spark.read.option(\"sep\", \"\\t\").csv(\"../data/MovieLens.test\", header=False, schema=schema_ratings)\n",
    "items = spark.read.option(\"sep\", \"|\").csv(\"../data/MovieLens.item\", header=False, schema=schema_items)"
   ]
  },
  {
   "cell_type": "code",
   "execution_count": 4,
   "metadata": {},
   "outputs": [],
   "source": [
    "#training = training.toPandas()\n",
    "#test = test.toPandas()"
   ]
  },
  {
   "cell_type": "code",
   "execution_count": 5,
   "metadata": {},
   "outputs": [],
   "source": [
    "#total = pd.concat([training,test])\n",
    "#total"
   ]
  },
  {
   "cell_type": "code",
   "execution_count": 6,
   "metadata": {},
   "outputs": [],
   "source": [
    "#len(total.user_id.unique())"
   ]
  },
  {
   "cell_type": "code",
   "execution_count": 7,
   "metadata": {},
   "outputs": [],
   "source": [
    "#len(total.item_id.unique())"
   ]
  },
  {
   "cell_type": "markdown",
   "metadata": {},
   "source": [
    "# Base Model"
   ]
  },
  {
   "cell_type": "code",
   "execution_count": 8,
   "metadata": {},
   "outputs": [
    {
     "data": {
      "text/plain": [
       "0.9289072116296536"
      ]
     },
     "execution_count": 8,
     "metadata": {},
     "output_type": "execute_result"
    }
   ],
   "source": [
    "# 0.1\n",
    "als = ALS(maxIter=10, rank=100, regParam=0.1, userCol=\"user_id\", itemCol=\"item_id\", ratingCol=\"rating\", coldStartStrategy=\"drop\")\n",
    "modelBefore = als.fit(training)\n",
    "predictions = modelBefore.transform(test)\n",
    "evaluator = RegressionEvaluator(metricName=\"rmse\", labelCol=\"rating\", predictionCol=\"prediction\")\n",
    "rmse = evaluator.evaluate(predictions)\n",
    "rmse"
   ]
  },
  {
   "cell_type": "code",
   "execution_count": 9,
   "metadata": {},
   "outputs": [
    {
     "name": "stdout",
     "output_type": "stream",
     "text": [
      "+-------+-------+------+---------+----------+\n",
      "|user_id|item_id|rating|timestamp|prediction|\n",
      "+-------+-------+------+---------+----------+\n",
      "|    251|    148|     2|886272547| 3.1861904|\n",
      "|    332|    148|     5|887938486| 3.7069576|\n",
      "|     44|    148|     4|878346946| 3.1629443|\n",
      "|    236|    148|     4|890117028| 2.3182583|\n",
      "|    222|    148|     2|881061164|  2.922283|\n",
      "|    372|    148|     5|876869915| 3.6742992|\n",
      "|    224|    148|     3|888104154| 3.2511005|\n",
      "|      1|    148|     2|875240799|  2.674487|\n",
      "|    274|    148|     2|878946133| 3.4395094|\n",
      "|    178|    148|     4|882824325|  3.587033|\n",
      "|    328|    148|     3|885048638| 3.1832826|\n",
      "|    164|    148|     5|889402203| 3.9701242|\n",
      "|    120|    148|     3|889490499|  3.075549|\n",
      "|     92|    148|     2|877383934| 2.9823596|\n",
      "|    447|    148|     4|878854729|  3.013447|\n",
      "|     15|    148|     3|879456049| 2.8941395|\n",
      "|     59|    148|     3|888203175|  3.133169|\n",
      "|     49|    148|     1|888068195|  1.340607|\n",
      "|    130|    148|     4|876251127| 3.8890634|\n",
      "|    244|    148|     2|880605071| 2.8087103|\n",
      "+-------+-------+------+---------+----------+\n",
      "only showing top 20 rows\n",
      "\n"
     ]
    }
   ],
   "source": [
    "predBefore = predictions.toPandas()\n",
    "predictions.show()"
   ]
  },
  {
   "cell_type": "code",
   "execution_count": 10,
   "metadata": {},
   "outputs": [
    {
     "name": "stdout",
     "output_type": "stream",
     "text": [
      "Total users with 243: 0\n"
     ]
    }
   ],
   "source": [
    "userRecs = modelBefore.recommendForAllUsers(10)\n",
    "userRecs = userRecs.toPandas()\n",
    "\n",
    "target_item = 243\n",
    "count = 0\n",
    "for index, row in userRecs.iterrows():\n",
    "    recommendations = [r['item_id'] for r in row['recommendations']]\n",
    "    if target_item in recommendations:\n",
    "        print(row['user_id'], recommendations)\n",
    "        count += 1\n",
    "print(f'Total users with {target_item}: {count}')"
   ]
  },
  {
   "cell_type": "markdown",
   "metadata": {},
   "source": [
    "# Training data analysis"
   ]
  },
  {
   "cell_type": "code",
   "execution_count": 11,
   "metadata": {},
   "outputs": [
    {
     "data": {
      "text/html": [
       "<div>\n",
       "<style scoped>\n",
       "    .dataframe tbody tr th:only-of-type {\n",
       "        vertical-align: middle;\n",
       "    }\n",
       "\n",
       "    .dataframe tbody tr th {\n",
       "        vertical-align: top;\n",
       "    }\n",
       "\n",
       "    .dataframe thead th {\n",
       "        text-align: right;\n",
       "    }\n",
       "</style>\n",
       "<table border=\"1\" class=\"dataframe\">\n",
       "  <thead>\n",
       "    <tr style=\"text-align: right;\">\n",
       "      <th></th>\n",
       "      <th>user_id</th>\n",
       "      <th>item_id</th>\n",
       "      <th>rating</th>\n",
       "      <th>timestamp</th>\n",
       "    </tr>\n",
       "  </thead>\n",
       "  <tbody>\n",
       "    <tr>\n",
       "      <th>0</th>\n",
       "      <td>1</td>\n",
       "      <td>1</td>\n",
       "      <td>5</td>\n",
       "      <td>874965758</td>\n",
       "    </tr>\n",
       "    <tr>\n",
       "      <th>1</th>\n",
       "      <td>1</td>\n",
       "      <td>2</td>\n",
       "      <td>3</td>\n",
       "      <td>876893171</td>\n",
       "    </tr>\n",
       "    <tr>\n",
       "      <th>2</th>\n",
       "      <td>1</td>\n",
       "      <td>3</td>\n",
       "      <td>4</td>\n",
       "      <td>878542960</td>\n",
       "    </tr>\n",
       "    <tr>\n",
       "      <th>3</th>\n",
       "      <td>1</td>\n",
       "      <td>4</td>\n",
       "      <td>3</td>\n",
       "      <td>876893119</td>\n",
       "    </tr>\n",
       "    <tr>\n",
       "      <th>4</th>\n",
       "      <td>1</td>\n",
       "      <td>5</td>\n",
       "      <td>3</td>\n",
       "      <td>889751712</td>\n",
       "    </tr>\n",
       "    <tr>\n",
       "      <th>...</th>\n",
       "      <td>...</td>\n",
       "      <td>...</td>\n",
       "      <td>...</td>\n",
       "      <td>...</td>\n",
       "    </tr>\n",
       "    <tr>\n",
       "      <th>79995</th>\n",
       "      <td>943</td>\n",
       "      <td>1067</td>\n",
       "      <td>2</td>\n",
       "      <td>875501756</td>\n",
       "    </tr>\n",
       "    <tr>\n",
       "      <th>79996</th>\n",
       "      <td>943</td>\n",
       "      <td>1074</td>\n",
       "      <td>4</td>\n",
       "      <td>888640250</td>\n",
       "    </tr>\n",
       "    <tr>\n",
       "      <th>79997</th>\n",
       "      <td>943</td>\n",
       "      <td>1188</td>\n",
       "      <td>3</td>\n",
       "      <td>888640250</td>\n",
       "    </tr>\n",
       "    <tr>\n",
       "      <th>79998</th>\n",
       "      <td>943</td>\n",
       "      <td>1228</td>\n",
       "      <td>3</td>\n",
       "      <td>888640275</td>\n",
       "    </tr>\n",
       "    <tr>\n",
       "      <th>79999</th>\n",
       "      <td>943</td>\n",
       "      <td>1330</td>\n",
       "      <td>3</td>\n",
       "      <td>888692465</td>\n",
       "    </tr>\n",
       "  </tbody>\n",
       "</table>\n",
       "<p>80000 rows × 4 columns</p>\n",
       "</div>"
      ],
      "text/plain": [
       "       user_id  item_id  rating  timestamp\n",
       "0            1        1       5  874965758\n",
       "1            1        2       3  876893171\n",
       "2            1        3       4  878542960\n",
       "3            1        4       3  876893119\n",
       "4            1        5       3  889751712\n",
       "...        ...      ...     ...        ...\n",
       "79995      943     1067       2  875501756\n",
       "79996      943     1074       4  888640250\n",
       "79997      943     1188       3  888640250\n",
       "79998      943     1228       3  888640275\n",
       "79999      943     1330       3  888692465\n",
       "\n",
       "[80000 rows x 4 columns]"
      ]
     },
     "execution_count": 11,
     "metadata": {},
     "output_type": "execute_result"
    }
   ],
   "source": [
    "movie = training.toPandas()\n",
    "movie"
   ]
  },
  {
   "cell_type": "code",
   "execution_count": 12,
   "metadata": {},
   "outputs": [
    {
     "data": {
      "text/plain": [
       "943"
      ]
     },
     "execution_count": 12,
     "metadata": {},
     "output_type": "execute_result"
    }
   ],
   "source": [
    "len(movie.user_id.unique())"
   ]
  },
  {
   "cell_type": "code",
   "execution_count": 13,
   "metadata": {},
   "outputs": [
    {
     "data": {
      "text/html": [
       "<div>\n",
       "<style scoped>\n",
       "    .dataframe tbody tr th:only-of-type {\n",
       "        vertical-align: middle;\n",
       "    }\n",
       "\n",
       "    .dataframe tbody tr th {\n",
       "        vertical-align: top;\n",
       "    }\n",
       "\n",
       "    .dataframe thead th {\n",
       "        text-align: right;\n",
       "    }\n",
       "</style>\n",
       "<table border=\"1\" class=\"dataframe\">\n",
       "  <thead>\n",
       "    <tr style=\"text-align: right;\">\n",
       "      <th></th>\n",
       "      <th>item_id</th>\n",
       "      <th>user_id</th>\n",
       "      <th>rating</th>\n",
       "      <th>timestamp</th>\n",
       "    </tr>\n",
       "  </thead>\n",
       "  <tbody>\n",
       "    <tr>\n",
       "      <th>242</th>\n",
       "      <td>243</td>\n",
       "      <td>108</td>\n",
       "      <td>108</td>\n",
       "      <td>108</td>\n",
       "    </tr>\n",
       "  </tbody>\n",
       "</table>\n",
       "</div>"
      ],
      "text/plain": [
       "     item_id  user_id  rating  timestamp\n",
       "242      243      108     108        108"
      ]
     },
     "execution_count": 13,
     "metadata": {},
     "output_type": "execute_result"
    }
   ],
   "source": [
    "f = movie.groupby('item_id', as_index=False).count().sort_values(by=['rating'])\n",
    "f = f[f['item_id'] == 243]\n",
    "f"
   ]
  },
  {
   "cell_type": "code",
   "execution_count": 14,
   "metadata": {},
   "outputs": [
    {
     "data": {
      "text/html": [
       "<div>\n",
       "<style scoped>\n",
       "    .dataframe tbody tr th:only-of-type {\n",
       "        vertical-align: middle;\n",
       "    }\n",
       "\n",
       "    .dataframe tbody tr th {\n",
       "        vertical-align: top;\n",
       "    }\n",
       "\n",
       "    .dataframe thead th {\n",
       "        text-align: right;\n",
       "    }\n",
       "</style>\n",
       "<table border=\"1\" class=\"dataframe\">\n",
       "  <thead>\n",
       "    <tr style=\"text-align: right;\">\n",
       "      <th></th>\n",
       "      <th>user_id</th>\n",
       "      <th>rating</th>\n",
       "      <th>timestamp</th>\n",
       "    </tr>\n",
       "    <tr>\n",
       "      <th>item_id</th>\n",
       "      <th></th>\n",
       "      <th></th>\n",
       "      <th></th>\n",
       "    </tr>\n",
       "  </thead>\n",
       "  <tbody>\n",
       "    <tr>\n",
       "      <th>585</th>\n",
       "      <td>525.777778</td>\n",
       "      <td>2.472222</td>\n",
       "      <td>8.842056e+08</td>\n",
       "    </tr>\n",
       "    <tr>\n",
       "      <th>158</th>\n",
       "      <td>462.780000</td>\n",
       "      <td>2.480000</td>\n",
       "      <td>8.811020e+08</td>\n",
       "    </tr>\n",
       "    <tr>\n",
       "      <th>243</th>\n",
       "      <td>528.870370</td>\n",
       "      <td>2.490741</td>\n",
       "      <td>8.841078e+08</td>\n",
       "    </tr>\n",
       "    <tr>\n",
       "      <th>759</th>\n",
       "      <td>537.000000</td>\n",
       "      <td>2.500000</td>\n",
       "      <td>8.813114e+08</td>\n",
       "    </tr>\n",
       "    <tr>\n",
       "      <th>681</th>\n",
       "      <td>555.083333</td>\n",
       "      <td>2.500000</td>\n",
       "      <td>8.842872e+08</td>\n",
       "    </tr>\n",
       "  </tbody>\n",
       "</table>\n",
       "</div>"
      ],
      "text/plain": [
       "            user_id    rating     timestamp\n",
       "item_id                                    \n",
       "585      525.777778  2.472222  8.842056e+08\n",
       "158      462.780000  2.480000  8.811020e+08\n",
       "243      528.870370  2.490741  8.841078e+08\n",
       "759      537.000000  2.500000  8.813114e+08\n",
       "681      555.083333  2.500000  8.842872e+08"
      ]
     },
     "execution_count": 14,
     "metadata": {},
     "output_type": "execute_result"
    }
   ],
   "source": [
    "movie.groupby('item_id').mean().sort_values(by=['rating']).iloc[300:305]"
   ]
  },
  {
   "cell_type": "code",
   "execution_count": 15,
   "metadata": {},
   "outputs": [
    {
     "data": {
      "text/plain": [
       "count    80000.000000\n",
       "mean         3.528350\n",
       "std          1.118565\n",
       "min          1.000000\n",
       "25%          3.000000\n",
       "50%          4.000000\n",
       "75%          4.000000\n",
       "max          5.000000\n",
       "Name: rating, dtype: float64"
      ]
     },
     "execution_count": 15,
     "metadata": {},
     "output_type": "execute_result"
    }
   ],
   "source": [
    "movie.rating.describe()"
   ]
  },
  {
   "cell_type": "code",
   "execution_count": 16,
   "metadata": {},
   "outputs": [
    {
     "data": {
      "text/plain": [
       "array([5, 3, 4, ..., 3, 3, 3], dtype=int32)"
      ]
     },
     "execution_count": 16,
     "metadata": {},
     "output_type": "execute_result"
    }
   ],
   "source": [
    "ratings = movie.rating.to_numpy()\n",
    "ratings"
   ]
  },
  {
   "cell_type": "markdown",
   "metadata": {},
   "source": [
    "### Original Distribution"
   ]
  },
  {
   "cell_type": "code",
   "execution_count": 17,
   "metadata": {},
   "outputs": [
    {
     "data": {
      "image/png": "[encoded data removed]",
      "text/plain": [
       "<Figure size 432x288 with 1 Axes>"
      ]
     },
     "metadata": {
      "needs_background": "light"
     },
     "output_type": "display_data"
    }
   ],
   "source": [
    "plt.xlabel(\"Movie Rating\")\n",
    "plt.ylabel(\"Frequency\")\n",
    "plt.title(\"Movie Rating Histogram\")\n",
    "plt.hist(movie.rating, bins=5)\n",
    "plt.xticks(np.arange(1,6))\n",
    "plt.show()"
   ]
  },
  {
   "cell_type": "code",
   "execution_count": 18,
   "metadata": {},
   "outputs": [
    {
     "data": {
      "text/plain": [
       "(array([ 5778.,  4287.,  5607.,  7057., 10490., 10454.,  9415.,  8113.,\n",
       "         8795., 10004.]),\n",
       " array([  1. ,  95.2, 189.4, 283.6, 377.8, 472. , 566.2, 660.4, 754.6,\n",
       "        848.8, 943. ]),\n",
       " <BarContainer object of 10 artists>)"
      ]
     },
     "execution_count": 18,
     "metadata": {},
     "output_type": "execute_result"
    },
    {
     "data": {
      "image/png": "[encoded data removed]",
      "text/plain": [
       "<Figure size 432x288 with 1 Axes>"
      ]
     },
     "metadata": {
      "needs_background": "light"
     },
     "output_type": "display_data"
    }
   ],
   "source": [
    "plt.hist(movie.user_id)"
   ]
  },
  {
   "cell_type": "code",
   "execution_count": 19,
   "metadata": {},
   "outputs": [
    {
     "data": {
      "image/png": "[encoded data removed]",
      "text/plain": [
       "<Figure size 432x288 with 1 Axes>"
      ]
     },
     "metadata": {
      "needs_background": "light"
     },
     "output_type": "display_data"
    }
   ],
   "source": [
    "plt.hist(movie.item_id, bins=50)\n",
    "plt.title(\"Movie Popularity\")\n",
    "plt.xlabel(\"Movies\")\n",
    "plt.ylabel(\"Frequency (Number of times a movie was rated)\")\n",
    "plt.tick_params(\n",
    "    axis='x',          # changes apply to the x-axis\n",
    "    which='both',      # both major and minor ticks are affected\n",
    "    bottom=False,      # ticks along the bottom edge are off\n",
    "    top=False,         # ticks along the top edge are off\n",
    "    labelbottom=False) # labels along the bottom edge are off"
   ]
  },
  {
   "cell_type": "code",
   "execution_count": 20,
   "metadata": {},
   "outputs": [
    {
     "data": {
      "text/plain": [
       "(array([568., 191.,  94.,  55.,  19.,  11.,   1.,   2.,   1.,   1.]),\n",
       " array([  4. ,  72.1, 140.2, 208.3, 276.4, 344.5, 412.6, 480.7, 548.8,\n",
       "        616.9, 685. ]),\n",
       " <BarContainer object of 10 artists>)"
      ]
     },
     "execution_count": 20,
     "metadata": {},
     "output_type": "execute_result"
    },
    {
     "data": {
      "image/png": "[encoded data removed]",
      "text/plain": [
       "<Figure size 432x288 with 1 Axes>"
      ]
     },
     "metadata": {
      "needs_background": "light"
     },
     "output_type": "display_data"
    }
   ],
   "source": [
    "# Distribution of number of ratings by users\n",
    "num_of_ratings = movie.groupby('user_id', as_index=False).agg({'rating':'count'}).rename(columns={'rating':'count'}).sort_values(by=['user_id'])\n",
    "#num_of_ratings['count']\n",
    "plt.hist(num_of_ratings['count'])"
   ]
  },
  {
   "cell_type": "markdown",
   "metadata": {},
   "source": [
    "# Target items and users"
   ]
  },
  {
   "cell_type": "code",
   "execution_count": 21,
   "metadata": {},
   "outputs": [
    {
     "name": "stdout",
     "output_type": "stream",
     "text": [
      "num_users: 943 num_items : 1650\n",
      "max_user_id:  943  max_item_id:  1682\n"
     ]
    }
   ],
   "source": [
    "trainDf = training.toPandas()\n",
    "testDf = test.toPandas()\n",
    "num_users, num_items = len(trainDf.user_id.unique()), len(trainDf.item_id.unique())\n",
    "max_uid, max_iid = trainDf.user_id.unique().max(), trainDf.item_id.unique().max()\n",
    "print(f'num_users: {num_users} num_items : {num_items}')\n",
    "print(f'max_user_id: ', max_uid, \" max_item_id: \", max_iid)"
   ]
  },
  {
   "cell_type": "code",
   "execution_count": 22,
   "metadata": {},
   "outputs": [],
   "source": [
    "#target_items = [1580, 1581, 1577, 1583, 1570]\n",
    "target_items = [868, 1162, 927, 1521, 1301, 1191]"
   ]
  },
  {
   "cell_type": "code",
   "execution_count": 23,
   "metadata": {},
   "outputs": [
    {
     "name": "stdout",
     "output_type": "stream",
     "text": [
      "selected_items:  [ 50 181 258]\n"
     ]
    }
   ],
   "source": [
    "NUM_SEL_ITEMS = 3\n",
    "# - Create popular selected item list\n",
    "item_ratings = dict(trainDf.groupby('item_id').size())\n",
    "item_pop = [0] * (max_iid + 1)\n",
    "\n",
    "for item_id in item_ratings.keys():\n",
    "    item_pop[item_id] = item_ratings[item_id]\n",
    "    \n",
    "items_sorted = np.array(item_pop).argsort()[::-1]\n",
    "selected_items = items_sorted[:NUM_SEL_ITEMS]\n",
    "print(\"selected_items: \", selected_items)"
   ]
  },
  {
   "cell_type": "code",
   "execution_count": 24,
   "metadata": {},
   "outputs": [
    {
     "name": "stdout",
     "output_type": "stream",
     "text": [
      "target_users:  674\n"
     ]
    }
   ],
   "source": [
    "# - create target users  \n",
    "def getTargetUsers(targetItems):\n",
    "    users_rated_target = set(trainDf[trainDf.item_id.isin(targetItems)].user_id.values)\n",
    "    # - Users who have not rated target item\n",
    "    data_tmp = trainDf[~trainDf.user_id.isin(users_rated_target)].copy()\n",
    "    #data_tmp = data_tmp[data_tmp.rating >= threshold]\n",
    "\n",
    "    # - Users who have not rated target item and have rated selected_items\n",
    "    target_users = data_tmp[data_tmp.item_id.isin(selected_items)].groupby('user_id').size()\n",
    "    \n",
    "    #print(\"Number of target users: \", target_users[(target_users == NUM_SEL_ITEMS)].shape[0])\n",
    "    target_users = sorted(target_users.index)\n",
    "    return target_users\n",
    "target_users = getTargetUsers(target_items)\n",
    "print(\"target_users: \", len(target_users))"
   ]
  },
  {
   "cell_type": "markdown",
   "metadata": {},
   "source": [
    "# Generate the random ratings from the global distribution"
   ]
  },
  {
   "cell_type": "markdown",
   "metadata": {},
   "source": [
    "# New Random attack with 50 user profiles"
   ]
  },
  {
   "cell_type": "code",
   "execution_count": 25,
   "metadata": {},
   "outputs": [],
   "source": [
    "# Generate 50 user_ids\n",
    "number_of_ids = 50\n",
    "starting_id = 1000\n",
    "new_user_ids = np.arange(starting_id, starting_id+number_of_ids)"
   ]
  },
  {
   "cell_type": "code",
   "execution_count": 26,
   "metadata": {},
   "outputs": [],
   "source": [
    "# Get list of number of ratings for the 50 users\n",
    "def get_num_of_ratings(num_of_ratings, add_noise = True):\n",
    "    num_of_ratings_list = num_of_ratings['count'].sample(n=number_of_ids, random_state=1, replace=True).to_numpy()\n",
    "    if add_noise:\n",
    "        x = np.arange(-10, 11)\n",
    "        xU, xL = x + 0.5, x - 0.5 \n",
    "        prob = ss.norm.cdf(xU, scale = 3) - ss.norm.cdf(xL, scale = 3)\n",
    "        prob = prob / prob.sum() # normalize the probabilities so their sum is 1\n",
    "        nums = np.random.choice(x, size = 50, p = prob)\n",
    "        num_of_ratings_list = num_of_ratings_list + nums\n",
    "    return num_of_ratings_list\n"
   ]
  },
  {
   "cell_type": "code",
   "execution_count": 27,
   "metadata": {},
   "outputs": [],
   "source": [
    "def generate_sample_attack(new_user_ids, num_of_ratings_list, target_item = []):\n",
    "    if len(new_user_ids) != len(num_of_ratings_list):\n",
    "        raise Exception()\n",
    "    \n",
    "    \n",
    "    attack_df = pd.DataFrame(columns=['user_id', 'item_id', 'rating'])\n",
    "    for i in range(len(new_user_ids)):\n",
    "        user_id = new_user_ids[i]\n",
    "        num_of_ratings = num_of_ratings_list[i]\n",
    "        \n",
    "        random_movies = movie['item_id'].sample(n=num_of_ratings, random_state=3).to_numpy()\n",
    "        random_ratings = movie['rating'].sample(n=num_of_ratings, random_state=55, replace=True).to_numpy()\n",
    "        \n",
    "        for j in range(num_of_ratings):\n",
    "            if(random_movies[j] not in target_item):\n",
    "                attack_df.loc[len(attack_df.index)] = [user_id, random_movies[j], random_ratings[j]] \n",
    "        \n",
    "        for item in target_item:\n",
    "            attack_df.loc[len(attack_df.index)] = [user_id, item, 5]\n",
    "    \n",
    "    return attack_df\n",
    "\n"
   ]
  },
  {
   "cell_type": "code",
   "execution_count": 28,
   "metadata": {},
   "outputs": [
    {
     "data": {
      "text/html": [
       "<div>\n",
       "<style scoped>\n",
       "    .dataframe tbody tr th:only-of-type {\n",
       "        vertical-align: middle;\n",
       "    }\n",
       "\n",
       "    .dataframe tbody tr th {\n",
       "        vertical-align: top;\n",
       "    }\n",
       "\n",
       "    .dataframe thead th {\n",
       "        text-align: right;\n",
       "    }\n",
       "</style>\n",
       "<table border=\"1\" class=\"dataframe\">\n",
       "  <thead>\n",
       "    <tr style=\"text-align: right;\">\n",
       "      <th></th>\n",
       "      <th>user_id</th>\n",
       "      <th>item_id</th>\n",
       "      <th>rating</th>\n",
       "    </tr>\n",
       "  </thead>\n",
       "  <tbody>\n",
       "    <tr>\n",
       "      <th>0</th>\n",
       "      <td>1000</td>\n",
       "      <td>190</td>\n",
       "      <td>5</td>\n",
       "    </tr>\n",
       "    <tr>\n",
       "      <th>1</th>\n",
       "      <td>1000</td>\n",
       "      <td>802</td>\n",
       "      <td>4</td>\n",
       "    </tr>\n",
       "    <tr>\n",
       "      <th>2</th>\n",
       "      <td>1000</td>\n",
       "      <td>524</td>\n",
       "      <td>5</td>\n",
       "    </tr>\n",
       "    <tr>\n",
       "      <th>3</th>\n",
       "      <td>1000</td>\n",
       "      <td>951</td>\n",
       "      <td>3</td>\n",
       "    </tr>\n",
       "    <tr>\n",
       "      <th>4</th>\n",
       "      <td>1000</td>\n",
       "      <td>73</td>\n",
       "      <td>3</td>\n",
       "    </tr>\n",
       "    <tr>\n",
       "      <th>...</th>\n",
       "      <td>...</td>\n",
       "      <td>...</td>\n",
       "      <td>...</td>\n",
       "    </tr>\n",
       "    <tr>\n",
       "      <th>4213</th>\n",
       "      <td>1049</td>\n",
       "      <td>27</td>\n",
       "      <td>3</td>\n",
       "    </tr>\n",
       "    <tr>\n",
       "      <th>4214</th>\n",
       "      <td>1049</td>\n",
       "      <td>778</td>\n",
       "      <td>5</td>\n",
       "    </tr>\n",
       "    <tr>\n",
       "      <th>4215</th>\n",
       "      <td>1049</td>\n",
       "      <td>931</td>\n",
       "      <td>5</td>\n",
       "    </tr>\n",
       "    <tr>\n",
       "      <th>4216</th>\n",
       "      <td>1049</td>\n",
       "      <td>194</td>\n",
       "      <td>5</td>\n",
       "    </tr>\n",
       "    <tr>\n",
       "      <th>4217</th>\n",
       "      <td>1049</td>\n",
       "      <td>1071</td>\n",
       "      <td>2</td>\n",
       "    </tr>\n",
       "  </tbody>\n",
       "</table>\n",
       "<p>4218 rows × 3 columns</p>\n",
       "</div>"
      ],
      "text/plain": [
       "     user_id item_id rating\n",
       "0       1000     190      5\n",
       "1       1000     802      4\n",
       "2       1000     524      5\n",
       "3       1000     951      3\n",
       "4       1000      73      3\n",
       "...      ...     ...    ...\n",
       "4213    1049      27      3\n",
       "4214    1049     778      5\n",
       "4215    1049     931      5\n",
       "4216    1049     194      5\n",
       "4217    1049    1071      2\n",
       "\n",
       "[4218 rows x 3 columns]"
      ]
     },
     "execution_count": 28,
     "metadata": {},
     "output_type": "execute_result"
    }
   ],
   "source": [
    "num_of_ratings_list = get_num_of_ratings(num_of_ratings, add_noise=False)\n",
    "attack_df = generate_sample_attack(new_user_ids, num_of_ratings_list)\n",
    "attack_df"
   ]
  },
  {
   "cell_type": "code",
   "execution_count": 29,
   "metadata": {},
   "outputs": [
    {
     "data": {
      "text/html": [
       "<div>\n",
       "<style scoped>\n",
       "    .dataframe tbody tr th:only-of-type {\n",
       "        vertical-align: middle;\n",
       "    }\n",
       "\n",
       "    .dataframe tbody tr th {\n",
       "        vertical-align: top;\n",
       "    }\n",
       "\n",
       "    .dataframe thead th {\n",
       "        text-align: right;\n",
       "    }\n",
       "</style>\n",
       "<table border=\"1\" class=\"dataframe\">\n",
       "  <thead>\n",
       "    <tr style=\"text-align: right;\">\n",
       "      <th></th>\n",
       "      <th>user_id</th>\n",
       "      <th>item_id</th>\n",
       "      <th>rating</th>\n",
       "      <th>timestamp</th>\n",
       "    </tr>\n",
       "  </thead>\n",
       "  <tbody>\n",
       "    <tr>\n",
       "      <th>0</th>\n",
       "      <td>1</td>\n",
       "      <td>1</td>\n",
       "      <td>5</td>\n",
       "      <td>874965758.0</td>\n",
       "    </tr>\n",
       "    <tr>\n",
       "      <th>1</th>\n",
       "      <td>1</td>\n",
       "      <td>2</td>\n",
       "      <td>3</td>\n",
       "      <td>876893171.0</td>\n",
       "    </tr>\n",
       "    <tr>\n",
       "      <th>2</th>\n",
       "      <td>1</td>\n",
       "      <td>3</td>\n",
       "      <td>4</td>\n",
       "      <td>878542960.0</td>\n",
       "    </tr>\n",
       "    <tr>\n",
       "      <th>3</th>\n",
       "      <td>1</td>\n",
       "      <td>4</td>\n",
       "      <td>3</td>\n",
       "      <td>876893119.0</td>\n",
       "    </tr>\n",
       "    <tr>\n",
       "      <th>4</th>\n",
       "      <td>1</td>\n",
       "      <td>5</td>\n",
       "      <td>3</td>\n",
       "      <td>889751712.0</td>\n",
       "    </tr>\n",
       "    <tr>\n",
       "      <th>...</th>\n",
       "      <td>...</td>\n",
       "      <td>...</td>\n",
       "      <td>...</td>\n",
       "      <td>...</td>\n",
       "    </tr>\n",
       "    <tr>\n",
       "      <th>4199</th>\n",
       "      <td>1049</td>\n",
       "      <td>1162</td>\n",
       "      <td>2</td>\n",
       "      <td>NaN</td>\n",
       "    </tr>\n",
       "    <tr>\n",
       "      <th>4169</th>\n",
       "      <td>1049</td>\n",
       "      <td>1210</td>\n",
       "      <td>4</td>\n",
       "      <td>NaN</td>\n",
       "    </tr>\n",
       "    <tr>\n",
       "      <th>4094</th>\n",
       "      <td>1049</td>\n",
       "      <td>1313</td>\n",
       "      <td>3</td>\n",
       "      <td>NaN</td>\n",
       "    </tr>\n",
       "    <tr>\n",
       "      <th>4089</th>\n",
       "      <td>1049</td>\n",
       "      <td>1401</td>\n",
       "      <td>1</td>\n",
       "      <td>NaN</td>\n",
       "    </tr>\n",
       "    <tr>\n",
       "      <th>4176</th>\n",
       "      <td>1049</td>\n",
       "      <td>1404</td>\n",
       "      <td>4</td>\n",
       "      <td>NaN</td>\n",
       "    </tr>\n",
       "  </tbody>\n",
       "</table>\n",
       "<p>84218 rows × 4 columns</p>\n",
       "</div>"
      ],
      "text/plain": [
       "     user_id item_id rating    timestamp\n",
       "0          1       1      5  874965758.0\n",
       "1          1       2      3  876893171.0\n",
       "2          1       3      4  878542960.0\n",
       "3          1       4      3  876893119.0\n",
       "4          1       5      3  889751712.0\n",
       "...      ...     ...    ...          ...\n",
       "4199    1049    1162      2          NaN\n",
       "4169    1049    1210      4          NaN\n",
       "4094    1049    1313      3          NaN\n",
       "4089    1049    1401      1          NaN\n",
       "4176    1049    1404      4          NaN\n",
       "\n",
       "[84218 rows x 4 columns]"
      ]
     },
     "execution_count": 29,
     "metadata": {},
     "output_type": "execute_result"
    }
   ],
   "source": [
    "attack = pd.concat([movie, attack_df]).sort_values(by=['user_id', 'item_id'])\n",
    "attack"
   ]
  },
  {
   "cell_type": "code",
   "execution_count": 30,
   "metadata": {},
   "outputs": [
    {
     "data": {
      "text/plain": [
       "DataFrame[user_id: bigint, item_id: bigint, rating: bigint, timestamp: double]"
      ]
     },
     "execution_count": 30,
     "metadata": {},
     "output_type": "execute_result"
    }
   ],
   "source": [
    "attackedDF = spark.createDataFrame(attack)\n",
    "attackedDF"
   ]
  },
  {
   "cell_type": "markdown",
   "metadata": {},
   "source": [
    "### Random Attack with no target item"
   ]
  },
  {
   "cell_type": "code",
   "execution_count": 31,
   "metadata": {},
   "outputs": [
    {
     "data": {
      "text/plain": [
       "0.9310794384729507"
      ]
     },
     "execution_count": 31,
     "metadata": {},
     "output_type": "execute_result"
    }
   ],
   "source": [
    "# 0.1\n",
    "als = ALS(maxIter=10, rank=100, regParam=0.1, userCol=\"user_id\", itemCol=\"item_id\", ratingCol=\"rating\", coldStartStrategy=\"drop\")\n",
    "model = als.fit(attackedDF)\n",
    "predictions = model.transform(test)\n",
    "evaluator = RegressionEvaluator(metricName=\"rmse\", labelCol=\"rating\", predictionCol=\"prediction\")\n",
    "rmse = evaluator.evaluate(predictions)\n",
    "rmse"
   ]
  },
  {
   "cell_type": "code",
   "execution_count": 32,
   "metadata": {
    "scrolled": true
   },
   "outputs": [
    {
     "name": "stdout",
     "output_type": "stream",
     "text": [
      "+-------+-------+------+---------+----------+\n",
      "|user_id|item_id|rating|timestamp|prediction|\n",
      "+-------+-------+------+---------+----------+\n",
      "|    251|    148|     2|886272547| 3.1616752|\n",
      "|    332|    148|     5|887938486| 3.7175038|\n",
      "|     44|    148|     4|878346946| 3.1636636|\n",
      "|    236|    148|     4|890117028| 2.3607836|\n",
      "|    222|    148|     2|881061164|  2.949143|\n",
      "|    372|    148|     5|876869915|  3.727017|\n",
      "|    224|    148|     3|888104154|  3.234154|\n",
      "|      1|    148|     2|875240799| 2.6497324|\n",
      "|    274|    148|     2|878946133|   3.48087|\n",
      "|    178|    148|     4|882824325| 3.5990753|\n",
      "|    328|    148|     3|885048638| 3.1706047|\n",
      "|    164|    148|     5|889402203| 3.8963923|\n",
      "|    120|    148|     3|889490499| 3.1161685|\n",
      "|     92|    148|     2|877383934|  2.977059|\n",
      "|    447|    148|     4|878854729| 3.0014522|\n",
      "|     15|    148|     3|879456049| 2.9059622|\n",
      "|     59|    148|     3|888203175| 3.1267412|\n",
      "|     49|    148|     1|888068195| 1.3492426|\n",
      "|    130|    148|     4|876251127| 3.8788419|\n",
      "|    244|    148|     2|880605071| 2.7933638|\n",
      "+-------+-------+------+---------+----------+\n",
      "only showing top 20 rows\n",
      "\n"
     ]
    }
   ],
   "source": [
    "predictions.show()"
   ]
  },
  {
   "cell_type": "code",
   "execution_count": 33,
   "metadata": {},
   "outputs": [
    {
     "name": "stdout",
     "output_type": "stream",
     "text": [
      "Total users with 243: 0\n"
     ]
    }
   ],
   "source": [
    "userRecs = model.recommendForAllUsers(10)\n",
    "userRecs = userRecs.toPandas()\n",
    "\n",
    "target_item = 243\n",
    "count = 0\n",
    "for index, row in userRecs.iterrows():\n",
    "    recommendations = [r['item_id'] for r in row['recommendations']]\n",
    "    if target_item in recommendations:\n",
    "        print(row['user_id'], recommendations)\n",
    "        count += 1\n",
    "print(f'Total users with {target_item}: {count}')"
   ]
  },
  {
   "cell_type": "code",
   "execution_count": 34,
   "metadata": {},
   "outputs": [],
   "source": [
    "def get_n_recommendations(predictions, n=10):\n",
    "    p = predictions.sort_values(by=['user_id', 'prediction'], ascending=[True, False])\n",
    "    p2 = p.groupby('user_id')['item_id'].apply(list).reset_index(name='movies')\n",
    "    p2['movies'] = p2['movies'].apply(lambda l: l[:n])\n",
    "    return p2\n",
    "\n",
    "def get_occurences(top_rec, target_item):\n",
    "    t = top_rec['movies'].to_numpy()\n",
    "    count = 0\n",
    "    for i in t:\n",
    "        for j in i:\n",
    "            if j == target_item:\n",
    "                count += 1\n",
    "    return count"
   ]
  },
  {
   "cell_type": "code",
   "execution_count": 35,
   "metadata": {
    "scrolled": true
   },
   "outputs": [
    {
     "data": {
      "text/html": [
       "<div>\n",
       "<style scoped>\n",
       "    .dataframe tbody tr th:only-of-type {\n",
       "        vertical-align: middle;\n",
       "    }\n",
       "\n",
       "    .dataframe tbody tr th {\n",
       "        vertical-align: top;\n",
       "    }\n",
       "\n",
       "    .dataframe thead th {\n",
       "        text-align: right;\n",
       "    }\n",
       "</style>\n",
       "<table border=\"1\" class=\"dataframe\">\n",
       "  <thead>\n",
       "    <tr style=\"text-align: right;\">\n",
       "      <th></th>\n",
       "      <th>user_id</th>\n",
       "      <th>movies</th>\n",
       "    </tr>\n",
       "  </thead>\n",
       "  <tbody>\n",
       "    <tr>\n",
       "      <th>0</th>\n",
       "      <td>1</td>\n",
       "      <td>[98, 134, 64, 171, 174, 12, 100, 189, 190, 183]</td>\n",
       "    </tr>\n",
       "    <tr>\n",
       "      <th>1</th>\n",
       "      <td>2</td>\n",
       "      <td>[251, 19, 50, 313, 315, 316, 297, 292, 303, 298]</td>\n",
       "    </tr>\n",
       "    <tr>\n",
       "      <th>2</th>\n",
       "      <td>3</td>\n",
       "      <td>[272, 318, 345, 327, 307, 337, 324, 354, 334, ...</td>\n",
       "    </tr>\n",
       "    <tr>\n",
       "      <th>3</th>\n",
       "      <td>4</td>\n",
       "      <td>[357, 50, 361, 303, 354, 294, 288, 260, 264, 356]</td>\n",
       "    </tr>\n",
       "    <tr>\n",
       "      <th>4</th>\n",
       "      <td>5</td>\n",
       "      <td>[173, 89, 176, 100, 1, 445, 109, 222, 79, 144]</td>\n",
       "    </tr>\n",
       "    <tr>\n",
       "      <th>...</th>\n",
       "      <td>...</td>\n",
       "      <td>...</td>\n",
       "    </tr>\n",
       "    <tr>\n",
       "      <th>454</th>\n",
       "      <td>457</td>\n",
       "      <td>[443, 192, 182, 636, 708, 366, 704, 775]</td>\n",
       "    </tr>\n",
       "    <tr>\n",
       "      <th>455</th>\n",
       "      <td>458</td>\n",
       "      <td>[1101, 648, 144]</td>\n",
       "    </tr>\n",
       "    <tr>\n",
       "      <th>456</th>\n",
       "      <td>459</td>\n",
       "      <td>[934]</td>\n",
       "    </tr>\n",
       "    <tr>\n",
       "      <th>457</th>\n",
       "      <td>460</td>\n",
       "      <td>[10]</td>\n",
       "    </tr>\n",
       "    <tr>\n",
       "      <th>458</th>\n",
       "      <td>462</td>\n",
       "      <td>[682]</td>\n",
       "    </tr>\n",
       "  </tbody>\n",
       "</table>\n",
       "<p>459 rows × 2 columns</p>\n",
       "</div>"
      ],
      "text/plain": [
       "     user_id                                             movies\n",
       "0          1    [98, 134, 64, 171, 174, 12, 100, 189, 190, 183]\n",
       "1          2   [251, 19, 50, 313, 315, 316, 297, 292, 303, 298]\n",
       "2          3  [272, 318, 345, 327, 307, 337, 324, 354, 334, ...\n",
       "3          4  [357, 50, 361, 303, 354, 294, 288, 260, 264, 356]\n",
       "4          5     [173, 89, 176, 100, 1, 445, 109, 222, 79, 144]\n",
       "..       ...                                                ...\n",
       "454      457           [443, 192, 182, 636, 708, 366, 704, 775]\n",
       "455      458                                   [1101, 648, 144]\n",
       "456      459                                              [934]\n",
       "457      460                                               [10]\n",
       "458      462                                              [682]\n",
       "\n",
       "[459 rows x 2 columns]"
      ]
     },
     "execution_count": 35,
     "metadata": {},
     "output_type": "execute_result"
    }
   ],
   "source": [
    "top_10 = get_n_recommendations(predictions.toPandas(), n=10)\n",
    "top_10"
   ]
  },
  {
   "cell_type": "code",
   "execution_count": 36,
   "metadata": {},
   "outputs": [
    {
     "data": {
      "text/plain": [
       "5"
      ]
     },
     "execution_count": 36,
     "metadata": {},
     "output_type": "execute_result"
    }
   ],
   "source": [
    "get_occurences(top_10, 243)"
   ]
  },
  {
   "cell_type": "markdown",
   "metadata": {},
   "source": [
    "### Attack with target item 243"
   ]
  },
  {
   "cell_type": "code",
   "execution_count": 37,
   "metadata": {},
   "outputs": [],
   "source": [
    "attack_df = generate_sample_attack(new_user_ids, num_of_ratings_list, target_item=[243])\n",
    "attack = pd.concat([movie, attack_df]).sort_values(by=['user_id', 'item_id'])\n",
    "attackedDF = spark.createDataFrame(attack)"
   ]
  },
  {
   "cell_type": "code",
   "execution_count": 38,
   "metadata": {
    "scrolled": true
   },
   "outputs": [
    {
     "data": {
      "text/plain": [
       "0.931017956818702"
      ]
     },
     "execution_count": 38,
     "metadata": {},
     "output_type": "execute_result"
    }
   ],
   "source": [
    "# 0.1\n",
    "als = ALS(maxIter=10, rank=100, regParam=0.1, userCol=\"user_id\", itemCol=\"item_id\", ratingCol=\"rating\", coldStartStrategy=\"drop\")\n",
    "model = als.fit(attackedDF)\n",
    "predictions = model.transform(test)\n",
    "evaluator = RegressionEvaluator(metricName=\"rmse\", labelCol=\"rating\", predictionCol=\"prediction\")\n",
    "rmse = evaluator.evaluate(predictions)\n",
    "rmse"
   ]
  },
  {
   "cell_type": "code",
   "execution_count": 39,
   "metadata": {},
   "outputs": [
    {
     "name": "stdout",
     "output_type": "stream",
     "text": [
      "+-------+-------+------+---------+----------+\n",
      "|user_id|item_id|rating|timestamp|prediction|\n",
      "+-------+-------+------+---------+----------+\n",
      "|    251|    148|     2|886272547| 3.1732752|\n",
      "|    332|    148|     5|887938486|  3.717844|\n",
      "|     44|    148|     4|878346946| 3.1718524|\n",
      "|    236|    148|     4|890117028| 2.3460917|\n",
      "|    222|    148|     2|881061164| 2.9492538|\n",
      "|    372|    148|     5|876869915| 3.7240727|\n",
      "|    224|    148|     3|888104154| 3.2367597|\n",
      "|      1|    148|     2|875240799| 2.6556787|\n",
      "|    274|    148|     2|878946133|  3.475436|\n",
      "|    178|    148|     4|882824325|  3.603771|\n",
      "|    328|    148|     3|885048638|  3.172769|\n",
      "|    164|    148|     5|889402203| 3.9102132|\n",
      "|    120|    148|     3|889490499| 3.0954247|\n",
      "|     92|    148|     2|877383934|  2.996205|\n",
      "|    447|    148|     4|878854729| 3.0121357|\n",
      "|     15|    148|     3|879456049|   2.92254|\n",
      "|     59|    148|     3|888203175| 3.1321208|\n",
      "|     49|    148|     1|888068195| 1.3358644|\n",
      "|    130|    148|     4|876251127| 3.8802567|\n",
      "|    244|    148|     2|880605071| 2.8012762|\n",
      "+-------+-------+------+---------+----------+\n",
      "only showing top 20 rows\n",
      "\n"
     ]
    }
   ],
   "source": [
    "predictions.show()"
   ]
  },
  {
   "cell_type": "code",
   "execution_count": 40,
   "metadata": {},
   "outputs": [
    {
     "data": {
      "text/html": [
       "<div>\n",
       "<style scoped>\n",
       "    .dataframe tbody tr th:only-of-type {\n",
       "        vertical-align: middle;\n",
       "    }\n",
       "\n",
       "    .dataframe tbody tr th {\n",
       "        vertical-align: top;\n",
       "    }\n",
       "\n",
       "    .dataframe thead th {\n",
       "        text-align: right;\n",
       "    }\n",
       "</style>\n",
       "<table border=\"1\" class=\"dataframe\">\n",
       "  <thead>\n",
       "    <tr style=\"text-align: right;\">\n",
       "      <th></th>\n",
       "      <th>user_id</th>\n",
       "      <th>movies</th>\n",
       "    </tr>\n",
       "  </thead>\n",
       "  <tbody>\n",
       "    <tr>\n",
       "      <th>0</th>\n",
       "      <td>1</td>\n",
       "      <td>[98, 134, 64, 171, 174, 12, 100, 189, 190, 183]</td>\n",
       "    </tr>\n",
       "    <tr>\n",
       "      <th>1</th>\n",
       "      <td>2</td>\n",
       "      <td>[251, 19, 50, 313, 315, 316, 297, 292, 303, 298]</td>\n",
       "    </tr>\n",
       "    <tr>\n",
       "      <th>2</th>\n",
       "      <td>3</td>\n",
       "      <td>[272, 318, 345, 307, 327, 337, 324, 331, 354, ...</td>\n",
       "    </tr>\n",
       "    <tr>\n",
       "      <th>3</th>\n",
       "      <td>4</td>\n",
       "      <td>[357, 50, 361, 303, 354, 294, 288, 260, 264, 356]</td>\n",
       "    </tr>\n",
       "    <tr>\n",
       "      <th>4</th>\n",
       "      <td>5</td>\n",
       "      <td>[173, 89, 176, 100, 1, 445, 109, 222, 79, 144]</td>\n",
       "    </tr>\n",
       "    <tr>\n",
       "      <th>...</th>\n",
       "      <td>...</td>\n",
       "      <td>...</td>\n",
       "    </tr>\n",
       "    <tr>\n",
       "      <th>454</th>\n",
       "      <td>457</td>\n",
       "      <td>[443, 192, 182, 636, 708, 366, 704, 775]</td>\n",
       "    </tr>\n",
       "    <tr>\n",
       "      <th>455</th>\n",
       "      <td>458</td>\n",
       "      <td>[1101, 648, 144]</td>\n",
       "    </tr>\n",
       "    <tr>\n",
       "      <th>456</th>\n",
       "      <td>459</td>\n",
       "      <td>[934]</td>\n",
       "    </tr>\n",
       "    <tr>\n",
       "      <th>457</th>\n",
       "      <td>460</td>\n",
       "      <td>[10]</td>\n",
       "    </tr>\n",
       "    <tr>\n",
       "      <th>458</th>\n",
       "      <td>462</td>\n",
       "      <td>[682]</td>\n",
       "    </tr>\n",
       "  </tbody>\n",
       "</table>\n",
       "<p>459 rows × 2 columns</p>\n",
       "</div>"
      ],
      "text/plain": [
       "     user_id                                             movies\n",
       "0          1    [98, 134, 64, 171, 174, 12, 100, 189, 190, 183]\n",
       "1          2   [251, 19, 50, 313, 315, 316, 297, 292, 303, 298]\n",
       "2          3  [272, 318, 345, 307, 327, 337, 324, 331, 354, ...\n",
       "3          4  [357, 50, 361, 303, 354, 294, 288, 260, 264, 356]\n",
       "4          5     [173, 89, 176, 100, 1, 445, 109, 222, 79, 144]\n",
       "..       ...                                                ...\n",
       "454      457           [443, 192, 182, 636, 708, 366, 704, 775]\n",
       "455      458                                   [1101, 648, 144]\n",
       "456      459                                              [934]\n",
       "457      460                                               [10]\n",
       "458      462                                              [682]\n",
       "\n",
       "[459 rows x 2 columns]"
      ]
     },
     "execution_count": 40,
     "metadata": {},
     "output_type": "execute_result"
    }
   ],
   "source": [
    "top_10 = get_n_recommendations(predictions.toPandas(), n=10)\n",
    "top_10"
   ]
  },
  {
   "cell_type": "code",
   "execution_count": 41,
   "metadata": {},
   "outputs": [
    {
     "data": {
      "text/plain": [
       "5"
      ]
     },
     "execution_count": 41,
     "metadata": {},
     "output_type": "execute_result"
    }
   ],
   "source": [
    "get_occurences(top_10, 243)"
   ]
  },
  {
   "cell_type": "code",
   "execution_count": 42,
   "metadata": {},
   "outputs": [
    {
     "name": "stdout",
     "output_type": "stream",
     "text": [
      "1025 [524, 128, 190, 945, 162, 272, 443, 243, 321, 151]\n",
      "1005 [524, 190, 272, 128, 162, 443, 151, 243, 321, 945]\n",
      "1016 [524, 190, 443, 162, 151, 272, 243, 128, 945, 321]\n",
      "1031 [190, 524, 162, 443, 272, 151, 243, 128, 321, 945]\n",
      "1030 [524, 128, 190, 162, 243, 443, 945, 272, 321, 151]\n",
      "1034 [524, 190, 128, 162, 443, 243, 272, 321, 151, 945]\n",
      "1019 [190, 524, 162, 443, 272, 151, 321, 243, 128, 945]\n",
      "1046 [524, 128, 190, 162, 443, 243, 272, 945, 321, 151]\n",
      "1047 [524, 190, 443, 162, 272, 151, 128, 243, 945, 512]\n",
      "1021 [524, 190, 272, 128, 162, 443, 151, 243, 321, 945]\n",
      "1026 [524, 190, 443, 151, 162, 272, 243, 128, 945, 512]\n",
      "1028 [190, 524, 443, 162, 151, 272, 243, 128, 945, 321]\n",
      "1029 [190, 524, 443, 162, 151, 272, 128, 243, 945, 321]\n",
      "1002 [524, 190, 443, 162, 272, 151, 128, 243, 945, 512]\n",
      "1048 [524, 190, 443, 151, 162, 272, 243, 128, 945, 512]\n",
      "1035 [524, 128, 190, 162, 945, 272, 443, 243, 321, 615]\n",
      "1045 [524, 190, 443, 151, 243, 272, 162, 128, 945, 321]\n",
      "1017 [190, 524, 443, 162, 151, 272, 128, 243, 945, 321]\n",
      "1037 [524, 128, 945, 190, 162, 272, 443, 963, 243, 321]\n",
      "1036 [524, 190, 443, 151, 162, 272, 243, 128, 945, 512]\n",
      "1022 [524, 128, 190, 162, 243, 443, 272, 945, 321, 151]\n",
      "1015 [524, 190, 443, 151, 243, 272, 162, 128, 945, 321]\n",
      "1000 [524, 190, 162, 128, 443, 272, 151, 243, 321, 945]\n",
      "1020 [524, 190, 443, 162, 272, 151, 128, 243, 945, 512]\n",
      "1001 [524, 128, 190, 162, 443, 243, 272, 945, 321, 151]\n",
      "1007 [190, 524, 443, 162, 272, 128, 151, 321, 243, 945]\n",
      "1039 [524, 128, 190, 243, 162, 443, 945, 272, 321, 151]\n",
      "261 [272, 300, 161, 1220, 243, 118, 313, 748, 190, 316]\n",
      "1003 [190, 524, 162, 443, 272, 151, 243, 128, 321, 945]\n",
      "1038 [190, 524, 443, 162, 151, 272, 243, 128, 945, 321]\n",
      "1042 [524, 128, 945, 162, 190, 272, 963, 443, 512, 243]\n",
      "1014 [524, 190, 128, 162, 945, 272, 243, 443, 321, 151]\n",
      "1023 [524, 190, 128, 162, 443, 272, 151, 243, 321, 945]\n",
      "1040 [524, 128, 190, 945, 162, 272, 443, 243, 321, 151]\n",
      "1024 [190, 524, 162, 443, 151, 272, 243, 128, 321, 945]\n",
      "1018 [524, 190, 272, 128, 162, 443, 151, 321, 243, 945]\n",
      "1004 [524, 190, 162, 128, 443, 272, 151, 243, 321, 945]\n",
      "1011 [524, 190, 443, 162, 151, 272, 243, 128, 945, 321]\n",
      "1012 [190, 524, 162, 443, 151, 272, 243, 128, 321, 945]\n",
      "1013 [190, 524, 162, 443, 151, 272, 243, 128, 321, 945]\n",
      "Total users with 243: 40\n"
     ]
    }
   ],
   "source": [
    "userRecs = model.recommendForAllUsers(10)\n",
    "userRecs = userRecs.toPandas()\n",
    "\n",
    "target_item = 243\n",
    "count = 0\n",
    "for index, row in userRecs.iterrows():\n",
    "    recommendations = [r['item_id'] for r in row['recommendations']]\n",
    "    if target_item in recommendations:\n",
    "        print(row['user_id'], recommendations)\n",
    "        count += 1\n",
    "print(f'Total users with {target_item}: {count}')"
   ]
  },
  {
   "cell_type": "markdown",
   "metadata": {},
   "source": [
    "### Attack with target item [1580 1581 1577 1583 1570]"
   ]
  },
  {
   "cell_type": "code",
   "execution_count": 43,
   "metadata": {},
   "outputs": [],
   "source": [
    "attack_df = generate_sample_attack(new_user_ids, num_of_ratings_list, target_item=target_items)\n",
    "attack = pd.concat([movie, attack_df]).sort_values(by=['user_id', 'item_id'])\n",
    "attackedDF = spark.createDataFrame(attack)"
   ]
  },
  {
   "cell_type": "code",
   "execution_count": 44,
   "metadata": {},
   "outputs": [
    {
     "data": {
      "text/plain": [
       "0.9310191905481484"
      ]
     },
     "execution_count": 44,
     "metadata": {},
     "output_type": "execute_result"
    }
   ],
   "source": [
    "# 0.1\n",
    "als = ALS(maxIter=10, rank=100, regParam=0.1, userCol=\"user_id\", itemCol=\"item_id\", ratingCol=\"rating\", coldStartStrategy=\"drop\")\n",
    "model = als.fit(attackedDF)\n",
    "predictions = model.transform(test)\n",
    "evaluator = RegressionEvaluator(metricName=\"rmse\", labelCol=\"rating\", predictionCol=\"prediction\")\n",
    "rmse = evaluator.evaluate(predictions)\n",
    "rmse"
   ]
  },
  {
   "cell_type": "markdown",
   "metadata": {},
   "source": [
    "##### Prediction Shift"
   ]
  },
  {
   "cell_type": "code",
   "execution_count": 45,
   "metadata": {},
   "outputs": [],
   "source": [
    "def prediction_shift(predBefore, predAtk, target_users, testDf):\n",
    "    \n",
    "    targetUsersTest = testDf[testDf.user_id.isin(target_users)]\n",
    "    numTargetUsersInTest = len(targetUsersTest.user_id.unique())\n",
    "    print(f'Number of target users in test: {numTargetUsersInTest}')\n",
    "    \n",
    "    # - Prediction shift across targetted users\n",
    "    predAttackTargetUser = predAtk[predAtk.user_id.isin(target_users)].sort_values(['user_id', 'item_id']).prediction\n",
    "    predTargetUser = predBefore[predBefore.user_id.isin(target_users)].sort_values(['user_id', 'item_id']).prediction\n",
    "    targetUserPredShift = np.sum(predAttackTargetUser - predTargetUser)/numTargetUsersInTest\n",
    "    \n",
    "    predAfterAttack = predAtk.sort_values(['user_id', 'item_id']).prediction\n",
    "    predBeforeAttack = predBefore.sort_values(['user_id', 'item_id']).prediction\n",
    "    allUsersPredShift = np.sum(predAfterAttack - predBeforeAttack)/len(testDf.user_id.unique())\n",
    "    \n",
    "    return (allUsersPredShift, targetUserPredShift)"
   ]
  },
  {
   "cell_type": "code",
   "execution_count": 46,
   "metadata": {},
   "outputs": [
    {
     "name": "stdout",
     "output_type": "stream",
     "text": [
      "Number of target users in test: 296\n"
     ]
    }
   ],
   "source": [
    "predAtk = predictions.toPandas()\n",
    "\n",
    "allUsersPredShift, targetUserPredShift = prediction_shift(predBefore, predAtk, target_users, testDf)"
   ]
  },
  {
   "cell_type": "code",
   "execution_count": 47,
   "metadata": {},
   "outputs": [
    {
     "name": "stdout",
     "output_type": "stream",
     "text": [
      "Prediction shift - Target users:  0.035557901537096176\n",
      "Prediction shift - All users:  -0.00015769441143360013\n"
     ]
    }
   ],
   "source": [
    "print(\"Prediction shift - Target users: \", targetUserPredShift)\n",
    "print(\"Prediction shift - All users: \", allUsersPredShift)"
   ]
  },
  {
   "cell_type": "markdown",
   "metadata": {},
   "source": [
    "##### Hit Ratio"
   ]
  },
  {
   "cell_type": "code",
   "execution_count": 48,
   "metadata": {},
   "outputs": [],
   "source": [
    "def getTopNRecommendations(test_model, testUserIds, n=10):\n",
    "    recommendations = {}\n",
    "    userRecs = test_model.recommendForAllUsers(10)\n",
    "    userRecs = userRecs.toPandas()\n",
    "    for index, row in userRecs.iterrows():\n",
    "        if row['user_id'] in testUserIds:\n",
    "            userRec = [r['item_id'] for r in row['recommendations']]\n",
    "            recommendations[row['user_id']] = userRec \n",
    "    return recommendations\n",
    "\n",
    "def filterRecsByTargetItem(recommendations, targetItems):\n",
    "    recWithTargetItems = {}\n",
    "    for user_id in recommendations.keys():\n",
    "        topNRec = recommendations[user_id]\n",
    "        is_target_item_present = any(item in topNRec for item in targetItems)\n",
    "        if is_target_item_present:\n",
    "            recWithTargetItems[user_id] = topNRec\n",
    "            #print(user_id, topNRec)\n",
    "    \n",
    "    return recWithTargetItems"
   ]
  },
  {
   "cell_type": "code",
   "execution_count": 49,
   "metadata": {},
   "outputs": [
    {
     "data": {
      "text/plain": [
       "459"
      ]
     },
     "execution_count": 49,
     "metadata": {},
     "output_type": "execute_result"
    }
   ],
   "source": [
    "testUserIds = testDf.user_id.unique()\n",
    "len(testUserIds)"
   ]
  },
  {
   "cell_type": "code",
   "execution_count": 50,
   "metadata": {},
   "outputs": [
    {
     "name": "stdout",
     "output_type": "stream",
     "text": [
      "Number of users with targets: 7\n"
     ]
    }
   ],
   "source": [
    "testUserIds = testDf.user_id.unique()\n",
    "topNRecAllUsersAtk = getTopNRecommendations(model, testUserIds)\n",
    "topNRecAllUsersWithTargets = filterRecsByTargetItem(topNRecAllUsersAtk, target_items)\n",
    "print(f'Number of users with targets: {len(topNRecAllUsersWithTargets)}')"
   ]
  },
  {
   "cell_type": "code",
   "execution_count": 51,
   "metadata": {},
   "outputs": [
    {
     "name": "stdout",
     "output_type": "stream",
     "text": [
      "Number of users with targets before attack: 2\n"
     ]
    }
   ],
   "source": [
    "topNRecAllUsersB4 = getTopNRecommendations(modelBefore, testUserIds)\n",
    "topNRecAllUsersWithTargetsB4 = filterRecsByTargetItem(topNRecAllUsersB4, target_items)\n",
    "print(f'Number of users with targets before attack: {len(topNRecAllUsersWithTargetsB4)}')"
   ]
  },
  {
   "cell_type": "code",
   "execution_count": 52,
   "metadata": {},
   "outputs": [],
   "source": [
    "def getHitRatioPerItem(topNRecAllUsers, targetItems):\n",
    "    hitRatioAllItems = {}\n",
    "    \n",
    "    for item in targetItems:\n",
    "        usersWithItem = 0\n",
    "        for user in topNRecAllUsers.keys():\n",
    "            if item in topNRecAllUsers[user]:\n",
    "                usersWithItem += 1\n",
    "        hitRatio_i = usersWithItem/(len(topNRecAllUsers.keys()) * 1.0)\n",
    "        hitRatioAllItems[item] = hitRatio_i\n",
    "                                    \n",
    "    return hitRatioAllItems \n",
    "\n",
    "def getAvgHitRatio(hitRatioPerItem):\n",
    "    sumHitRatio = 0\n",
    "    for hitRatio_i in hitRatioPerItem.values():\n",
    "        sumHitRatio += hitRatio_i \n",
    "    return sumHitRatio/(len(hitRatioPerItem.keys()) * 1.0)"
   ]
  },
  {
   "cell_type": "code",
   "execution_count": 53,
   "metadata": {},
   "outputs": [
    {
     "name": "stdout",
     "output_type": "stream",
     "text": [
      "hitRatioPerItem:  {868: 0.0, 1162: 0.0, 927: 0.006535947712418301, 1521: 0.0, 1301: 0.0, 1191: 0.013071895424836602}\n",
      "\n",
      "avgHitRatio after attack:  0.0032679738562091504\n"
     ]
    }
   ],
   "source": [
    "hitRatioPerItem = getHitRatioPerItem(topNRecAllUsersAtk, target_items)\n",
    "print(\"hitRatioPerItem: \", hitRatioPerItem)\n",
    "avgHitRatio = getAvgHitRatio(hitRatioPerItem)\n",
    "print(\"\\navgHitRatio after attack: \", avgHitRatio)"
   ]
  },
  {
   "cell_type": "markdown",
   "metadata": {},
   "source": [
    "### 1000 Generated (TRASH)"
   ]
  },
  {
   "cell_type": "code",
   "execution_count": null,
   "metadata": {},
   "outputs": [],
   "source": [
    "injections = 10000\n",
    "# 50 user profiles\n",
    "# Generate according to the distribution"
   ]
  },
  {
   "cell_type": "code",
   "execution_count": null,
   "metadata": {},
   "outputs": [],
   "source": [
    "random_ratings = movie['rating'].sample(n=injections, random_state=1, replace=True).to_numpy()\n",
    "#random_ratings"
   ]
  },
  {
   "cell_type": "code",
   "execution_count": null,
   "metadata": {},
   "outputs": [],
   "source": [
    "plt.hist(random_ratings)"
   ]
  },
  {
   "cell_type": "code",
   "execution_count": null,
   "metadata": {},
   "outputs": [],
   "source": [
    "random_users = movie['user_id'].sample(n=injections, random_state=2, replace=True).to_numpy()\n",
    "#random_users"
   ]
  },
  {
   "cell_type": "code",
   "execution_count": null,
   "metadata": {},
   "outputs": [],
   "source": [
    "plt.hist(random_users)"
   ]
  },
  {
   "cell_type": "code",
   "execution_count": null,
   "metadata": {},
   "outputs": [],
   "source": [
    "random_movies = movie['item_id'].sample(n=injections, random_state=3).to_numpy()\n",
    "#random_movies"
   ]
  },
  {
   "cell_type": "code",
   "execution_count": null,
   "metadata": {},
   "outputs": [],
   "source": [
    "plt.hist(random_movies)"
   ]
  },
  {
   "cell_type": "code",
   "execution_count": null,
   "metadata": {},
   "outputs": [],
   "source": [
    "attack_1000 = pd.DataFrame({'user_id': random_users, 'item_id': random_movies, 'rating': random_ratings})\n",
    "attack_1000"
   ]
  },
  {
   "cell_type": "code",
   "execution_count": null,
   "metadata": {},
   "outputs": [],
   "source": [
    "attack = pd.concat([movie, attack_1000]).sort_values(by=['user_id', 'item_id'])\n",
    "attack"
   ]
  },
  {
   "cell_type": "code",
   "execution_count": null,
   "metadata": {},
   "outputs": [],
   "source": [
    "attackedDF = spark.createDataFrame(attack)\n",
    "attackedDF"
   ]
  },
  {
   "cell_type": "markdown",
   "metadata": {},
   "source": [
    "# Evaluate based on the random attack"
   ]
  },
  {
   "cell_type": "code",
   "execution_count": null,
   "metadata": {},
   "outputs": [],
   "source": [
    "# 0.1\n",
    "als = ALS(maxIter=10, rank=100, regParam=0.1, userCol=\"user_id\", itemCol=\"item_id\", ratingCol=\"rating\", coldStartStrategy=\"drop\")\n",
    "model = als.fit(attackedDF)\n",
    "predictions = model.transform(test)\n",
    "evaluator = RegressionEvaluator(metricName=\"rmse\", labelCol=\"rating\", predictionCol=\"prediction\")\n",
    "rmse = evaluator.evaluate(predictions)\n",
    "rmse"
   ]
  },
  {
   "cell_type": "markdown",
   "metadata": {},
   "source": [
    "RMSE is basically the same.."
   ]
  },
  {
   "cell_type": "code",
   "execution_count": null,
   "metadata": {},
   "outputs": [],
   "source": [
    "predictions.show()"
   ]
  },
  {
   "cell_type": "code",
   "execution_count": null,
   "metadata": {},
   "outputs": [],
   "source": []
  },
  {
   "cell_type": "code",
   "execution_count": null,
   "metadata": {},
   "outputs": [],
   "source": []
  }
 ],
 "metadata": {
  "kernelspec": {
   "display_name": "Python 3",
   "language": "python",
   "name": "python3"
  },
  "language_info": {
   "codemirror_mode": {
    "name": "ipython",
    "version": 3
   },
   "file_extension": ".py",
   "mimetype": "text/x-python",
   "name": "python",
   "nbconvert_exporter": "python",
   "pygments_lexer": "ipython3",
   "version": "3.8.5"
  }
 },
 "nbformat": 4,
 "nbformat_minor": 4
}
